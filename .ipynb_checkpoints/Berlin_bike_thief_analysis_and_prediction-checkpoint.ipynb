{
 "cells": [
  {
   "cell_type": "markdown",
   "id": "ddb5f2d0",
   "metadata": {},
   "source": [
    "### Data exploratory analysis"
   ]
  },
  {
   "cell_type": "code",
   "execution_count": 122,
   "id": "66cdc1b3",
   "metadata": {},
   "outputs": [],
   "source": [
    "import pandas as pd\n",
    "import numpy as np\n",
    "import matplotlib.pyplot as plt\n",
    "import matplotlib.pyplot as plt\n",
    "import seaborn as sns"
   ]
  },
  {
   "cell_type": "code",
   "execution_count": 64,
   "id": "1af23b71",
   "metadata": {},
   "outputs": [
    {
     "name": "stdout",
     "output_type": "stream",
     "text": [
      "<class 'pandas.core.frame.DataFrame'>\n",
      "RangeIndex: 32537 entries, 0 to 32536\n",
      "Data columns (total 18 columns):\n",
      " #   Column                   Non-Null Count  Dtype \n",
      "---  ------                   --------------  ----- \n",
      " 0   Record_date              32537 non-null  object\n",
      " 1   Record_day               32537 non-null  int64 \n",
      " 2   Record_month             32537 non-null  int64 \n",
      " 3   Record_year              32537 non-null  int64 \n",
      " 4   Stealing_date            32537 non-null  object\n",
      " 5   Stealing_hour            32537 non-null  int64 \n",
      " 6   Report_stealing_date     32537 non-null  object\n",
      " 7   Report_stealing_hour     32537 non-null  int64 \n",
      " 8   Berlin_code_area         32537 non-null  int64 \n",
      " 9   Bike_value               32537 non-null  int64 \n",
      " 10  Unsuccesful_attempt      32537 non-null  object\n",
      " 11  Bike_type                32537 non-null  object\n",
      " 12  Crime_type               32537 non-null  object\n",
      " 13  Crime_reason             32537 non-null  object\n",
      " 14  Administrative_district  32537 non-null  object\n",
      " 15  District                 32537 non-null  object\n",
      " 16  Quarter                  32537 non-null  object\n",
      " 17  Street_name              32537 non-null  object\n",
      "dtypes: int64(7), object(11)\n",
      "memory usage: 4.5+ MB\n"
     ]
    }
   ],
   "source": [
    "url = r'https://raw.githubusercontent.com/MSI17819/Berlin_bike_theft_prediction/main/Berlin_bike_thief_file_for_analysis.csv'\n",
    "\n",
    "df = pd.read_csv(url, sep=',', encoding=\"utf-8\")\n",
    "\n",
    "df.info()"
   ]
  },
  {
   "cell_type": "code",
   "execution_count": 65,
   "id": "2ae6d995",
   "metadata": {},
   "outputs": [
    {
     "data": {
      "text/html": [
       "<div>\n",
       "<style scoped>\n",
       "    .dataframe tbody tr th:only-of-type {\n",
       "        vertical-align: middle;\n",
       "    }\n",
       "\n",
       "    .dataframe tbody tr th {\n",
       "        vertical-align: top;\n",
       "    }\n",
       "\n",
       "    .dataframe thead th {\n",
       "        text-align: right;\n",
       "    }\n",
       "</style>\n",
       "<table border=\"1\" class=\"dataframe\">\n",
       "  <thead>\n",
       "    <tr style=\"text-align: right;\">\n",
       "      <th></th>\n",
       "      <th>Record_date</th>\n",
       "      <th>Record_day</th>\n",
       "      <th>Record_month</th>\n",
       "      <th>Record_year</th>\n",
       "      <th>Stealing_date</th>\n",
       "      <th>Stealing_hour</th>\n",
       "      <th>Report_stealing_date</th>\n",
       "      <th>Report_stealing_hour</th>\n",
       "      <th>Berlin_code_area</th>\n",
       "      <th>Bike_value</th>\n",
       "      <th>Unsuccesful_attempt</th>\n",
       "      <th>Bike_type</th>\n",
       "      <th>Crime_type</th>\n",
       "      <th>Crime_reason</th>\n",
       "      <th>Administrative_district</th>\n",
       "      <th>District</th>\n",
       "      <th>Quarter</th>\n",
       "      <th>Street_name</th>\n",
       "    </tr>\n",
       "  </thead>\n",
       "  <tbody>\n",
       "    <tr>\n",
       "      <th>0</th>\n",
       "      <td>2022-08-10</td>\n",
       "      <td>10</td>\n",
       "      <td>8</td>\n",
       "      <td>2022</td>\n",
       "      <td>2022-08-10</td>\n",
       "      <td>0</td>\n",
       "      <td>2022-08-10</td>\n",
       "      <td>0</td>\n",
       "      <td>3400619</td>\n",
       "      <td>300</td>\n",
       "      <td>No</td>\n",
       "      <td>Mountain</td>\n",
       "      <td>Theft</td>\n",
       "      <td>Aggravated theft</td>\n",
       "      <td>Pankow</td>\n",
       "      <td>Südliches Pankow</td>\n",
       "      <td>Schönholz/Wilhelmsruh/Rosenthal</td>\n",
       "      <td>Wilhelmsruh</td>\n",
       "    </tr>\n",
       "    <tr>\n",
       "      <th>1</th>\n",
       "      <td>2022-08-10</td>\n",
       "      <td>10</td>\n",
       "      <td>8</td>\n",
       "      <td>2022</td>\n",
       "      <td>2022-08-09</td>\n",
       "      <td>15</td>\n",
       "      <td>2022-08-10</td>\n",
       "      <td>0</td>\n",
       "      <td>7601544</td>\n",
       "      <td>800</td>\n",
       "      <td>No</td>\n",
       "      <td>Men</td>\n",
       "      <td>Theft</td>\n",
       "      <td>Aggravated theft</td>\n",
       "      <td>Tempelhof-Schöneberg</td>\n",
       "      <td>Marienfelde / Lichtenrade</td>\n",
       "      <td>Lichtenrade Süd</td>\n",
       "      <td>John-Locke-Straße</td>\n",
       "    </tr>\n",
       "    <tr>\n",
       "      <th>2</th>\n",
       "      <td>2022-08-10</td>\n",
       "      <td>10</td>\n",
       "      <td>8</td>\n",
       "      <td>2022</td>\n",
       "      <td>2022-08-09</td>\n",
       "      <td>15</td>\n",
       "      <td>2022-08-10</td>\n",
       "      <td>6</td>\n",
       "      <td>5100211</td>\n",
       "      <td>212</td>\n",
       "      <td>No</td>\n",
       "      <td>Men</td>\n",
       "      <td>Theft</td>\n",
       "      <td>Aggravated theft</td>\n",
       "      <td>Spandau</td>\n",
       "      <td>Spandau Mitte / Nord</td>\n",
       "      <td>Falkenhagener Feld</td>\n",
       "      <td>An der Kappe</td>\n",
       "    </tr>\n",
       "    <tr>\n",
       "      <th>3</th>\n",
       "      <td>2022-08-10</td>\n",
       "      <td>10</td>\n",
       "      <td>8</td>\n",
       "      <td>2022</td>\n",
       "      <td>2022-08-08</td>\n",
       "      <td>20</td>\n",
       "      <td>2022-08-09</td>\n",
       "      <td>12</td>\n",
       "      <td>3601449</td>\n",
       "      <td>600</td>\n",
       "      <td>No</td>\n",
       "      <td>Women</td>\n",
       "      <td>Theft</td>\n",
       "      <td>Aggravated theft</td>\n",
       "      <td>Pankow</td>\n",
       "      <td>Nördlicher Prenzlauer Berg</td>\n",
       "      <td>Prenzlauer Berg Ost</td>\n",
       "      <td>Michelangelostraße</td>\n",
       "    </tr>\n",
       "    <tr>\n",
       "      <th>4</th>\n",
       "      <td>2022-08-10</td>\n",
       "      <td>10</td>\n",
       "      <td>8</td>\n",
       "      <td>2022</td>\n",
       "      <td>2022-08-09</td>\n",
       "      <td>14</td>\n",
       "      <td>2022-08-09</td>\n",
       "      <td>14</td>\n",
       "      <td>3601450</td>\n",
       "      <td>499</td>\n",
       "      <td>No</td>\n",
       "      <td>Men</td>\n",
       "      <td>Theft</td>\n",
       "      <td>Theft</td>\n",
       "      <td>Pankow</td>\n",
       "      <td>Nördlicher Prenzlauer Berg</td>\n",
       "      <td>Prenzlauer Berg Ost</td>\n",
       "      <td>Volkspark Prenzlauer Berg</td>\n",
       "    </tr>\n",
       "    <tr>\n",
       "      <th>...</th>\n",
       "      <td>...</td>\n",
       "      <td>...</td>\n",
       "      <td>...</td>\n",
       "      <td>...</td>\n",
       "      <td>...</td>\n",
       "      <td>...</td>\n",
       "      <td>...</td>\n",
       "      <td>...</td>\n",
       "      <td>...</td>\n",
       "      <td>...</td>\n",
       "      <td>...</td>\n",
       "      <td>...</td>\n",
       "      <td>...</td>\n",
       "      <td>...</td>\n",
       "      <td>...</td>\n",
       "      <td>...</td>\n",
       "      <td>...</td>\n",
       "      <td>...</td>\n",
       "    </tr>\n",
       "    <tr>\n",
       "      <th>32532</th>\n",
       "      <td>2021-01-02</td>\n",
       "      <td>2</td>\n",
       "      <td>1</td>\n",
       "      <td>2021</td>\n",
       "      <td>2021-01-01</td>\n",
       "      <td>12</td>\n",
       "      <td>2021-01-02</td>\n",
       "      <td>15</td>\n",
       "      <td>11300826</td>\n",
       "      <td>377</td>\n",
       "      <td>No</td>\n",
       "      <td>Women</td>\n",
       "      <td>Theft</td>\n",
       "      <td>Aggravated theft</td>\n",
       "      <td>Lichtenberg</td>\n",
       "      <td>Lichtenberg Nord</td>\n",
       "      <td>Frankfurter Allee Süd</td>\n",
       "      <td>Frankfurter Allee Süd</td>\n",
       "    </tr>\n",
       "    <tr>\n",
       "      <th>32533</th>\n",
       "      <td>2021-01-01</td>\n",
       "      <td>1</td>\n",
       "      <td>1</td>\n",
       "      <td>2021</td>\n",
       "      <td>2021-01-01</td>\n",
       "      <td>5</td>\n",
       "      <td>2021-01-01</td>\n",
       "      <td>8</td>\n",
       "      <td>10400941</td>\n",
       "      <td>2527</td>\n",
       "      <td>No</td>\n",
       "      <td>Bike</td>\n",
       "      <td>Break-in</td>\n",
       "      <td>Aggravated theft from basement/floor</td>\n",
       "      <td>Marzahn-Hellersdorf</td>\n",
       "      <td>Kaulsdorf/Mahlsdorf</td>\n",
       "      <td>Mahlsdorf</td>\n",
       "      <td>Pilgramer Straße</td>\n",
       "    </tr>\n",
       "    <tr>\n",
       "      <th>32534</th>\n",
       "      <td>2021-01-01</td>\n",
       "      <td>1</td>\n",
       "      <td>1</td>\n",
       "      <td>2021</td>\n",
       "      <td>2021-01-01</td>\n",
       "      <td>17</td>\n",
       "      <td>2021-01-01</td>\n",
       "      <td>18</td>\n",
       "      <td>8401241</td>\n",
       "      <td>888</td>\n",
       "      <td>No</td>\n",
       "      <td>Bike</td>\n",
       "      <td>Theft</td>\n",
       "      <td>Theft</td>\n",
       "      <td>Neukölln</td>\n",
       "      <td>Buckow Nord/Rudow</td>\n",
       "      <td>Rudow</td>\n",
       "      <td>Blumenviertel</td>\n",
       "    </tr>\n",
       "    <tr>\n",
       "      <th>32535</th>\n",
       "      <td>2021-01-01</td>\n",
       "      <td>1</td>\n",
       "      <td>1</td>\n",
       "      <td>2021</td>\n",
       "      <td>2021-01-01</td>\n",
       "      <td>20</td>\n",
       "      <td>2021-01-01</td>\n",
       "      <td>20</td>\n",
       "      <td>2100104</td>\n",
       "      <td>2800</td>\n",
       "      <td>No</td>\n",
       "      <td>Men</td>\n",
       "      <td>Theft</td>\n",
       "      <td>Aggravated theft</td>\n",
       "      <td>Friedrichshain-Kreuzberg</td>\n",
       "      <td>Kreuzberg Nord</td>\n",
       "      <td>Südliche Friedrichstadt</td>\n",
       "      <td>Moritzplatz</td>\n",
       "    </tr>\n",
       "    <tr>\n",
       "      <th>32536</th>\n",
       "      <td>2021-01-01</td>\n",
       "      <td>1</td>\n",
       "      <td>1</td>\n",
       "      <td>2021</td>\n",
       "      <td>2021-01-01</td>\n",
       "      <td>9</td>\n",
       "      <td>2021-01-01</td>\n",
       "      <td>11</td>\n",
       "      <td>4200206</td>\n",
       "      <td>290</td>\n",
       "      <td>No</td>\n",
       "      <td>Women</td>\n",
       "      <td>Theft</td>\n",
       "      <td>Aggravated theft</td>\n",
       "      <td>Charlottenburg-Wilmersdorf</td>\n",
       "      <td>Charlottenburg West</td>\n",
       "      <td>Heerstraße</td>\n",
       "      <td>Kranzallee</td>\n",
       "    </tr>\n",
       "  </tbody>\n",
       "</table>\n",
       "<p>32537 rows × 18 columns</p>\n",
       "</div>"
      ],
      "text/plain": [
       "      Record_date  Record_day  Record_month  Record_year Stealing_date  \\\n",
       "0      2022-08-10          10             8         2022    2022-08-10   \n",
       "1      2022-08-10          10             8         2022    2022-08-09   \n",
       "2      2022-08-10          10             8         2022    2022-08-09   \n",
       "3      2022-08-10          10             8         2022    2022-08-08   \n",
       "4      2022-08-10          10             8         2022    2022-08-09   \n",
       "...           ...         ...           ...          ...           ...   \n",
       "32532  2021-01-02           2             1         2021    2021-01-01   \n",
       "32533  2021-01-01           1             1         2021    2021-01-01   \n",
       "32534  2021-01-01           1             1         2021    2021-01-01   \n",
       "32535  2021-01-01           1             1         2021    2021-01-01   \n",
       "32536  2021-01-01           1             1         2021    2021-01-01   \n",
       "\n",
       "       Stealing_hour Report_stealing_date  Report_stealing_hour  \\\n",
       "0                  0           2022-08-10                     0   \n",
       "1                 15           2022-08-10                     0   \n",
       "2                 15           2022-08-10                     6   \n",
       "3                 20           2022-08-09                    12   \n",
       "4                 14           2022-08-09                    14   \n",
       "...              ...                  ...                   ...   \n",
       "32532             12           2021-01-02                    15   \n",
       "32533              5           2021-01-01                     8   \n",
       "32534             17           2021-01-01                    18   \n",
       "32535             20           2021-01-01                    20   \n",
       "32536              9           2021-01-01                    11   \n",
       "\n",
       "       Berlin_code_area  Bike_value Unsuccesful_attempt Bike_type Crime_type  \\\n",
       "0               3400619         300                  No  Mountain      Theft   \n",
       "1               7601544         800                  No       Men      Theft   \n",
       "2               5100211         212                  No       Men      Theft   \n",
       "3               3601449         600                  No     Women      Theft   \n",
       "4               3601450         499                  No       Men      Theft   \n",
       "...                 ...         ...                 ...       ...        ...   \n",
       "32532          11300826         377                  No     Women      Theft   \n",
       "32533          10400941        2527                  No      Bike   Break-in   \n",
       "32534           8401241         888                  No      Bike      Theft   \n",
       "32535           2100104        2800                  No       Men      Theft   \n",
       "32536           4200206         290                  No     Women      Theft   \n",
       "\n",
       "                               Crime_reason     Administrative_district  \\\n",
       "0                          Aggravated theft                      Pankow   \n",
       "1                          Aggravated theft        Tempelhof-Schöneberg   \n",
       "2                          Aggravated theft                     Spandau   \n",
       "3                          Aggravated theft                      Pankow   \n",
       "4                                     Theft                      Pankow   \n",
       "...                                     ...                         ...   \n",
       "32532                      Aggravated theft                 Lichtenberg   \n",
       "32533  Aggravated theft from basement/floor         Marzahn-Hellersdorf   \n",
       "32534                                 Theft                    Neukölln   \n",
       "32535                      Aggravated theft    Friedrichshain-Kreuzberg   \n",
       "32536                      Aggravated theft  Charlottenburg-Wilmersdorf   \n",
       "\n",
       "                         District                          Quarter  \\\n",
       "0                Südliches Pankow  Schönholz/Wilhelmsruh/Rosenthal   \n",
       "1       Marienfelde / Lichtenrade                  Lichtenrade Süd   \n",
       "2            Spandau Mitte / Nord               Falkenhagener Feld   \n",
       "3      Nördlicher Prenzlauer Berg              Prenzlauer Berg Ost   \n",
       "4      Nördlicher Prenzlauer Berg              Prenzlauer Berg Ost   \n",
       "...                           ...                              ...   \n",
       "32532            Lichtenberg Nord            Frankfurter Allee Süd   \n",
       "32533         Kaulsdorf/Mahlsdorf                        Mahlsdorf   \n",
       "32534           Buckow Nord/Rudow                            Rudow   \n",
       "32535              Kreuzberg Nord          Südliche Friedrichstadt   \n",
       "32536         Charlottenburg West                       Heerstraße   \n",
       "\n",
       "                     Street_name  \n",
       "0                    Wilhelmsruh  \n",
       "1              John-Locke-Straße  \n",
       "2                   An der Kappe  \n",
       "3             Michelangelostraße  \n",
       "4      Volkspark Prenzlauer Berg  \n",
       "...                          ...  \n",
       "32532      Frankfurter Allee Süd  \n",
       "32533           Pilgramer Straße  \n",
       "32534              Blumenviertel  \n",
       "32535                Moritzplatz  \n",
       "32536                 Kranzallee  \n",
       "\n",
       "[32537 rows x 18 columns]"
      ]
     },
     "execution_count": 65,
     "metadata": {},
     "output_type": "execute_result"
    }
   ],
   "source": [
    "df"
   ]
  },
  {
   "cell_type": "markdown",
   "id": "643d200d",
   "metadata": {},
   "source": [
    "#### Creat DataFrame copy for next visualisation analysis"
   ]
  },
  {
   "cell_type": "code",
   "execution_count": 66,
   "id": "8d6d2673",
   "metadata": {},
   "outputs": [],
   "source": [
    "df_copy = df.copy()"
   ]
  },
  {
   "cell_type": "markdown",
   "id": "00dc6d9a",
   "metadata": {},
   "source": [
    "#### Display DataFrame copy"
   ]
  },
  {
   "cell_type": "code",
   "execution_count": 67,
   "id": "0f9cff01",
   "metadata": {},
   "outputs": [
    {
     "data": {
      "text/html": [
       "<div>\n",
       "<style scoped>\n",
       "    .dataframe tbody tr th:only-of-type {\n",
       "        vertical-align: middle;\n",
       "    }\n",
       "\n",
       "    .dataframe tbody tr th {\n",
       "        vertical-align: top;\n",
       "    }\n",
       "\n",
       "    .dataframe thead th {\n",
       "        text-align: right;\n",
       "    }\n",
       "</style>\n",
       "<table border=\"1\" class=\"dataframe\">\n",
       "  <thead>\n",
       "    <tr style=\"text-align: right;\">\n",
       "      <th></th>\n",
       "      <th>Record_date</th>\n",
       "      <th>Record_day</th>\n",
       "      <th>Record_month</th>\n",
       "      <th>Record_year</th>\n",
       "      <th>Stealing_date</th>\n",
       "      <th>Stealing_hour</th>\n",
       "      <th>Report_stealing_date</th>\n",
       "      <th>Report_stealing_hour</th>\n",
       "      <th>Berlin_code_area</th>\n",
       "      <th>Bike_value</th>\n",
       "      <th>Unsuccesful_attempt</th>\n",
       "      <th>Bike_type</th>\n",
       "      <th>Crime_type</th>\n",
       "      <th>Crime_reason</th>\n",
       "      <th>Administrative_district</th>\n",
       "      <th>District</th>\n",
       "      <th>Quarter</th>\n",
       "      <th>Street_name</th>\n",
       "    </tr>\n",
       "  </thead>\n",
       "  <tbody>\n",
       "    <tr>\n",
       "      <th>0</th>\n",
       "      <td>2022-08-10</td>\n",
       "      <td>10</td>\n",
       "      <td>8</td>\n",
       "      <td>2022</td>\n",
       "      <td>2022-08-10</td>\n",
       "      <td>0</td>\n",
       "      <td>2022-08-10</td>\n",
       "      <td>0</td>\n",
       "      <td>3400619</td>\n",
       "      <td>300</td>\n",
       "      <td>No</td>\n",
       "      <td>Mountain</td>\n",
       "      <td>Theft</td>\n",
       "      <td>Aggravated theft</td>\n",
       "      <td>Pankow</td>\n",
       "      <td>Südliches Pankow</td>\n",
       "      <td>Schönholz/Wilhelmsruh/Rosenthal</td>\n",
       "      <td>Wilhelmsruh</td>\n",
       "    </tr>\n",
       "    <tr>\n",
       "      <th>1</th>\n",
       "      <td>2022-08-10</td>\n",
       "      <td>10</td>\n",
       "      <td>8</td>\n",
       "      <td>2022</td>\n",
       "      <td>2022-08-09</td>\n",
       "      <td>15</td>\n",
       "      <td>2022-08-10</td>\n",
       "      <td>0</td>\n",
       "      <td>7601544</td>\n",
       "      <td>800</td>\n",
       "      <td>No</td>\n",
       "      <td>Men</td>\n",
       "      <td>Theft</td>\n",
       "      <td>Aggravated theft</td>\n",
       "      <td>Tempelhof-Schöneberg</td>\n",
       "      <td>Marienfelde / Lichtenrade</td>\n",
       "      <td>Lichtenrade Süd</td>\n",
       "      <td>John-Locke-Straße</td>\n",
       "    </tr>\n",
       "    <tr>\n",
       "      <th>2</th>\n",
       "      <td>2022-08-10</td>\n",
       "      <td>10</td>\n",
       "      <td>8</td>\n",
       "      <td>2022</td>\n",
       "      <td>2022-08-09</td>\n",
       "      <td>15</td>\n",
       "      <td>2022-08-10</td>\n",
       "      <td>6</td>\n",
       "      <td>5100211</td>\n",
       "      <td>212</td>\n",
       "      <td>No</td>\n",
       "      <td>Men</td>\n",
       "      <td>Theft</td>\n",
       "      <td>Aggravated theft</td>\n",
       "      <td>Spandau</td>\n",
       "      <td>Spandau Mitte / Nord</td>\n",
       "      <td>Falkenhagener Feld</td>\n",
       "      <td>An der Kappe</td>\n",
       "    </tr>\n",
       "    <tr>\n",
       "      <th>3</th>\n",
       "      <td>2022-08-10</td>\n",
       "      <td>10</td>\n",
       "      <td>8</td>\n",
       "      <td>2022</td>\n",
       "      <td>2022-08-08</td>\n",
       "      <td>20</td>\n",
       "      <td>2022-08-09</td>\n",
       "      <td>12</td>\n",
       "      <td>3601449</td>\n",
       "      <td>600</td>\n",
       "      <td>No</td>\n",
       "      <td>Women</td>\n",
       "      <td>Theft</td>\n",
       "      <td>Aggravated theft</td>\n",
       "      <td>Pankow</td>\n",
       "      <td>Nördlicher Prenzlauer Berg</td>\n",
       "      <td>Prenzlauer Berg Ost</td>\n",
       "      <td>Michelangelostraße</td>\n",
       "    </tr>\n",
       "    <tr>\n",
       "      <th>4</th>\n",
       "      <td>2022-08-10</td>\n",
       "      <td>10</td>\n",
       "      <td>8</td>\n",
       "      <td>2022</td>\n",
       "      <td>2022-08-09</td>\n",
       "      <td>14</td>\n",
       "      <td>2022-08-09</td>\n",
       "      <td>14</td>\n",
       "      <td>3601450</td>\n",
       "      <td>499</td>\n",
       "      <td>No</td>\n",
       "      <td>Men</td>\n",
       "      <td>Theft</td>\n",
       "      <td>Theft</td>\n",
       "      <td>Pankow</td>\n",
       "      <td>Nördlicher Prenzlauer Berg</td>\n",
       "      <td>Prenzlauer Berg Ost</td>\n",
       "      <td>Volkspark Prenzlauer Berg</td>\n",
       "    </tr>\n",
       "    <tr>\n",
       "      <th>...</th>\n",
       "      <td>...</td>\n",
       "      <td>...</td>\n",
       "      <td>...</td>\n",
       "      <td>...</td>\n",
       "      <td>...</td>\n",
       "      <td>...</td>\n",
       "      <td>...</td>\n",
       "      <td>...</td>\n",
       "      <td>...</td>\n",
       "      <td>...</td>\n",
       "      <td>...</td>\n",
       "      <td>...</td>\n",
       "      <td>...</td>\n",
       "      <td>...</td>\n",
       "      <td>...</td>\n",
       "      <td>...</td>\n",
       "      <td>...</td>\n",
       "      <td>...</td>\n",
       "    </tr>\n",
       "    <tr>\n",
       "      <th>32532</th>\n",
       "      <td>2021-01-02</td>\n",
       "      <td>2</td>\n",
       "      <td>1</td>\n",
       "      <td>2021</td>\n",
       "      <td>2021-01-01</td>\n",
       "      <td>12</td>\n",
       "      <td>2021-01-02</td>\n",
       "      <td>15</td>\n",
       "      <td>11300826</td>\n",
       "      <td>377</td>\n",
       "      <td>No</td>\n",
       "      <td>Women</td>\n",
       "      <td>Theft</td>\n",
       "      <td>Aggravated theft</td>\n",
       "      <td>Lichtenberg</td>\n",
       "      <td>Lichtenberg Nord</td>\n",
       "      <td>Frankfurter Allee Süd</td>\n",
       "      <td>Frankfurter Allee Süd</td>\n",
       "    </tr>\n",
       "    <tr>\n",
       "      <th>32533</th>\n",
       "      <td>2021-01-01</td>\n",
       "      <td>1</td>\n",
       "      <td>1</td>\n",
       "      <td>2021</td>\n",
       "      <td>2021-01-01</td>\n",
       "      <td>5</td>\n",
       "      <td>2021-01-01</td>\n",
       "      <td>8</td>\n",
       "      <td>10400941</td>\n",
       "      <td>2527</td>\n",
       "      <td>No</td>\n",
       "      <td>Bike</td>\n",
       "      <td>Break-in</td>\n",
       "      <td>Aggravated theft from basement/floor</td>\n",
       "      <td>Marzahn-Hellersdorf</td>\n",
       "      <td>Kaulsdorf/Mahlsdorf</td>\n",
       "      <td>Mahlsdorf</td>\n",
       "      <td>Pilgramer Straße</td>\n",
       "    </tr>\n",
       "    <tr>\n",
       "      <th>32534</th>\n",
       "      <td>2021-01-01</td>\n",
       "      <td>1</td>\n",
       "      <td>1</td>\n",
       "      <td>2021</td>\n",
       "      <td>2021-01-01</td>\n",
       "      <td>17</td>\n",
       "      <td>2021-01-01</td>\n",
       "      <td>18</td>\n",
       "      <td>8401241</td>\n",
       "      <td>888</td>\n",
       "      <td>No</td>\n",
       "      <td>Bike</td>\n",
       "      <td>Theft</td>\n",
       "      <td>Theft</td>\n",
       "      <td>Neukölln</td>\n",
       "      <td>Buckow Nord/Rudow</td>\n",
       "      <td>Rudow</td>\n",
       "      <td>Blumenviertel</td>\n",
       "    </tr>\n",
       "    <tr>\n",
       "      <th>32535</th>\n",
       "      <td>2021-01-01</td>\n",
       "      <td>1</td>\n",
       "      <td>1</td>\n",
       "      <td>2021</td>\n",
       "      <td>2021-01-01</td>\n",
       "      <td>20</td>\n",
       "      <td>2021-01-01</td>\n",
       "      <td>20</td>\n",
       "      <td>2100104</td>\n",
       "      <td>2800</td>\n",
       "      <td>No</td>\n",
       "      <td>Men</td>\n",
       "      <td>Theft</td>\n",
       "      <td>Aggravated theft</td>\n",
       "      <td>Friedrichshain-Kreuzberg</td>\n",
       "      <td>Kreuzberg Nord</td>\n",
       "      <td>Südliche Friedrichstadt</td>\n",
       "      <td>Moritzplatz</td>\n",
       "    </tr>\n",
       "    <tr>\n",
       "      <th>32536</th>\n",
       "      <td>2021-01-01</td>\n",
       "      <td>1</td>\n",
       "      <td>1</td>\n",
       "      <td>2021</td>\n",
       "      <td>2021-01-01</td>\n",
       "      <td>9</td>\n",
       "      <td>2021-01-01</td>\n",
       "      <td>11</td>\n",
       "      <td>4200206</td>\n",
       "      <td>290</td>\n",
       "      <td>No</td>\n",
       "      <td>Women</td>\n",
       "      <td>Theft</td>\n",
       "      <td>Aggravated theft</td>\n",
       "      <td>Charlottenburg-Wilmersdorf</td>\n",
       "      <td>Charlottenburg West</td>\n",
       "      <td>Heerstraße</td>\n",
       "      <td>Kranzallee</td>\n",
       "    </tr>\n",
       "  </tbody>\n",
       "</table>\n",
       "<p>32537 rows × 18 columns</p>\n",
       "</div>"
      ],
      "text/plain": [
       "      Record_date  Record_day  Record_month  Record_year Stealing_date  \\\n",
       "0      2022-08-10          10             8         2022    2022-08-10   \n",
       "1      2022-08-10          10             8         2022    2022-08-09   \n",
       "2      2022-08-10          10             8         2022    2022-08-09   \n",
       "3      2022-08-10          10             8         2022    2022-08-08   \n",
       "4      2022-08-10          10             8         2022    2022-08-09   \n",
       "...           ...         ...           ...          ...           ...   \n",
       "32532  2021-01-02           2             1         2021    2021-01-01   \n",
       "32533  2021-01-01           1             1         2021    2021-01-01   \n",
       "32534  2021-01-01           1             1         2021    2021-01-01   \n",
       "32535  2021-01-01           1             1         2021    2021-01-01   \n",
       "32536  2021-01-01           1             1         2021    2021-01-01   \n",
       "\n",
       "       Stealing_hour Report_stealing_date  Report_stealing_hour  \\\n",
       "0                  0           2022-08-10                     0   \n",
       "1                 15           2022-08-10                     0   \n",
       "2                 15           2022-08-10                     6   \n",
       "3                 20           2022-08-09                    12   \n",
       "4                 14           2022-08-09                    14   \n",
       "...              ...                  ...                   ...   \n",
       "32532             12           2021-01-02                    15   \n",
       "32533              5           2021-01-01                     8   \n",
       "32534             17           2021-01-01                    18   \n",
       "32535             20           2021-01-01                    20   \n",
       "32536              9           2021-01-01                    11   \n",
       "\n",
       "       Berlin_code_area  Bike_value Unsuccesful_attempt Bike_type Crime_type  \\\n",
       "0               3400619         300                  No  Mountain      Theft   \n",
       "1               7601544         800                  No       Men      Theft   \n",
       "2               5100211         212                  No       Men      Theft   \n",
       "3               3601449         600                  No     Women      Theft   \n",
       "4               3601450         499                  No       Men      Theft   \n",
       "...                 ...         ...                 ...       ...        ...   \n",
       "32532          11300826         377                  No     Women      Theft   \n",
       "32533          10400941        2527                  No      Bike   Break-in   \n",
       "32534           8401241         888                  No      Bike      Theft   \n",
       "32535           2100104        2800                  No       Men      Theft   \n",
       "32536           4200206         290                  No     Women      Theft   \n",
       "\n",
       "                               Crime_reason     Administrative_district  \\\n",
       "0                          Aggravated theft                      Pankow   \n",
       "1                          Aggravated theft        Tempelhof-Schöneberg   \n",
       "2                          Aggravated theft                     Spandau   \n",
       "3                          Aggravated theft                      Pankow   \n",
       "4                                     Theft                      Pankow   \n",
       "...                                     ...                         ...   \n",
       "32532                      Aggravated theft                 Lichtenberg   \n",
       "32533  Aggravated theft from basement/floor         Marzahn-Hellersdorf   \n",
       "32534                                 Theft                    Neukölln   \n",
       "32535                      Aggravated theft    Friedrichshain-Kreuzberg   \n",
       "32536                      Aggravated theft  Charlottenburg-Wilmersdorf   \n",
       "\n",
       "                         District                          Quarter  \\\n",
       "0                Südliches Pankow  Schönholz/Wilhelmsruh/Rosenthal   \n",
       "1       Marienfelde / Lichtenrade                  Lichtenrade Süd   \n",
       "2            Spandau Mitte / Nord               Falkenhagener Feld   \n",
       "3      Nördlicher Prenzlauer Berg              Prenzlauer Berg Ost   \n",
       "4      Nördlicher Prenzlauer Berg              Prenzlauer Berg Ost   \n",
       "...                           ...                              ...   \n",
       "32532            Lichtenberg Nord            Frankfurter Allee Süd   \n",
       "32533         Kaulsdorf/Mahlsdorf                        Mahlsdorf   \n",
       "32534           Buckow Nord/Rudow                            Rudow   \n",
       "32535              Kreuzberg Nord          Südliche Friedrichstadt   \n",
       "32536         Charlottenburg West                       Heerstraße   \n",
       "\n",
       "                     Street_name  \n",
       "0                    Wilhelmsruh  \n",
       "1              John-Locke-Straße  \n",
       "2                   An der Kappe  \n",
       "3             Michelangelostraße  \n",
       "4      Volkspark Prenzlauer Berg  \n",
       "...                          ...  \n",
       "32532      Frankfurter Allee Süd  \n",
       "32533           Pilgramer Straße  \n",
       "32534              Blumenviertel  \n",
       "32535                Moritzplatz  \n",
       "32536                 Kranzallee  \n",
       "\n",
       "[32537 rows x 18 columns]"
      ]
     },
     "execution_count": 67,
     "metadata": {},
     "output_type": "execute_result"
    }
   ],
   "source": [
    "df_copy"
   ]
  },
  {
   "cell_type": "markdown",
   "id": "cf5708f5",
   "metadata": {},
   "source": [
    "#### Change Record_day column for verbal day representation "
   ]
  },
  {
   "cell_type": "code",
   "execution_count": 68,
   "id": "42c61ebc",
   "metadata": {},
   "outputs": [],
   "source": [
    "df_copy['Record_day'] = pd.to_datetime(df_copy['Record_date']).dt.day_name()"
   ]
  },
  {
   "cell_type": "markdown",
   "id": "34f7b575",
   "metadata": {},
   "source": [
    "#### Day of week when most thiefs happend"
   ]
  },
  {
   "cell_type": "code",
   "execution_count": 69,
   "id": "d5fe6ebc",
   "metadata": {},
   "outputs": [
    {
     "data": {
      "text/html": [
       "<div>\n",
       "<style scoped>\n",
       "    .dataframe tbody tr th:only-of-type {\n",
       "        vertical-align: middle;\n",
       "    }\n",
       "\n",
       "    .dataframe tbody tr th {\n",
       "        vertical-align: top;\n",
       "    }\n",
       "\n",
       "    .dataframe thead th {\n",
       "        text-align: right;\n",
       "    }\n",
       "</style>\n",
       "<table border=\"1\" class=\"dataframe\">\n",
       "  <thead>\n",
       "    <tr style=\"text-align: right;\">\n",
       "      <th></th>\n",
       "      <th>Record_date</th>\n",
       "    </tr>\n",
       "    <tr>\n",
       "      <th>Record_day</th>\n",
       "      <th></th>\n",
       "    </tr>\n",
       "  </thead>\n",
       "  <tbody>\n",
       "    <tr>\n",
       "      <th>Monday</th>\n",
       "      <td>5598</td>\n",
       "    </tr>\n",
       "    <tr>\n",
       "      <th>Tuesday</th>\n",
       "      <td>5237</td>\n",
       "    </tr>\n",
       "    <tr>\n",
       "      <th>Wednesday</th>\n",
       "      <td>5207</td>\n",
       "    </tr>\n",
       "    <tr>\n",
       "      <th>Thursday</th>\n",
       "      <td>4866</td>\n",
       "    </tr>\n",
       "    <tr>\n",
       "      <th>Friday</th>\n",
       "      <td>4444</td>\n",
       "    </tr>\n",
       "    <tr>\n",
       "      <th>Sunday</th>\n",
       "      <td>3766</td>\n",
       "    </tr>\n",
       "    <tr>\n",
       "      <th>Saturday</th>\n",
       "      <td>3419</td>\n",
       "    </tr>\n",
       "  </tbody>\n",
       "</table>\n",
       "</div>"
      ],
      "text/plain": [
       "            Record_date\n",
       "Record_day             \n",
       "Monday             5598\n",
       "Tuesday            5237\n",
       "Wednesday          5207\n",
       "Thursday           4866\n",
       "Friday             4444\n",
       "Sunday             3766\n",
       "Saturday           3419"
      ]
     },
     "execution_count": 69,
     "metadata": {},
     "output_type": "execute_result"
    }
   ],
   "source": [
    "df_copy.groupby('Record_day')[['Record_date']].count().sort_values(by='Record_date', ascending=False)"
   ]
  },
  {
   "cell_type": "code",
   "execution_count": 70,
   "id": "95468d98",
   "metadata": {},
   "outputs": [
    {
     "data": {
      "image/png": "[encoded data removed]",
      "text/plain": [
       "<Figure size 864x720 with 1 Axes>"
      ]
     },
     "metadata": {},
     "output_type": "display_data"
    }
   ],
   "source": [
    "df_copy.groupby('Record_day')[['Record_date']].count()\\\n",
    "                .sort_values(by='Record_date', ascending=True)\\\n",
    "                .plot(kind='barh',\n",
    "                figsize=(12,10),\n",
    "                fontsize=12,\n",
    "                title='Amount of crimes by Day of Week',\n",
    "                xlabel='Day of week',\n",
    "                grid=True);"
   ]
  },
  {
   "cell_type": "markdown",
   "id": "a76da1fb",
   "metadata": {},
   "source": [
    "#### Administrative district with most bike thiefs"
   ]
  },
  {
   "cell_type": "code",
   "execution_count": 71,
   "id": "b2d2a148",
   "metadata": {},
   "outputs": [
    {
     "data": {
      "text/html": [
       "<div>\n",
       "<style scoped>\n",
       "    .dataframe tbody tr th:only-of-type {\n",
       "        vertical-align: middle;\n",
       "    }\n",
       "\n",
       "    .dataframe tbody tr th {\n",
       "        vertical-align: top;\n",
       "    }\n",
       "\n",
       "    .dataframe thead th {\n",
       "        text-align: right;\n",
       "    }\n",
       "</style>\n",
       "<table border=\"1\" class=\"dataframe\">\n",
       "  <thead>\n",
       "    <tr style=\"text-align: right;\">\n",
       "      <th></th>\n",
       "      <th>Record_date</th>\n",
       "    </tr>\n",
       "    <tr>\n",
       "      <th>Administrative_district</th>\n",
       "      <th></th>\n",
       "    </tr>\n",
       "  </thead>\n",
       "  <tbody>\n",
       "    <tr>\n",
       "      <th>Pankow</th>\n",
       "      <td>5113</td>\n",
       "    </tr>\n",
       "    <tr>\n",
       "      <th>Mitte</th>\n",
       "      <td>4591</td>\n",
       "    </tr>\n",
       "    <tr>\n",
       "      <th>Friedrichshain-Kreuzberg</th>\n",
       "      <td>4473</td>\n",
       "    </tr>\n",
       "    <tr>\n",
       "      <th>Charlottenburg-Wilmersdorf</th>\n",
       "      <td>3553</td>\n",
       "    </tr>\n",
       "    <tr>\n",
       "      <th>Tempelhof-Schöneberg</th>\n",
       "      <td>2718</td>\n",
       "    </tr>\n",
       "    <tr>\n",
       "      <th>Treptow-Köpenick</th>\n",
       "      <td>2554</td>\n",
       "    </tr>\n",
       "    <tr>\n",
       "      <th>Neukölln</th>\n",
       "      <td>2539</td>\n",
       "    </tr>\n",
       "    <tr>\n",
       "      <th>Steglitz-Zehlendorf</th>\n",
       "      <td>2055</td>\n",
       "    </tr>\n",
       "    <tr>\n",
       "      <th>Lichtenberg</th>\n",
       "      <td>1822</td>\n",
       "    </tr>\n",
       "    <tr>\n",
       "      <th>Reinickendorf</th>\n",
       "      <td>1219</td>\n",
       "    </tr>\n",
       "    <tr>\n",
       "      <th>Marzahn-Hellersdorf</th>\n",
       "      <td>966</td>\n",
       "    </tr>\n",
       "    <tr>\n",
       "      <th>Spandau</th>\n",
       "      <td>934</td>\n",
       "    </tr>\n",
       "  </tbody>\n",
       "</table>\n",
       "</div>"
      ],
      "text/plain": [
       "                            Record_date\n",
       "Administrative_district                \n",
       "Pankow                             5113\n",
       "Mitte                              4591\n",
       "Friedrichshain-Kreuzberg           4473\n",
       "Charlottenburg-Wilmersdorf         3553\n",
       "Tempelhof-Schöneberg               2718\n",
       "Treptow-Köpenick                   2554\n",
       "Neukölln                           2539\n",
       "Steglitz-Zehlendorf                2055\n",
       "Lichtenberg                        1822\n",
       "Reinickendorf                      1219\n",
       "Marzahn-Hellersdorf                 966\n",
       "Spandau                             934"
      ]
     },
     "execution_count": 71,
     "metadata": {},
     "output_type": "execute_result"
    }
   ],
   "source": [
    "df_copy.groupby('Administrative_district')[['Record_date']].count().sort_values(by=['Record_date'], ascending=False)"
   ]
  },
  {
   "cell_type": "code",
   "execution_count": 72,
   "id": "713cfb5c",
   "metadata": {},
   "outputs": [
    {
     "data": {
      "image/png": "[encoded data removed]",
      "text/plain": [
       "<Figure size 864x720 with 1 Axes>"
      ]
     },
     "metadata": {},
     "output_type": "display_data"
    }
   ],
   "source": [
    "df_copy.groupby('Administrative_district')[['Record_date']].count()\\\n",
    "                                    .sort_values(by=['Record_date'], ascending=True)\\\n",
    "                                    .plot(kind='barh',\n",
    "                                    figsize=(12,10),\n",
    "                                    fontsize=12,\n",
    "                                    title='Amount of crimes by Administrative districte',\n",
    "                                    xlabel='Administrative district',\n",
    "                                    grid=True);"
   ]
  },
  {
   "cell_type": "markdown",
   "id": "a6bd5a36",
   "metadata": {},
   "source": [
    "#### Most stealing bike type"
   ]
  },
  {
   "cell_type": "code",
   "execution_count": 73,
   "id": "d4c02a34",
   "metadata": {},
   "outputs": [
    {
     "data": {
      "text/html": [
       "<div>\n",
       "<style scoped>\n",
       "    .dataframe tbody tr th:only-of-type {\n",
       "        vertical-align: middle;\n",
       "    }\n",
       "\n",
       "    .dataframe tbody tr th {\n",
       "        vertical-align: top;\n",
       "    }\n",
       "\n",
       "    .dataframe thead th {\n",
       "        text-align: right;\n",
       "    }\n",
       "</style>\n",
       "<table border=\"1\" class=\"dataframe\">\n",
       "  <thead>\n",
       "    <tr style=\"text-align: right;\">\n",
       "      <th></th>\n",
       "      <th>Record_date</th>\n",
       "    </tr>\n",
       "    <tr>\n",
       "      <th>Bike_type</th>\n",
       "      <th></th>\n",
       "    </tr>\n",
       "  </thead>\n",
       "  <tbody>\n",
       "    <tr>\n",
       "      <th>Men</th>\n",
       "      <td>15000</td>\n",
       "    </tr>\n",
       "    <tr>\n",
       "      <th>Women</th>\n",
       "      <td>9491</td>\n",
       "    </tr>\n",
       "    <tr>\n",
       "      <th>Bike</th>\n",
       "      <td>4845</td>\n",
       "    </tr>\n",
       "    <tr>\n",
       "      <th>Mountain</th>\n",
       "      <td>1435</td>\n",
       "    </tr>\n",
       "    <tr>\n",
       "      <th>Child</th>\n",
       "      <td>1267</td>\n",
       "    </tr>\n",
       "    <tr>\n",
       "      <th>Racing</th>\n",
       "      <td>451</td>\n",
       "    </tr>\n",
       "    <tr>\n",
       "      <th>Cargo</th>\n",
       "      <td>48</td>\n",
       "    </tr>\n",
       "  </tbody>\n",
       "</table>\n",
       "</div>"
      ],
      "text/plain": [
       "           Record_date\n",
       "Bike_type             \n",
       "Men              15000\n",
       "Women             9491\n",
       "Bike              4845\n",
       "Mountain          1435\n",
       "Child             1267\n",
       "Racing             451\n",
       "Cargo               48"
      ]
     },
     "execution_count": 73,
     "metadata": {},
     "output_type": "execute_result"
    }
   ],
   "source": [
    "df_copy.groupby('Bike_type')[['Record_date']].count().sort_values(by='Record_date', ascending=False)"
   ]
  },
  {
   "cell_type": "code",
   "execution_count": 74,
   "id": "bc42d867",
   "metadata": {},
   "outputs": [
    {
     "data": {
      "text/html": [
       "<div>\n",
       "<style scoped>\n",
       "    .dataframe tbody tr th:only-of-type {\n",
       "        vertical-align: middle;\n",
       "    }\n",
       "\n",
       "    .dataframe tbody tr th {\n",
       "        vertical-align: top;\n",
       "    }\n",
       "\n",
       "    .dataframe thead th {\n",
       "        text-align: right;\n",
       "    }\n",
       "</style>\n",
       "<table border=\"1\" class=\"dataframe\">\n",
       "  <thead>\n",
       "    <tr style=\"text-align: right;\">\n",
       "      <th></th>\n",
       "      <th>Record_date</th>\n",
       "    </tr>\n",
       "    <tr>\n",
       "      <th>Crime_type</th>\n",
       "      <th></th>\n",
       "    </tr>\n",
       "  </thead>\n",
       "  <tbody>\n",
       "    <tr>\n",
       "      <th>Theft</th>\n",
       "      <td>31135</td>\n",
       "    </tr>\n",
       "    <tr>\n",
       "      <th>Break-in</th>\n",
       "      <td>1402</td>\n",
       "    </tr>\n",
       "  </tbody>\n",
       "</table>\n",
       "</div>"
      ],
      "text/plain": [
       "            Record_date\n",
       "Crime_type             \n",
       "Theft             31135\n",
       "Break-in           1402"
      ]
     },
     "execution_count": 74,
     "metadata": {},
     "output_type": "execute_result"
    }
   ],
   "source": [
    "df_copy.groupby('Crime_type')[['Record_date']].count().sort_values(by='Record_date', ascending=False)"
   ]
  },
  {
   "cell_type": "markdown",
   "id": "f9bf3827",
   "metadata": {},
   "source": [
    "#### Drop column *Record_date*"
   ]
  },
  {
   "cell_type": "code",
   "execution_count": 75,
   "id": "771de333",
   "metadata": {},
   "outputs": [],
   "source": [
    "df.drop([\"Record_date\"], axis=1, inplace=True)"
   ]
  },
  {
   "cell_type": "markdown",
   "id": "1e36dff8",
   "metadata": {},
   "source": [
    "#### Change datetime column type to numeric"
   ]
  },
  {
   "cell_type": "code",
   "execution_count": 76,
   "id": "bb75d6d5",
   "metadata": {},
   "outputs": [],
   "source": [
    "df['Stealing_date'] = pd.to_numeric(pd.to_datetime(df['Stealing_date']))\n",
    "df['Report_stealing_date'] = pd.to_numeric(pd.to_datetime(df['Report_stealing_date']))"
   ]
  },
  {
   "cell_type": "markdown",
   "id": "cdd3d33a",
   "metadata": {},
   "source": [
    "#### Change all column type *object* to DataFrame *category* "
   ]
  },
  {
   "cell_type": "code",
   "execution_count": 77,
   "id": "83746b04",
   "metadata": {},
   "outputs": [],
   "source": [
    "df[[col for col in df.columns if df[col].dtypes == object]] = \\\n",
    "df[[col for col in df.columns if df[col].dtypes == object]].astype('category')"
   ]
  },
  {
   "cell_type": "markdown",
   "id": "20cea676",
   "metadata": {},
   "source": [
    "### Machine Learning prediction modeling"
   ]
  },
  {
   "cell_type": "code",
   "execution_count": 78,
   "id": "f0ba923f",
   "metadata": {},
   "outputs": [],
   "source": [
    "from sklearn import preprocessing\n",
    "from sklearn.model_selection import GridSearchCV\n",
    "from sklearn.preprocessing import StandardScaler\n",
    "from sklearn.model_selection import train_test_split\n",
    "from sklearn.pipeline import Pipeline\n",
    "from sklearn.metrics import classification_report, f1_score, make_scorer\n",
    "from sklearn.compose import ColumnTransformer\n",
    "from sklearn.preprocessing import Normalizer, StandardScaler, OneHotEncoder"
   ]
  },
  {
   "cell_type": "code",
   "execution_count": 79,
   "id": "9251857b",
   "metadata": {},
   "outputs": [],
   "source": [
    "from sklearn.linear_model import LinearRegression\n",
    "from sklearn.naive_bayes import MultinomialNB\n",
    "from sklearn.ensemble import RandomForestClassifier\n",
    "from sklearn.svm import SVC\n",
    "from sklearn.linear_model import LogisticRegression\n",
    "from sklearn.ensemble import GradientBoostingClassifier\n",
    "from sklearn.tree import DecisionTreeClassifier\n",
    "import statistics\n",
    "from sklearn.metrics import accuracy_score, confusion_matrix, ConfusionMatrixDisplay\n",
    "from imblearn.under_sampling import RandomUnderSampler\n",
    "from sklearn.datasets import make_classification\n",
    "from imblearn.over_sampling import RandomOverSampler\n",
    "from imblearn.over_sampling import SMOTE\n",
    "from sklearn.metrics import matthews_corrcoef, average_precision_score, ConfusionMatrixDisplay\n",
    "from sklearn.metrics import roc_auc_score, accuracy_score, recall_score, precision_score, roc_curve\n",
    "import xgboost as xgb\n",
    "from imblearn.over_sampling import RandomOverSampler\n",
    "from sklearn.naive_bayes import GaussianNB\n",
    "from imblearn.combine import SMOTETomek\n",
    "from imblearn.pipeline import Pipeline "
   ]
  },
  {
   "cell_type": "markdown",
   "id": "632757ad",
   "metadata": {},
   "source": [
    "#### Split data to 70% train and 30% test (the size of dataset is big almost 31 thousand)"
   ]
  },
  {
   "cell_type": "code",
   "execution_count": 80,
   "id": "ed8f6a2c",
   "metadata": {},
   "outputs": [],
   "source": [
    "X = df.drop(['Unsuccesful_attempt'], axis=1)\n",
    "y = df['Unsuccesful_attempt']"
   ]
  },
  {
   "cell_type": "code",
   "execution_count": 81,
   "id": "f50f3828",
   "metadata": {},
   "outputs": [],
   "source": [
    "X_train, X_test, y_train, y_test = train_test_split(X, y, test_size = 0.40,\n",
    "                                                    random_state = 0)"
   ]
  },
  {
   "cell_type": "code",
   "execution_count": 126,
   "id": "5c9afe6a",
   "metadata": {},
   "outputs": [
    {
     "data": {
      "image/png": "[encoded data removed]",
      "text/plain": [
       "<Figure size 432x288 with 2 Axes>"
      ]
     },
     "metadata": {},
     "output_type": "display_data"
    }
   ],
   "source": [
    "corr = df_copy.corr()\n",
    "sns.heatmap(corr, \n",
    "            xticklabels=corr.columns.values,\n",
    "            yticklabels=corr.columns.values);"
   ]
  },
  {
   "cell_type": "code",
   "execution_count": 134,
   "id": "11cbea61",
   "metadata": {},
   "outputs": [
    {
     "data": {
      "image/png": "[encoded data removed]",
      "text/plain": [
       "<Figure size 432x288 with 2 Axes>"
      ]
     },
     "metadata": {},
     "output_type": "display_data"
    }
   ],
   "source": [
    "sns.heatmap(df_copy.corr(), annot=True);"
   ]
  },
  {
   "cell_type": "markdown",
   "id": "1075f644",
   "metadata": {},
   "source": [
    "#### Transform data to acceptable form for Machine Learning algoritm use *Column Transformer*\n",
    "- OneHotEncoding for category data\n",
    "- StandardScaler for numeric\n",
    "- *Price* column stays the same without any transformation"
   ]
  },
  {
   "cell_type": "code",
   "execution_count": 82,
   "id": "8c717cd9",
   "metadata": {},
   "outputs": [],
   "source": [
    "transformer = ColumnTransformer(transformers=[\n",
    "    ('tnf1', OneHotEncoder(handle_unknown='ignore', sparse=False), [9, 10, 11, 12, 13, 14, 15]),\n",
    "    ('trf2', StandardScaler(), [0, 1, 2, 3, 4, 5, 6])], \n",
    "    remainder='passthrough')\n",
    "\n",
    "X_train = transformer.fit_transform(X_train)\n",
    "\n",
    "X_test = transformer.transform(X_test)"
   ]
  },
  {
   "cell_type": "markdown",
   "id": "07516a65",
   "metadata": {},
   "source": [
    "#### Transform y-variable by LabelEncoder for two classes (0 and 1)\n",
    "##### Project assume crime prediction, but in dataset more than 99% are crime, and only 1% are no crime (*Unsucessfuly_attempt column*). Due to this fact, y-variable are reverse encoding. No crime treat as 0 (normal situation), crime treat as 1 (unnormal situation) \n",
    "- Crime unhappend *(Unsucessfuly attempt == Yes)* = label with number 0 \n",
    "- Crime happend *(Unsucessfuly attempt == No)* = label with number 1 "
   ]
  },
  {
   "cell_type": "code",
   "execution_count": 83,
   "id": "2090add9",
   "metadata": {},
   "outputs": [],
   "source": [
    "le = preprocessing.LabelEncoder()\n",
    "\n",
    "y_train = 1 - le.fit_transform(y_train)\n",
    "\n",
    "y_test = 1 - le.transform(y_test)"
   ]
  },
  {
   "cell_type": "code",
   "execution_count": 84,
   "id": "ad28cfc0",
   "metadata": {},
   "outputs": [
    {
     "data": {
      "text/plain": [
       "array([1, 1, 1, ..., 1, 1, 1])"
      ]
     },
     "execution_count": 84,
     "metadata": {},
     "output_type": "execute_result"
    }
   ],
   "source": [
    "y_train"
   ]
  },
  {
   "cell_type": "markdown",
   "id": "ca073e4c",
   "metadata": {},
   "source": [
    "##### Dataset is highly unbalanced:\n",
    "- 31 706 record are crime *(Unsuccesful_attempt\" == No, so crime happend) - label 1*\n",
    "- 110 record are not crime *(Unsuccesful_attempt\" == Yes, so crime unhappend) - label 0*"
   ]
  },
  {
   "cell_type": "code",
   "execution_count": 85,
   "id": "bf6d4765",
   "metadata": {},
   "outputs": [
    {
     "data": {
      "text/plain": [
       "No     32425\n",
       "Yes      112\n",
       "Name: Unsuccesful_attempt, dtype: int64"
      ]
     },
     "execution_count": 85,
     "metadata": {},
     "output_type": "execute_result"
    }
   ],
   "source": [
    "df[\"Unsuccesful_attempt\"].value_counts()"
   ]
  },
  {
   "cell_type": "code",
   "execution_count": 86,
   "id": "0a098f81",
   "metadata": {},
   "outputs": [
    {
     "data": {
      "image/png": "[encoded data removed]",
      "text/plain": [
       "<Figure size 360x720 with 1 Axes>"
      ]
     },
     "metadata": {},
     "output_type": "display_data"
    }
   ],
   "source": [
    "plt.style.use(\"fivethirtyeight\")\n",
    "fig = plt.figure(figsize=(5, 10))\n",
    "plt.hist(y_train)\n",
    "plt.show()"
   ]
  },
  {
   "cell_type": "markdown",
   "id": "2d6985e7",
   "metadata": {},
   "source": [
    "### SMOTE *(Synthetic minority oversampling technique)* application for minority class\n",
    "#### According to literature SMOTE is better then ordinar oversampling method because algoritm create new data with *information*, contraty ordinar oversampling creat new data by duplicated data from minority class without *information* component  \n",
    "##### Preventing data leakage, SMOTE application is restric only for train dataset"
   ]
  },
  {
   "cell_type": "code",
   "execution_count": 87,
   "id": "0795da37",
   "metadata": {},
   "outputs": [],
   "source": [
    "# smote = SMOTE()\n",
    "# X_train_oversample, y_train_oversample = smote.fit_resample(X_train, y_train)"
   ]
  },
  {
   "cell_type": "code",
   "execution_count": 138,
   "id": "1ffbdfd2",
   "metadata": {},
   "outputs": [],
   "source": [
    "over = SMOTE(sampling_strategy=0.99)\n",
    "under = RandomUnderSampler(sampling_strategy=0.99)\n",
    "\n",
    "steps = [('o', over), ('u', under)]\n",
    "pipeline = Pipeline(steps=steps)\n",
    "\n",
    "X_train_oversample, y_train_oversample = pipeline.fit_resample(X_train, y_train)"
   ]
  },
  {
   "cell_type": "code",
   "execution_count": 139,
   "id": "1e0c04d0",
   "metadata": {},
   "outputs": [
    {
     "data": {
      "image/png": "[encoded data removed]",
      "text/plain": [
       "<Figure size 360x720 with 1 Axes>"
      ]
     },
     "metadata": {},
     "output_type": "display_data"
    }
   ],
   "source": [
    "plt.style.use(\"fivethirtyeight\")\n",
    "fig = plt.figure(figsize=(5, 10))\n",
    "plt.hist(y_train_oversample)\n",
    "plt.show()"
   ]
  },
  {
   "cell_type": "code",
   "execution_count": 140,
   "id": "98562f7d",
   "metadata": {},
   "outputs": [
    {
     "name": "stdout",
     "output_type": "stream",
     "text": [
      "[[   48     0]\n",
      " [ 1206 11761]]\n"
     ]
    }
   ],
   "source": [
    "naive_bayes = GaussianNB()\n",
    "\n",
    "naive_bayes.fit(X_train_oversample, y_train_oversample)\n",
    "\n",
    "y_pred = naive_bayes.predict(X_test)\n",
    "\n",
    "print(confusion_matrix(y_test, y_pred))"
   ]
  },
  {
   "cell_type": "code",
   "execution_count": 141,
   "id": "8369f259",
   "metadata": {},
   "outputs": [
    {
     "data": {
      "text/plain": [
       "<sklearn.metrics._plot.confusion_matrix.ConfusionMatrixDisplay at 0x20304e89af0>"
      ]
     },
     "execution_count": 141,
     "metadata": {},
     "output_type": "execute_result"
    },
    {
     "data": {
      "image/png": "[encoded data removed]",
      "text/plain": [
       "<Figure size 432x288 with 2 Axes>"
      ]
     },
     "metadata": {},
     "output_type": "display_data"
    }
   ],
   "source": [
    "from sklearn.metrics import plot_confusion_matrix\n",
    " \n",
    "cm = confusion_matrix(y_test, naive_bayes.predict(X_test))\n",
    "disp = ConfusionMatrixDisplay(confusion_matrix=cm)\n",
    "disp.plot()"
   ]
  },
  {
   "cell_type": "code",
   "execution_count": 142,
   "id": "60c6e3fb",
   "metadata": {},
   "outputs": [
    {
     "name": "stdout",
     "output_type": "stream",
     "text": [
      "              precision    recall  f1-score   support\n",
      "\n",
      "           0       0.04      1.00      0.07        48\n",
      "           1       1.00      0.91      0.95     12967\n",
      "\n",
      "    accuracy                           0.91     13015\n",
      "   macro avg       0.52      0.95      0.51     13015\n",
      "weighted avg       1.00      0.91      0.95     13015\n",
      "\n"
     ]
    }
   ],
   "source": [
    "naive_bayes = GaussianNB()\n",
    "\n",
    "naive_bayes.fit(X_train_oversample, y_train_oversample)\n",
    "\n",
    "y_pred = naive_bayes.predict(X_test)\n",
    "\n",
    "print(classification_report(y_test, y_pred))"
   ]
  },
  {
   "cell_type": "code",
   "execution_count": 143,
   "id": "97d6b6ac",
   "metadata": {},
   "outputs": [
    {
     "name": "stdout",
     "output_type": "stream",
     "text": [
      "0.9931765892907637\n"
     ]
    }
   ],
   "source": [
    "naive_bayes = GaussianNB()\n",
    "\n",
    "naive_bayes.fit(X_train_oversample, y_train_oversample)\n",
    "\n",
    "y_pred = naive_bayes.predict_proba(X_test)\n",
    "\n",
    "print(roc_auc_score(y_test, y_pred[:,1]))"
   ]
  },
  {
   "cell_type": "code",
   "execution_count": 144,
   "id": "927d8e86",
   "metadata": {},
   "outputs": [],
   "source": [
    "ns_probs = [0 for _ in range(len(y_test))]\n",
    "\n",
    "ns_fpr, ns_tpr, _ = roc_curve(y_test, ns_probs)\n",
    "lr_fpr, lr_tpr, _ = roc_curve(y_test, naive_bayes.predict_proba(X_test)[:,1])"
   ]
  },
  {
   "cell_type": "code",
   "execution_count": 145,
   "id": "d5e4ef54",
   "metadata": {},
   "outputs": [
    {
     "data": {
      "image/png": "[encoded data removed]",
      "text/plain": [
       "<Figure size 432x288 with 1 Axes>"
      ]
     },
     "metadata": {},
     "output_type": "display_data"
    }
   ],
   "source": [
    "plt.plot(ns_fpr, ns_tpr, linestyle='--', label='No Skill')\n",
    "plt.plot(lr_fpr, lr_tpr, marker='.', label='Logistic')\n",
    "# axis labels\n",
    "plt.xlabel('False Positive Rate')\n",
    "plt.ylabel('True Positive Rate')\n",
    "# show the legend\n",
    "plt.legend()\n",
    "# show the plot\n",
    "plt.show();"
   ]
  },
  {
   "cell_type": "markdown",
   "id": "7d06eb7b",
   "metadata": {},
   "source": [
    "### Logistic Regresion Model"
   ]
  },
  {
   "cell_type": "code",
   "execution_count": 178,
   "id": "bb73df42",
   "metadata": {},
   "outputs": [
    {
     "name": "stdout",
     "output_type": "stream",
     "text": [
      "[[   48     0]\n",
      " [ 2573 10394]]\n"
     ]
    }
   ],
   "source": [
    "naive_bayes = LogisticRegression(penalty='l2', C=0.0000000001)\n",
    "\n",
    "logistic_regresion.fit(X_train_oversample, y_train_oversample)\n",
    "\n",
    "y_pred = logistic_regresion.predict(X_test)\n",
    "\n",
    "print(confusion_matrix(y_test, y_pred))"
   ]
  },
  {
   "cell_type": "code",
   "execution_count": 179,
   "id": "ebe22c26",
   "metadata": {},
   "outputs": [
    {
     "data": {
      "text/plain": [
       "<sklearn.metrics._plot.confusion_matrix.ConfusionMatrixDisplay at 0x20304343c40>"
      ]
     },
     "execution_count": 179,
     "metadata": {},
     "output_type": "execute_result"
    },
    {
     "data": {
      "image/png": "[encoded data removed]",
      "text/plain": [
       "<Figure size 432x288 with 2 Axes>"
      ]
     },
     "metadata": {},
     "output_type": "display_data"
    }
   ],
   "source": [
    "cm_log_reg = confusion_matrix(y_test, logistic_regresion.predict(X_test))\n",
    "disp = ConfusionMatrixDisplay(confusion_matrix=cm_log_reg)\n",
    "disp.plot()"
   ]
  },
  {
   "cell_type": "code",
   "execution_count": 175,
   "id": "ae6e997b",
   "metadata": {},
   "outputs": [
    {
     "name": "stdout",
     "output_type": "stream",
     "text": [
      "              precision    recall  f1-score   support\n",
      "\n",
      "           0       0.02      1.00      0.04        48\n",
      "           1       1.00      0.80      0.89     12967\n",
      "\n",
      "    accuracy                           0.80     13015\n",
      "   macro avg       0.51      0.90      0.46     13015\n",
      "weighted avg       1.00      0.80      0.89     13015\n",
      "\n"
     ]
    }
   ],
   "source": [
    "logistic_regresion = LogisticRegression(penalty='l2', C=0.0000000001)\n",
    "\n",
    "logistic_regresion.fit(X_train_oversample, y_train_oversample)\n",
    "\n",
    "y_pred = logistic_regresion.predict(X_test)\n",
    "\n",
    "print(classification_report(y_test, y_pred))"
   ]
  },
  {
   "cell_type": "code",
   "execution_count": 176,
   "id": "057eb729",
   "metadata": {},
   "outputs": [],
   "source": [
    "ns_probs = [0 for _ in range(len(y_test))]\n",
    "\n",
    "ns_fpr, ns_tpr, _ = roc_curve(y_test, ns_probs)\n",
    "lr_fpr, lr_tpr, _ = roc_curve(y_test, logistic_regresion.predict_proba(X_test)[:,1])"
   ]
  },
  {
   "cell_type": "code",
   "execution_count": 177,
   "id": "176d50b5",
   "metadata": {},
   "outputs": [
    {
     "data": {
      "image/png": "[encoded data removed]",
      "text/plain": [
       "<Figure size 432x288 with 1 Axes>"
      ]
     },
     "metadata": {},
     "output_type": "display_data"
    }
   ],
   "source": [
    "plt.plot(ns_fpr, ns_tpr, linestyle='--', label='No Skill')\n",
    "plt.plot(lr_fpr, lr_tpr, marker='.', label='Logistic')\n",
    "# axis labels\n",
    "plt.xlabel('False Positive Rate')\n",
    "plt.ylabel('True Positive Rate')\n",
    "# show the legend\n",
    "plt.legend()\n",
    "# show the plot\n",
    "plt.show();"
   ]
  },
  {
   "cell_type": "markdown",
   "id": "b2b4e66b",
   "metadata": {},
   "source": [
    "##### Creat simply baseline model with the use a mode statistics, for simply class prediction. This model act as our basline for other ML prediction models"
   ]
  },
  {
   "cell_type": "code",
   "execution_count": 429,
   "id": "79726bf4",
   "metadata": {},
   "outputs": [
    {
     "name": "stdout",
     "output_type": "stream",
     "text": [
      "Accuracy score 99.6%\n"
     ]
    }
   ],
   "source": [
    "baseline_model = statistics.mode(y_train)\n",
    "\n",
    "y_pred_baseline_model = [baseline_model] * len(y_test)\n",
    "\n",
    "score_baseline_model = accuracy_score(y_test, y_pred_baseline_model)\n",
    "\n",
    "print(f'Accuracy score {round(score_baseline_model * 100, 2)}%')"
   ]
  }
 ],
 "metadata": {
  "kernelspec": {
   "display_name": "Python 3 (ipykernel)",
   "language": "python",
   "name": "python3"
  },
  "language_info": {
   "codemirror_mode": {
    "name": "ipython",
    "version": 3
   },
   "file_extension": ".py",
   "mimetype": "text/x-python",
   "name": "python",
   "nbconvert_exporter": "python",
   "pygments_lexer": "ipython3",
   "version": "3.9.7"
  },
  "toc": {
   "base_numbering": 1,
   "nav_menu": {},
   "number_sections": true,
   "sideBar": true,
   "skip_h1_title": false,
   "title_cell": "Table of Contents",
   "title_sidebar": "Contents",
   "toc_cell": false,
   "toc_position": {},
   "toc_section_display": true,
   "toc_window_display": false
  }
 },
 "nbformat": 4,
 "nbformat_minor": 5
}
