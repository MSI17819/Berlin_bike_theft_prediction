{
 "cells": [
  {
   "cell_type": "markdown",
   "id": "ddb5f2d0",
   "metadata": {},
   "source": [
    "### Data exploratory analysis"
   ]
  },
  {
   "cell_type": "code",
   "execution_count": 130,
   "id": "66cdc1b3",
   "metadata": {},
   "outputs": [],
   "source": [
    "import pandas as pd\n",
    "import numpy as np\n",
    "import matplotlib.pyplot as plt"
   ]
  },
  {
   "cell_type": "code",
   "execution_count": 131,
   "id": "1af23b71",
   "metadata": {},
   "outputs": [
    {
     "name": "stdout",
     "output_type": "stream",
     "text": [
      "<class 'pandas.core.frame.DataFrame'>\n",
      "RangeIndex: 32000 entries, 0 to 31999\n",
      "Data columns (total 18 columns):\n",
      " #   Column                   Non-Null Count  Dtype \n",
      "---  ------                   --------------  ----- \n",
      " 0   Record_date              32000 non-null  object\n",
      " 1   Record_day               32000 non-null  int64 \n",
      " 2   Record_month             32000 non-null  int64 \n",
      " 3   Record_year              32000 non-null  int64 \n",
      " 4   Stealing_date            32000 non-null  object\n",
      " 5   Stealing_hour            32000 non-null  int64 \n",
      " 6   Report_stealing_date     32000 non-null  object\n",
      " 7   Report_stealing_hour     32000 non-null  int64 \n",
      " 8   Berlin_code_area         32000 non-null  int64 \n",
      " 9   Bike_value               32000 non-null  int64 \n",
      " 10  Unsuccesful_attempt      32000 non-null  object\n",
      " 11  Bike_type                32000 non-null  object\n",
      " 12  Crime_type               32000 non-null  object\n",
      " 13  Crime_reason             32000 non-null  object\n",
      " 14  Administrative_district  32000 non-null  object\n",
      " 15  District                 32000 non-null  object\n",
      " 16  Quarter                  32000 non-null  object\n",
      " 17  Street_name              32000 non-null  object\n",
      "dtypes: int64(7), object(11)\n",
      "memory usage: 4.4+ MB\n"
     ]
    }
   ],
   "source": [
    "url = r'https://raw.githubusercontent.com/MSI17819/Berlin_bike_theft_prediction/main/Berlin_bike_thief_file_for_analysis.csv'\n",
    "\n",
    "df = pd.read_csv(url, sep=',', encoding=\"utf-8\")\n",
    "\n",
    "df.info()"
   ]
  },
  {
   "cell_type": "markdown",
   "id": "643d200d",
   "metadata": {},
   "source": [
    "#### Creat DataFrame copy for next visualisation analysis"
   ]
  },
  {
   "cell_type": "code",
   "execution_count": 132,
   "id": "8d6d2673",
   "metadata": {},
   "outputs": [],
   "source": [
    "df_copy = df.copy()"
   ]
  },
  {
   "cell_type": "markdown",
   "id": "00dc6d9a",
   "metadata": {},
   "source": [
    "#### Display DataFrame copy"
   ]
  },
  {
   "cell_type": "markdown",
   "id": "cf5708f5",
   "metadata": {},
   "source": [
    "#### Change Record_day column for verbal day representation "
   ]
  },
  {
   "cell_type": "code",
   "execution_count": 133,
   "id": "42c61ebc",
   "metadata": {},
   "outputs": [],
   "source": [
    "df_copy['Record_day'] = pd.to_datetime(df_copy['Record_date']).dt.day_name()"
   ]
  },
  {
   "cell_type": "code",
   "execution_count": 134,
   "id": "d5fe6ebc",
   "metadata": {},
   "outputs": [
    {
     "data": {
      "text/html": [
       "<div>\n",
       "<style scoped>\n",
       "    .dataframe tbody tr th:only-of-type {\n",
       "        vertical-align: middle;\n",
       "    }\n",
       "\n",
       "    .dataframe tbody tr th {\n",
       "        vertical-align: top;\n",
       "    }\n",
       "\n",
       "    .dataframe thead th {\n",
       "        text-align: right;\n",
       "    }\n",
       "</style>\n",
       "<table border=\"1\" class=\"dataframe\">\n",
       "  <thead>\n",
       "    <tr style=\"text-align: right;\">\n",
       "      <th></th>\n",
       "      <th>Record_date</th>\n",
       "    </tr>\n",
       "    <tr>\n",
       "      <th>Record_day</th>\n",
       "      <th></th>\n",
       "    </tr>\n",
       "  </thead>\n",
       "  <tbody>\n",
       "    <tr>\n",
       "      <th>Monday</th>\n",
       "      <td>5514</td>\n",
       "    </tr>\n",
       "    <tr>\n",
       "      <th>Tuesday</th>\n",
       "      <td>5147</td>\n",
       "    </tr>\n",
       "    <tr>\n",
       "      <th>Wednesday</th>\n",
       "      <td>5066</td>\n",
       "    </tr>\n",
       "    <tr>\n",
       "      <th>Thursday</th>\n",
       "      <td>4795</td>\n",
       "    </tr>\n",
       "    <tr>\n",
       "      <th>Friday</th>\n",
       "      <td>4388</td>\n",
       "    </tr>\n",
       "    <tr>\n",
       "      <th>Sunday</th>\n",
       "      <td>3720</td>\n",
       "    </tr>\n",
       "    <tr>\n",
       "      <th>Saturday</th>\n",
       "      <td>3370</td>\n",
       "    </tr>\n",
       "  </tbody>\n",
       "</table>\n",
       "</div>"
      ],
      "text/plain": [
       "            Record_date\n",
       "Record_day             \n",
       "Monday             5514\n",
       "Tuesday            5147\n",
       "Wednesday          5066\n",
       "Thursday           4795\n",
       "Friday             4388\n",
       "Sunday             3720\n",
       "Saturday           3370"
      ]
     },
     "execution_count": 134,
     "metadata": {},
     "output_type": "execute_result"
    }
   ],
   "source": [
    "df_copy.groupby('Record_day')[['Record_date']].count().sort_values(by='Record_date', ascending=False)"
   ]
  },
  {
   "cell_type": "code",
   "execution_count": 135,
   "id": "95468d98",
   "metadata": {},
   "outputs": [
    {
     "data": {
      "image/png": "[encoded data removed]",
      "text/plain": [
       "<Figure size 864x720 with 1 Axes>"
      ]
     },
     "metadata": {},
     "output_type": "display_data"
    }
   ],
   "source": [
    "df_copy.groupby('Record_day')[['Record_date']].count()\\\n",
    "                .sort_values(by='Record_date', ascending=True)\\\n",
    "                .plot(kind='barh',\n",
    "                figsize=(12,10),\n",
    "                fontsize=12,\n",
    "                title='Amount of crimes by Day of Week',\n",
    "                xlabel='Day of week',\n",
    "                grid=True);"
   ]
  },
  {
   "cell_type": "code",
   "execution_count": 136,
   "id": "b2d2a148",
   "metadata": {},
   "outputs": [
    {
     "data": {
      "text/html": [
       "<div>\n",
       "<style scoped>\n",
       "    .dataframe tbody tr th:only-of-type {\n",
       "        vertical-align: middle;\n",
       "    }\n",
       "\n",
       "    .dataframe tbody tr th {\n",
       "        vertical-align: top;\n",
       "    }\n",
       "\n",
       "    .dataframe thead th {\n",
       "        text-align: right;\n",
       "    }\n",
       "</style>\n",
       "<table border=\"1\" class=\"dataframe\">\n",
       "  <thead>\n",
       "    <tr style=\"text-align: right;\">\n",
       "      <th></th>\n",
       "      <th>Record_date</th>\n",
       "    </tr>\n",
       "    <tr>\n",
       "      <th>Administrative_district</th>\n",
       "      <th></th>\n",
       "    </tr>\n",
       "  </thead>\n",
       "  <tbody>\n",
       "    <tr>\n",
       "      <th>Pankow</th>\n",
       "      <td>5042</td>\n",
       "    </tr>\n",
       "    <tr>\n",
       "      <th>Mitte</th>\n",
       "      <td>4518</td>\n",
       "    </tr>\n",
       "    <tr>\n",
       "      <th>Friedrichshain-Kreuzberg</th>\n",
       "      <td>4401</td>\n",
       "    </tr>\n",
       "    <tr>\n",
       "      <th>Charlottenburg-Wilmersdorf</th>\n",
       "      <td>3502</td>\n",
       "    </tr>\n",
       "    <tr>\n",
       "      <th>Tempelhof-Schöneberg</th>\n",
       "      <td>2676</td>\n",
       "    </tr>\n",
       "    <tr>\n",
       "      <th>Treptow-Köpenick</th>\n",
       "      <td>2505</td>\n",
       "    </tr>\n",
       "    <tr>\n",
       "      <th>Neukölln</th>\n",
       "      <td>2490</td>\n",
       "    </tr>\n",
       "    <tr>\n",
       "      <th>Steglitz-Zehlendorf</th>\n",
       "      <td>2025</td>\n",
       "    </tr>\n",
       "    <tr>\n",
       "      <th>Lichtenberg</th>\n",
       "      <td>1785</td>\n",
       "    </tr>\n",
       "    <tr>\n",
       "      <th>Reinickendorf</th>\n",
       "      <td>1202</td>\n",
       "    </tr>\n",
       "    <tr>\n",
       "      <th>Marzahn-Hellersdorf</th>\n",
       "      <td>945</td>\n",
       "    </tr>\n",
       "    <tr>\n",
       "      <th>Spandau</th>\n",
       "      <td>909</td>\n",
       "    </tr>\n",
       "  </tbody>\n",
       "</table>\n",
       "</div>"
      ],
      "text/plain": [
       "                            Record_date\n",
       "Administrative_district                \n",
       "Pankow                             5042\n",
       "Mitte                              4518\n",
       "Friedrichshain-Kreuzberg           4401\n",
       "Charlottenburg-Wilmersdorf         3502\n",
       "Tempelhof-Schöneberg               2676\n",
       "Treptow-Köpenick                   2505\n",
       "Neukölln                           2490\n",
       "Steglitz-Zehlendorf                2025\n",
       "Lichtenberg                        1785\n",
       "Reinickendorf                      1202\n",
       "Marzahn-Hellersdorf                 945\n",
       "Spandau                             909"
      ]
     },
     "execution_count": 136,
     "metadata": {},
     "output_type": "execute_result"
    }
   ],
   "source": [
    "df_copy.groupby('Administrative_district')[['Record_date']].count().sort_values(by=['Record_date'], ascending=False)"
   ]
  },
  {
   "cell_type": "code",
   "execution_count": 137,
   "id": "713cfb5c",
   "metadata": {},
   "outputs": [
    {
     "data": {
      "image/png": "[encoded data removed]",
      "text/plain": [
       "<Figure size 864x720 with 1 Axes>"
      ]
     },
     "metadata": {},
     "output_type": "display_data"
    }
   ],
   "source": [
    "df_copy.groupby('Administrative_district')[['Record_date']].count()\\\n",
    "                                    .sort_values(by=['Record_date'], ascending=True)\\\n",
    "                                    .plot(kind='barh',\n",
    "                                    figsize=(12,10),\n",
    "                                    fontsize=12,\n",
    "                                    title='Amount of crimes by Administrative districte',\n",
    "                                    xlabel='Administrative district',\n",
    "                                    grid=True);"
   ]
  },
  {
   "cell_type": "code",
   "execution_count": 138,
   "id": "d4c02a34",
   "metadata": {},
   "outputs": [
    {
     "data": {
      "text/html": [
       "<div>\n",
       "<style scoped>\n",
       "    .dataframe tbody tr th:only-of-type {\n",
       "        vertical-align: middle;\n",
       "    }\n",
       "\n",
       "    .dataframe tbody tr th {\n",
       "        vertical-align: top;\n",
       "    }\n",
       "\n",
       "    .dataframe thead th {\n",
       "        text-align: right;\n",
       "    }\n",
       "</style>\n",
       "<table border=\"1\" class=\"dataframe\">\n",
       "  <thead>\n",
       "    <tr style=\"text-align: right;\">\n",
       "      <th></th>\n",
       "      <th>Record_date</th>\n",
       "    </tr>\n",
       "    <tr>\n",
       "      <th>Bike_type</th>\n",
       "      <th></th>\n",
       "    </tr>\n",
       "  </thead>\n",
       "  <tbody>\n",
       "    <tr>\n",
       "      <th>Men</th>\n",
       "      <td>14725</td>\n",
       "    </tr>\n",
       "    <tr>\n",
       "      <th>Women</th>\n",
       "      <td>9349</td>\n",
       "    </tr>\n",
       "    <tr>\n",
       "      <th>Bike</th>\n",
       "      <td>4765</td>\n",
       "    </tr>\n",
       "    <tr>\n",
       "      <th>Mountain</th>\n",
       "      <td>1408</td>\n",
       "    </tr>\n",
       "    <tr>\n",
       "      <th>Child</th>\n",
       "      <td>1263</td>\n",
       "    </tr>\n",
       "    <tr>\n",
       "      <th>Racing</th>\n",
       "      <td>443</td>\n",
       "    </tr>\n",
       "    <tr>\n",
       "      <th>Cargo</th>\n",
       "      <td>47</td>\n",
       "    </tr>\n",
       "  </tbody>\n",
       "</table>\n",
       "</div>"
      ],
      "text/plain": [
       "           Record_date\n",
       "Bike_type             \n",
       "Men              14725\n",
       "Women             9349\n",
       "Bike              4765\n",
       "Mountain          1408\n",
       "Child             1263\n",
       "Racing             443\n",
       "Cargo               47"
      ]
     },
     "execution_count": 138,
     "metadata": {},
     "output_type": "execute_result"
    }
   ],
   "source": [
    "df_copy.groupby('Bike_type')[['Record_date']].count().sort_values(by='Record_date', ascending=False)"
   ]
  },
  {
   "cell_type": "code",
   "execution_count": 139,
   "id": "bc42d867",
   "metadata": {},
   "outputs": [
    {
     "data": {
      "text/html": [
       "<div>\n",
       "<style scoped>\n",
       "    .dataframe tbody tr th:only-of-type {\n",
       "        vertical-align: middle;\n",
       "    }\n",
       "\n",
       "    .dataframe tbody tr th {\n",
       "        vertical-align: top;\n",
       "    }\n",
       "\n",
       "    .dataframe thead th {\n",
       "        text-align: right;\n",
       "    }\n",
       "</style>\n",
       "<table border=\"1\" class=\"dataframe\">\n",
       "  <thead>\n",
       "    <tr style=\"text-align: right;\">\n",
       "      <th></th>\n",
       "      <th>Record_date</th>\n",
       "    </tr>\n",
       "    <tr>\n",
       "      <th>Crime_type</th>\n",
       "      <th></th>\n",
       "    </tr>\n",
       "  </thead>\n",
       "  <tbody>\n",
       "    <tr>\n",
       "      <th>Theft</th>\n",
       "      <td>30612</td>\n",
       "    </tr>\n",
       "    <tr>\n",
       "      <th>Break-in</th>\n",
       "      <td>1388</td>\n",
       "    </tr>\n",
       "  </tbody>\n",
       "</table>\n",
       "</div>"
      ],
      "text/plain": [
       "            Record_date\n",
       "Crime_type             \n",
       "Theft             30612\n",
       "Break-in           1388"
      ]
     },
     "execution_count": 139,
     "metadata": {},
     "output_type": "execute_result"
    }
   ],
   "source": [
    "df_copy.groupby('Crime_type')[['Record_date']].count().sort_values(by='Record_date', ascending=False)"
   ]
  },
  {
   "cell_type": "markdown",
   "id": "f9bf3827",
   "metadata": {},
   "source": [
    "#### Drop column *Record_date*"
   ]
  },
  {
   "cell_type": "code",
   "execution_count": 140,
   "id": "771de333",
   "metadata": {},
   "outputs": [],
   "source": [
    "df.drop([\"Record_date\"], axis=1, inplace=True)"
   ]
  },
  {
   "cell_type": "code",
   "execution_count": 141,
   "id": "bb75d6d5",
   "metadata": {},
   "outputs": [],
   "source": [
    "df['Stealing_date'] = pd.to_numeric(pd.to_datetime(df['Stealing_date']))\n",
    "df['Report_stealing_date'] = pd.to_numeric(pd.to_datetime(df['Report_stealing_date']))"
   ]
  },
  {
   "cell_type": "code",
   "execution_count": 142,
   "id": "83746b04",
   "metadata": {},
   "outputs": [],
   "source": [
    "df[[col for col in df.columns if df[col].dtypes == object]] = \\\n",
    "df[[col for col in df.columns if df[col].dtypes == object]].astype('category')"
   ]
  },
  {
   "cell_type": "markdown",
   "id": "20cea676",
   "metadata": {},
   "source": [
    "### Machine Learning prediction modeling"
   ]
  },
  {
   "cell_type": "code",
   "execution_count": 143,
   "id": "f0ba923f",
   "metadata": {},
   "outputs": [],
   "source": [
    "from sklearn import preprocessing\n",
    "from sklearn.model_selection import GridSearchCV\n",
    "from sklearn.preprocessing import StandardScaler\n",
    "from sklearn.model_selection import train_test_split\n",
    "from sklearn.pipeline import Pipeline\n",
    "from sklearn.metrics import classification_report, f1_score, make_scorer\n",
    "from sklearn.compose import ColumnTransformer\n",
    "from sklearn.preprocessing import Normalizer, StandardScaler, OneHotEncoder"
   ]
  },
  {
   "cell_type": "code",
   "execution_count": 153,
   "id": "9251857b",
   "metadata": {},
   "outputs": [],
   "source": [
    "from sklearn.linear_model import LinearRegression\n",
    "from sklearn.naive_bayes import MultinomialNB\n",
    "from sklearn.ensemble import RandomForestClassifier\n",
    "from sklearn.svm import SVC\n",
    "from sklearn.linear_model import LogisticRegression\n",
    "from sklearn.ensemble import GradientBoostingClassifier\n",
    "from sklearn.tree import DecisionTreeClassifier\n",
    "import statistics\n",
    "from sklearn.metrics import accuracy_score\n",
    "from sklearn.datasets import make_classification\n",
    "from imblearn.over_sampling import RandomOverSampler\n",
    "from imblearn.over_sampling import SMOTE\n",
    "from sklearn.metrics import matthews_corrcoef, average_precision_score\n",
    "from sklearn.metrics import roc_auc_score, accuracy_score, recall_score, precision_score\n",
    "import xgboost as xgb"
   ]
  },
  {
   "cell_type": "markdown",
   "id": "632757ad",
   "metadata": {},
   "source": [
    "#### Split data to 70% train and 30% test (the size of dataset is big almost 31 thousand)"
   ]
  },
  {
   "cell_type": "code",
   "execution_count": 145,
   "id": "ed8f6a2c",
   "metadata": {},
   "outputs": [],
   "source": [
    "X = df.drop(['Unsuccesful_attempt'], axis=1)\n",
    "y = df['Unsuccesful_attempt']"
   ]
  },
  {
   "cell_type": "code",
   "execution_count": 146,
   "id": "f50f3828",
   "metadata": {},
   "outputs": [],
   "source": [
    "X_train, X_test, y_train, y_test = train_test_split(X, y, test_size = 0.3,\n",
    "                                                    random_state = 0, stratify = y)"
   ]
  },
  {
   "cell_type": "markdown",
   "id": "1075f644",
   "metadata": {},
   "source": [
    "#### Transform data to acceptable form for Machine Learning algoritm"
   ]
  },
  {
   "cell_type": "code",
   "execution_count": 147,
   "id": "8c717cd9",
   "metadata": {},
   "outputs": [],
   "source": [
    "transformer = ColumnTransformer(transformers=[\n",
    "    ('tnf1', OneHotEncoder(handle_unknown='ignore', sparse=False), [9, 10, 11, 12, 13, 14, 15]),\n",
    "    ('trf2', StandardScaler(), [0, 1, 2, 3, 4, 5, 6])], \n",
    "    remainder='passthrough')\n",
    "\n",
    "X_train = transformer.fit_transform(X_train)\n",
    "\n",
    "X_test = transformer.transform(X_test)"
   ]
  },
  {
   "cell_type": "markdown",
   "id": "07516a65",
   "metadata": {},
   "source": [
    "#### Transform y-variable by LabelEncoder for two classes (0 and 1)\n",
    "##### Project assume crime prediction, but in dataset more than 99% are crime, and only 1% are no crime (*Unsucessfuly_attempt column*). Due to this fact, y-variable are reverse encoding. No crime treat as 0 (normal situation), crime treat as 1 (unnormal situation) \n",
    "- Crime unhappend *(Unsucessfuly attempt == Yes)* = label with number 0 \n",
    "- Crime happend *(Unsucessfuly attempt == No)* = label with number 1 "
   ]
  },
  {
   "cell_type": "code",
   "execution_count": 148,
   "id": "2090add9",
   "metadata": {},
   "outputs": [],
   "source": [
    "le = preprocessing.LabelEncoder()\n",
    "\n",
    "y_train = (1- le.fit_transform(y_train))\n",
    "\n",
    "y_test = le.transform(y_test)"
   ]
  },
  {
   "cell_type": "markdown",
   "id": "ca073e4c",
   "metadata": {},
   "source": [
    "##### Dataset is highly unbalanced:\n",
    "- 31 706 record are crime *(Unsuccesful_attempt\" == No, so crime happend) - label 1*\n",
    "- 110 record are not crime *(Unsuccesful_attempt\" == Yes, so crime unhappend) - label 0*"
   ]
  },
  {
   "cell_type": "code",
   "execution_count": 106,
   "id": "bf6d4765",
   "metadata": {},
   "outputs": [
    {
     "data": {
      "text/plain": [
       "No     31890\n",
       "Yes      110\n",
       "Name: Unsuccesful_attempt, dtype: int64"
      ]
     },
     "execution_count": 106,
     "metadata": {},
     "output_type": "execute_result"
    }
   ],
   "source": [
    "df[\"Unsuccesful_attempt\"].value_counts()"
   ]
  },
  {
   "cell_type": "code",
   "execution_count": 149,
   "id": "0a098f81",
   "metadata": {},
   "outputs": [
    {
     "data": {
      "image/png": "[encoded data removed]",
      "text/plain": [
       "<Figure size 360x720 with 1 Axes>"
      ]
     },
     "metadata": {},
     "output_type": "display_data"
    }
   ],
   "source": [
    "plt.style.use(\"fivethirtyeight\")\n",
    "fig = plt.figure(figsize=(5, 10))\n",
    "plt.hist(y_train)\n",
    "plt.show()"
   ]
  },
  {
   "cell_type": "markdown",
   "id": "2d6985e7",
   "metadata": {},
   "source": [
    "### SMOTE *(Synthetic minority oversampling technique)* application for minority class\n",
    "#### According to literature SMOTE is better then ordinar oversampling method because algoritm create new data with *information*, contraty ordinar oversampling creat new data by duplicated data from minority class without *information* component  \n",
    "##### Preventing data leakage, SMOTE application is restric only for train dataset"
   ]
  },
  {
   "cell_type": "code",
   "execution_count": 127,
   "id": "0795da37",
   "metadata": {},
   "outputs": [],
   "source": [
    "smote = SMOTE(sampling_strategy='minority')\n",
    "X_train_oversample, y_train_oversample = smote.fit_resample(X_train, y_train)"
   ]
  },
  {
   "cell_type": "code",
   "execution_count": 150,
   "id": "1e0c04d0",
   "metadata": {},
   "outputs": [
    {
     "data": {
      "image/png": "[encoded data removed]",
      "text/plain": [
       "<Figure size 360x720 with 1 Axes>"
      ]
     },
     "metadata": {},
     "output_type": "display_data"
    }
   ],
   "source": [
    "plt.style.use(\"fivethirtyeight\")\n",
    "fig = plt.figure(figsize=(5, 10))\n",
    "plt.hist(y_train_oversample)\n",
    "plt.show()"
   ]
  },
  {
   "cell_type": "code",
   "execution_count": 151,
   "id": "68d9dab3",
   "metadata": {},
   "outputs": [
    {
     "name": "stdout",
     "output_type": "stream",
     "text": [
      "              precision    recall  f1-score   support\n",
      "\n",
      "           0       1.00      0.99      0.99      9567\n",
      "           1       0.23      1.00      0.38        33\n",
      "\n",
      "    accuracy                           0.99      9600\n",
      "   macro avg       0.62      0.99      0.68      9600\n",
      "weighted avg       1.00      0.99      0.99      9600\n",
      "\n"
     ]
    }
   ],
   "source": [
    "clf_log_reg = LogisticRegression(random_state = 0, C=0.001, penalty='l2')\n",
    "\n",
    "clf_log_reg.fit(X_train_oversample, y_train_oversample)\n",
    "\n",
    "y_pred = clf_log_reg.predict(X_test)\n",
    "\n",
    "print(classification_report(y_test, y_pred))"
   ]
  },
  {
   "cell_type": "markdown",
   "id": "b2b4e66b",
   "metadata": {},
   "source": [
    "##### Creat simply baseline model with the use a mode statistics, for simply class prediction. This model act as our basline for other ML prediction models"
   ]
  },
  {
   "cell_type": "code",
   "execution_count": 126,
   "id": "79726bf4",
   "metadata": {},
   "outputs": [
    {
     "name": "stdout",
     "output_type": "stream",
     "text": [
      "Accuracy score 99.66%\n"
     ]
    }
   ],
   "source": [
    "baseline_model = statistics.mode(y_train)\n",
    "\n",
    "y_pred_baseline_model = [baseline_model] * len(y_test)\n",
    "\n",
    "score_baseline_model = accuracy_score(y_test, y_pred_baseline_model)\n",
    "\n",
    "print(f'Accuracy score {round(score_baseline_model * 100, 2)}%')"
   ]
  },
  {
   "cell_type": "code",
   "execution_count": 152,
   "id": "224e888a",
   "metadata": {},
   "outputs": [
    {
     "name": "stdout",
     "output_type": "stream",
     "text": [
      "              precision    recall  f1-score   support\n",
      "\n",
      "           0       1.00      1.00      1.00      9567\n",
      "           1       0.72      0.64      0.68        33\n",
      "\n",
      "    accuracy                           1.00      9600\n",
      "   macro avg       0.86      0.82      0.84      9600\n",
      "weighted avg       1.00      1.00      1.00      9600\n",
      "\n"
     ]
    }
   ],
   "source": [
    "model = xgb.XGBClassifier()\n",
    "\n",
    "model.fit(X_train_oversample, y_train_oversample)\n",
    "\n",
    "y_pred = model.predict(X_test)\n",
    "\n",
    "print(classification_report(y_test, y_pred))"
   ]
  },
  {
   "cell_type": "code",
   "execution_count": null,
   "id": "3b92a302",
   "metadata": {},
   "outputs": [],
   "source": []
  }
 ],
 "metadata": {
  "kernelspec": {
   "display_name": "Python 3 (ipykernel)",
   "language": "python",
   "name": "python3"
  },
  "language_info": {
   "codemirror_mode": {
    "name": "ipython",
    "version": 3
   },
   "file_extension": ".py",
   "mimetype": "text/x-python",
   "name": "python",
   "nbconvert_exporter": "python",
   "pygments_lexer": "ipython3",
   "version": "3.9.7"
  },
  "toc": {
   "base_numbering": 1,
   "nav_menu": {},
   "number_sections": true,
   "sideBar": true,
   "skip_h1_title": false,
   "title_cell": "Table of Contents",
   "title_sidebar": "Contents",
   "toc_cell": false,
   "toc_position": {},
   "toc_section_display": true,
   "toc_window_display": false
  }
 },
 "nbformat": 4,
 "nbformat_minor": 5
}
