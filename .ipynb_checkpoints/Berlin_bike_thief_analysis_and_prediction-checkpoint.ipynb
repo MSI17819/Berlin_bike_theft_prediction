{
 "cells": [
  {
   "cell_type": "markdown",
   "id": "ddb5f2d0",
   "metadata": {},
   "source": [
    "### Data exploratory analysis"
   ]
  },
  {
   "cell_type": "code",
   "execution_count": null,
   "id": "1af23b71",
   "metadata": {},
   "outputs": [],
   "source": [
    "url = r\"https://raw.githubusercontent.com/MSI17819/Berlin_bike_theft_prediction/main/Berlin_LOR_code.csv\"\n",
    "\n",
    "df = pd.read_csv(url, sep=';', encoding=\"UTF-8\")\n",
    "\n",
    "df.info()"
   ]
  },
  {
   "cell_type": "code",
   "execution_count": null,
   "id": "d5fe6ebc",
   "metadata": {},
   "outputs": [],
   "source": [
    "df.groupby('Record_day_of_week')[['Record_date']].count().sort_values(by='Record_date', ascending=False)"
   ]
  },
  {
   "cell_type": "code",
   "execution_count": null,
   "id": "95468d98",
   "metadata": {},
   "outputs": [],
   "source": [
    "df.groupby('Record_day_of_week')[['Record_date']].count().sort_values(by='Record_date', ascending=True).plot(kind='barh',\n",
    "                                                                                                                   figsize=(12,10),\n",
    "                                                                                                                   fontsize=12,\n",
    "                                                                                                                   title='Amount of crimes by Day of Week',\n",
    "                                                                                                                   xlabel='Day of week',\n",
    "                                                                                                                   grid=True)"
   ]
  },
  {
   "cell_type": "code",
   "execution_count": null,
   "id": "b2d2a148",
   "metadata": {},
   "outputs": [],
   "source": [
    "df.groupby('Administrative_district')[['Record_date']].count().sort_values(by=['Record_date'], ascending=False)"
   ]
  },
  {
   "cell_type": "code",
   "execution_count": null,
   "id": "713cfb5c",
   "metadata": {},
   "outputs": [],
   "source": [
    "df.groupby('Administrative_district')[['Record_date']].count().sort_values(by=['Record_date'], ascending=True).plot(kind='barh',\n",
    "                                                                                                                          figsize=(12,10),\n",
    "                                                                                                                          grid=True)"
   ]
  },
  {
   "cell_type": "code",
   "execution_count": null,
   "id": "d4c02a34",
   "metadata": {},
   "outputs": [],
   "source": [
    "df.groupby('Bike_type')[['Record_date']].count().sort_values(by='Record_date', ascending=False)"
   ]
  },
  {
   "cell_type": "code",
   "execution_count": null,
   "id": "bc42d867",
   "metadata": {},
   "outputs": [],
   "source": [
    "df.groupby('Crime_type')[['Record_date']].count().sort_values(by='Record_date', ascending=False)"
   ]
  }
 ],
 "metadata": {
  "kernelspec": {
   "display_name": "Python 3 (ipykernel)",
   "language": "python",
   "name": "python3"
  },
  "language_info": {
   "codemirror_mode": {
    "name": "ipython",
    "version": 3
   },
   "file_extension": ".py",
   "mimetype": "text/x-python",
   "name": "python",
   "nbconvert_exporter": "python",
   "pygments_lexer": "ipython3",
   "version": "3.9.7"
  },
  "toc": {
   "base_numbering": 1,
   "nav_menu": {},
   "number_sections": true,
   "sideBar": true,
   "skip_h1_title": false,
   "title_cell": "Table of Contents",
   "title_sidebar": "Contents",
   "toc_cell": false,
   "toc_position": {},
   "toc_section_display": true,
   "toc_window_display": false
  }
 },
 "nbformat": 4,
 "nbformat_minor": 5
}
