{
 "cells": [
  {
   "cell_type": "markdown",
   "id": "ddb5f2d0",
   "metadata": {},
   "source": [
    "### Data exploratory analysis"
   ]
  },
  {
   "cell_type": "code",
   "execution_count": 1,
   "id": "66cdc1b3",
   "metadata": {},
   "outputs": [],
   "source": [
    "import pandas as pd\n",
    "import numpy as np\n",
    "import matplotlib.pyplot as plt\n",
    "import matplotlib.pyplot as plt\n",
    "import seaborn as sns"
   ]
  },
  {
   "cell_type": "code",
   "execution_count": 2,
   "id": "1af23b71",
   "metadata": {},
   "outputs": [
    {
     "name": "stdout",
     "output_type": "stream",
     "text": [
      "<class 'pandas.core.frame.DataFrame'>\n",
      "RangeIndex: 33660 entries, 0 to 33659\n",
      "Data columns (total 18 columns):\n",
      " #   Column                   Non-Null Count  Dtype \n",
      "---  ------                   --------------  ----- \n",
      " 0   Record_date              33660 non-null  object\n",
      " 1   Record_day               33660 non-null  int64 \n",
      " 2   Record_month             33660 non-null  int64 \n",
      " 3   Record_year              33660 non-null  int64 \n",
      " 4   Stealing_date            33660 non-null  object\n",
      " 5   Stealing_hour            33660 non-null  int64 \n",
      " 6   Report_stealing_date     33660 non-null  object\n",
      " 7   Report_stealing_hour     33660 non-null  int64 \n",
      " 8   Berlin_code_area         33660 non-null  int64 \n",
      " 9   Bike_value               33660 non-null  int64 \n",
      " 10  Unsuccesful_attempt      33660 non-null  object\n",
      " 11  Bike_type                33660 non-null  object\n",
      " 12  Crime_type               33660 non-null  object\n",
      " 13  Crime_reason             33660 non-null  object\n",
      " 14  Administrative_district  33659 non-null  object\n",
      " 15  District                 33659 non-null  object\n",
      " 16  Quarter                  33659 non-null  object\n",
      " 17  Street_name              33659 non-null  object\n",
      "dtypes: int64(7), object(11)\n",
      "memory usage: 4.6+ MB\n"
     ]
    }
   ],
   "source": [
    "url = r'https://raw.githubusercontent.com/MSI17819/Berlin_bike_theft_prediction/main/Berlin_bike_thief_file_for_analysis.csv'\n",
    "\n",
    "df = pd.read_csv(url, sep=',', encoding=\"utf-8\")\n",
    "\n",
    "df.info()"
   ]
  },
  {
   "cell_type": "code",
   "execution_count": 3,
   "id": "2ae6d995",
   "metadata": {},
   "outputs": [
    {
     "data": {
      "text/html": [
       "<div>\n",
       "<style scoped>\n",
       "    .dataframe tbody tr th:only-of-type {\n",
       "        vertical-align: middle;\n",
       "    }\n",
       "\n",
       "    .dataframe tbody tr th {\n",
       "        vertical-align: top;\n",
       "    }\n",
       "\n",
       "    .dataframe thead th {\n",
       "        text-align: right;\n",
       "    }\n",
       "</style>\n",
       "<table border=\"1\" class=\"dataframe\">\n",
       "  <thead>\n",
       "    <tr style=\"text-align: right;\">\n",
       "      <th></th>\n",
       "      <th>Record_date</th>\n",
       "      <th>Record_day</th>\n",
       "      <th>Record_month</th>\n",
       "      <th>Record_year</th>\n",
       "      <th>Stealing_date</th>\n",
       "      <th>Stealing_hour</th>\n",
       "      <th>Report_stealing_date</th>\n",
       "      <th>Report_stealing_hour</th>\n",
       "      <th>Berlin_code_area</th>\n",
       "      <th>Bike_value</th>\n",
       "      <th>Unsuccesful_attempt</th>\n",
       "      <th>Bike_type</th>\n",
       "      <th>Crime_type</th>\n",
       "      <th>Crime_reason</th>\n",
       "      <th>Administrative_district</th>\n",
       "      <th>District</th>\n",
       "      <th>Quarter</th>\n",
       "      <th>Street_name</th>\n",
       "    </tr>\n",
       "  </thead>\n",
       "  <tbody>\n",
       "    <tr>\n",
       "      <th>0</th>\n",
       "      <td>2022-08-25</td>\n",
       "      <td>25</td>\n",
       "      <td>8</td>\n",
       "      <td>2022</td>\n",
       "      <td>2022-08-25</td>\n",
       "      <td>2</td>\n",
       "      <td>2022-08-25</td>\n",
       "      <td>6</td>\n",
       "      <td>2500834</td>\n",
       "      <td>621</td>\n",
       "      <td>No</td>\n",
       "      <td>Men</td>\n",
       "      <td>Theft</td>\n",
       "      <td>Aggravated theft</td>\n",
       "      <td>Friedrichshain-Kreuzberg</td>\n",
       "      <td>Friedrichshain Ost</td>\n",
       "      <td>Frankfurter Allee Süd FK</td>\n",
       "      <td>Revaler Straße</td>\n",
       "    </tr>\n",
       "    <tr>\n",
       "      <th>1</th>\n",
       "      <td>2022-08-25</td>\n",
       "      <td>25</td>\n",
       "      <td>8</td>\n",
       "      <td>2022</td>\n",
       "      <td>2022-08-24</td>\n",
       "      <td>18</td>\n",
       "      <td>2022-08-25</td>\n",
       "      <td>8</td>\n",
       "      <td>7601237</td>\n",
       "      <td>140</td>\n",
       "      <td>No</td>\n",
       "      <td>Women</td>\n",
       "      <td>Theft</td>\n",
       "      <td>Aggravated theft</td>\n",
       "      <td>Tempelhof-Schöneberg</td>\n",
       "      <td>Marienfelde / Lichtenrade</td>\n",
       "      <td>Marienfelde Nord</td>\n",
       "      <td>Kirchstraße</td>\n",
       "    </tr>\n",
       "    <tr>\n",
       "      <th>2</th>\n",
       "      <td>2022-08-25</td>\n",
       "      <td>25</td>\n",
       "      <td>8</td>\n",
       "      <td>2022</td>\n",
       "      <td>2022-08-22</td>\n",
       "      <td>20</td>\n",
       "      <td>2022-08-24</td>\n",
       "      <td>9</td>\n",
       "      <td>2500729</td>\n",
       "      <td>900</td>\n",
       "      <td>No</td>\n",
       "      <td>Women</td>\n",
       "      <td>Theft</td>\n",
       "      <td>Aggravated theft</td>\n",
       "      <td>Friedrichshain-Kreuzberg</td>\n",
       "      <td>Friedrichshain Ost</td>\n",
       "      <td>Frankfurter Allee Nord</td>\n",
       "      <td>Pettenkofer Straße</td>\n",
       "    </tr>\n",
       "    <tr>\n",
       "      <th>3</th>\n",
       "      <td>2022-08-25</td>\n",
       "      <td>25</td>\n",
       "      <td>8</td>\n",
       "      <td>2022</td>\n",
       "      <td>2022-08-25</td>\n",
       "      <td>8</td>\n",
       "      <td>2022-08-25</td>\n",
       "      <td>14</td>\n",
       "      <td>6400737</td>\n",
       "      <td>500</td>\n",
       "      <td>No</td>\n",
       "      <td>Women</td>\n",
       "      <td>Theft</td>\n",
       "      <td>Aggravated theft</td>\n",
       "      <td>Steglitz-Zehlendorf</td>\n",
       "      <td>Zehlendorf Nord/Wannsee</td>\n",
       "      <td>Zehlendorf Südwest</td>\n",
       "      <td>Nikolassee</td>\n",
       "    </tr>\n",
       "    <tr>\n",
       "      <th>4</th>\n",
       "      <td>2022-08-25</td>\n",
       "      <td>25</td>\n",
       "      <td>8</td>\n",
       "      <td>2022</td>\n",
       "      <td>2022-08-24</td>\n",
       "      <td>17</td>\n",
       "      <td>2022-08-24</td>\n",
       "      <td>17</td>\n",
       "      <td>4300623</td>\n",
       "      <td>668</td>\n",
       "      <td>No</td>\n",
       "      <td>Women</td>\n",
       "      <td>Theft</td>\n",
       "      <td>Aggravated theft</td>\n",
       "      <td>Charlottenburg-Wilmersdorf</td>\n",
       "      <td>Charlottenburg Zentrum</td>\n",
       "      <td>Otto-Suhr-Allee/Kantstraße</td>\n",
       "      <td>Karl-August-Platz</td>\n",
       "    </tr>\n",
       "    <tr>\n",
       "      <th>...</th>\n",
       "      <td>...</td>\n",
       "      <td>...</td>\n",
       "      <td>...</td>\n",
       "      <td>...</td>\n",
       "      <td>...</td>\n",
       "      <td>...</td>\n",
       "      <td>...</td>\n",
       "      <td>...</td>\n",
       "      <td>...</td>\n",
       "      <td>...</td>\n",
       "      <td>...</td>\n",
       "      <td>...</td>\n",
       "      <td>...</td>\n",
       "      <td>...</td>\n",
       "      <td>...</td>\n",
       "      <td>...</td>\n",
       "      <td>...</td>\n",
       "      <td>...</td>\n",
       "    </tr>\n",
       "    <tr>\n",
       "      <th>33655</th>\n",
       "      <td>2021-01-02</td>\n",
       "      <td>2</td>\n",
       "      <td>1</td>\n",
       "      <td>2021</td>\n",
       "      <td>2021-01-02</td>\n",
       "      <td>13</td>\n",
       "      <td>2021-01-02</td>\n",
       "      <td>13</td>\n",
       "      <td>8401243</td>\n",
       "      <td>1700</td>\n",
       "      <td>No</td>\n",
       "      <td>Men</td>\n",
       "      <td>Theft</td>\n",
       "      <td>Aggravated theft</td>\n",
       "      <td>Neukölln</td>\n",
       "      <td>Buckow Nord/Rudow</td>\n",
       "      <td>Rudow</td>\n",
       "      <td>Alt-Rudow</td>\n",
       "    </tr>\n",
       "    <tr>\n",
       "      <th>33656</th>\n",
       "      <td>2021-01-01</td>\n",
       "      <td>1</td>\n",
       "      <td>1</td>\n",
       "      <td>2021</td>\n",
       "      <td>2021-01-01</td>\n",
       "      <td>20</td>\n",
       "      <td>2021-01-01</td>\n",
       "      <td>20</td>\n",
       "      <td>2100104</td>\n",
       "      <td>2800</td>\n",
       "      <td>No</td>\n",
       "      <td>Men</td>\n",
       "      <td>Theft</td>\n",
       "      <td>Aggravated theft</td>\n",
       "      <td>Friedrichshain-Kreuzberg</td>\n",
       "      <td>Kreuzberg Nord</td>\n",
       "      <td>Südliche Friedrichstadt</td>\n",
       "      <td>Moritzplatz</td>\n",
       "    </tr>\n",
       "    <tr>\n",
       "      <th>33657</th>\n",
       "      <td>2021-01-01</td>\n",
       "      <td>1</td>\n",
       "      <td>1</td>\n",
       "      <td>2021</td>\n",
       "      <td>2021-01-01</td>\n",
       "      <td>17</td>\n",
       "      <td>2021-01-01</td>\n",
       "      <td>18</td>\n",
       "      <td>8401241</td>\n",
       "      <td>888</td>\n",
       "      <td>No</td>\n",
       "      <td>Bike</td>\n",
       "      <td>Theft</td>\n",
       "      <td>Theft</td>\n",
       "      <td>Neukölln</td>\n",
       "      <td>Buckow Nord/Rudow</td>\n",
       "      <td>Rudow</td>\n",
       "      <td>Blumenviertel</td>\n",
       "    </tr>\n",
       "    <tr>\n",
       "      <th>33658</th>\n",
       "      <td>2021-01-01</td>\n",
       "      <td>1</td>\n",
       "      <td>1</td>\n",
       "      <td>2021</td>\n",
       "      <td>2021-01-01</td>\n",
       "      <td>5</td>\n",
       "      <td>2021-01-01</td>\n",
       "      <td>8</td>\n",
       "      <td>10400941</td>\n",
       "      <td>2527</td>\n",
       "      <td>No</td>\n",
       "      <td>Bike</td>\n",
       "      <td>Break-in</td>\n",
       "      <td>Aggravated theft from basement/floor</td>\n",
       "      <td>Marzahn-Hellersdorf</td>\n",
       "      <td>Kaulsdorf/Mahlsdorf</td>\n",
       "      <td>Mahlsdorf</td>\n",
       "      <td>Pilgramer Straße</td>\n",
       "    </tr>\n",
       "    <tr>\n",
       "      <th>33659</th>\n",
       "      <td>2021-01-01</td>\n",
       "      <td>1</td>\n",
       "      <td>1</td>\n",
       "      <td>2021</td>\n",
       "      <td>2021-01-01</td>\n",
       "      <td>9</td>\n",
       "      <td>2021-01-01</td>\n",
       "      <td>11</td>\n",
       "      <td>4200206</td>\n",
       "      <td>290</td>\n",
       "      <td>No</td>\n",
       "      <td>Women</td>\n",
       "      <td>Theft</td>\n",
       "      <td>Aggravated theft</td>\n",
       "      <td>Charlottenburg-Wilmersdorf</td>\n",
       "      <td>Charlottenburg West</td>\n",
       "      <td>Heerstraße</td>\n",
       "      <td>Kranzallee</td>\n",
       "    </tr>\n",
       "  </tbody>\n",
       "</table>\n",
       "<p>33660 rows × 18 columns</p>\n",
       "</div>"
      ],
      "text/plain": [
       "      Record_date  Record_day  Record_month  Record_year Stealing_date  \\\n",
       "0      2022-08-25          25             8         2022    2022-08-25   \n",
       "1      2022-08-25          25             8         2022    2022-08-24   \n",
       "2      2022-08-25          25             8         2022    2022-08-22   \n",
       "3      2022-08-25          25             8         2022    2022-08-25   \n",
       "4      2022-08-25          25             8         2022    2022-08-24   \n",
       "...           ...         ...           ...          ...           ...   \n",
       "33655  2021-01-02           2             1         2021    2021-01-02   \n",
       "33656  2021-01-01           1             1         2021    2021-01-01   \n",
       "33657  2021-01-01           1             1         2021    2021-01-01   \n",
       "33658  2021-01-01           1             1         2021    2021-01-01   \n",
       "33659  2021-01-01           1             1         2021    2021-01-01   \n",
       "\n",
       "       Stealing_hour Report_stealing_date  Report_stealing_hour  \\\n",
       "0                  2           2022-08-25                     6   \n",
       "1                 18           2022-08-25                     8   \n",
       "2                 20           2022-08-24                     9   \n",
       "3                  8           2022-08-25                    14   \n",
       "4                 17           2022-08-24                    17   \n",
       "...              ...                  ...                   ...   \n",
       "33655             13           2021-01-02                    13   \n",
       "33656             20           2021-01-01                    20   \n",
       "33657             17           2021-01-01                    18   \n",
       "33658              5           2021-01-01                     8   \n",
       "33659              9           2021-01-01                    11   \n",
       "\n",
       "       Berlin_code_area  Bike_value Unsuccesful_attempt Bike_type Crime_type  \\\n",
       "0               2500834         621                  No       Men      Theft   \n",
       "1               7601237         140                  No     Women      Theft   \n",
       "2               2500729         900                  No     Women      Theft   \n",
       "3               6400737         500                  No     Women      Theft   \n",
       "4               4300623         668                  No     Women      Theft   \n",
       "...                 ...         ...                 ...       ...        ...   \n",
       "33655           8401243        1700                  No       Men      Theft   \n",
       "33656           2100104        2800                  No       Men      Theft   \n",
       "33657           8401241         888                  No      Bike      Theft   \n",
       "33658          10400941        2527                  No      Bike   Break-in   \n",
       "33659           4200206         290                  No     Women      Theft   \n",
       "\n",
       "                               Crime_reason     Administrative_district  \\\n",
       "0                          Aggravated theft    Friedrichshain-Kreuzberg   \n",
       "1                          Aggravated theft        Tempelhof-Schöneberg   \n",
       "2                          Aggravated theft    Friedrichshain-Kreuzberg   \n",
       "3                          Aggravated theft         Steglitz-Zehlendorf   \n",
       "4                          Aggravated theft  Charlottenburg-Wilmersdorf   \n",
       "...                                     ...                         ...   \n",
       "33655                      Aggravated theft                    Neukölln   \n",
       "33656                      Aggravated theft    Friedrichshain-Kreuzberg   \n",
       "33657                                 Theft                    Neukölln   \n",
       "33658  Aggravated theft from basement/floor         Marzahn-Hellersdorf   \n",
       "33659                      Aggravated theft  Charlottenburg-Wilmersdorf   \n",
       "\n",
       "                        District                     Quarter  \\\n",
       "0             Friedrichshain Ost    Frankfurter Allee Süd FK   \n",
       "1      Marienfelde / Lichtenrade            Marienfelde Nord   \n",
       "2             Friedrichshain Ost      Frankfurter Allee Nord   \n",
       "3        Zehlendorf Nord/Wannsee          Zehlendorf Südwest   \n",
       "4         Charlottenburg Zentrum  Otto-Suhr-Allee/Kantstraße   \n",
       "...                          ...                         ...   \n",
       "33655          Buckow Nord/Rudow                       Rudow   \n",
       "33656             Kreuzberg Nord     Südliche Friedrichstadt   \n",
       "33657          Buckow Nord/Rudow                       Rudow   \n",
       "33658        Kaulsdorf/Mahlsdorf                   Mahlsdorf   \n",
       "33659        Charlottenburg West                  Heerstraße   \n",
       "\n",
       "              Street_name  \n",
       "0          Revaler Straße  \n",
       "1             Kirchstraße  \n",
       "2      Pettenkofer Straße  \n",
       "3              Nikolassee  \n",
       "4       Karl-August-Platz  \n",
       "...                   ...  \n",
       "33655           Alt-Rudow  \n",
       "33656         Moritzplatz  \n",
       "33657       Blumenviertel  \n",
       "33658    Pilgramer Straße  \n",
       "33659          Kranzallee  \n",
       "\n",
       "[33660 rows x 18 columns]"
      ]
     },
     "execution_count": 3,
     "metadata": {},
     "output_type": "execute_result"
    }
   ],
   "source": [
    "df"
   ]
  },
  {
   "cell_type": "markdown",
   "id": "643d200d",
   "metadata": {},
   "source": [
    "#### Creat DataFrame copy for next visualisation analysis"
   ]
  },
  {
   "cell_type": "code",
   "execution_count": 4,
   "id": "8d6d2673",
   "metadata": {},
   "outputs": [],
   "source": [
    "df_copy = df.copy()"
   ]
  },
  {
   "cell_type": "markdown",
   "id": "00dc6d9a",
   "metadata": {},
   "source": [
    "#### Display DataFrame copy"
   ]
  },
  {
   "cell_type": "code",
   "execution_count": 5,
   "id": "0f9cff01",
   "metadata": {},
   "outputs": [
    {
     "data": {
      "text/html": [
       "<div>\n",
       "<style scoped>\n",
       "    .dataframe tbody tr th:only-of-type {\n",
       "        vertical-align: middle;\n",
       "    }\n",
       "\n",
       "    .dataframe tbody tr th {\n",
       "        vertical-align: top;\n",
       "    }\n",
       "\n",
       "    .dataframe thead th {\n",
       "        text-align: right;\n",
       "    }\n",
       "</style>\n",
       "<table border=\"1\" class=\"dataframe\">\n",
       "  <thead>\n",
       "    <tr style=\"text-align: right;\">\n",
       "      <th></th>\n",
       "      <th>Record_date</th>\n",
       "      <th>Record_day</th>\n",
       "      <th>Record_month</th>\n",
       "      <th>Record_year</th>\n",
       "      <th>Stealing_date</th>\n",
       "      <th>Stealing_hour</th>\n",
       "      <th>Report_stealing_date</th>\n",
       "      <th>Report_stealing_hour</th>\n",
       "      <th>Berlin_code_area</th>\n",
       "      <th>Bike_value</th>\n",
       "      <th>Unsuccesful_attempt</th>\n",
       "      <th>Bike_type</th>\n",
       "      <th>Crime_type</th>\n",
       "      <th>Crime_reason</th>\n",
       "      <th>Administrative_district</th>\n",
       "      <th>District</th>\n",
       "      <th>Quarter</th>\n",
       "      <th>Street_name</th>\n",
       "    </tr>\n",
       "  </thead>\n",
       "  <tbody>\n",
       "    <tr>\n",
       "      <th>0</th>\n",
       "      <td>2022-08-25</td>\n",
       "      <td>25</td>\n",
       "      <td>8</td>\n",
       "      <td>2022</td>\n",
       "      <td>2022-08-25</td>\n",
       "      <td>2</td>\n",
       "      <td>2022-08-25</td>\n",
       "      <td>6</td>\n",
       "      <td>2500834</td>\n",
       "      <td>621</td>\n",
       "      <td>No</td>\n",
       "      <td>Men</td>\n",
       "      <td>Theft</td>\n",
       "      <td>Aggravated theft</td>\n",
       "      <td>Friedrichshain-Kreuzberg</td>\n",
       "      <td>Friedrichshain Ost</td>\n",
       "      <td>Frankfurter Allee Süd FK</td>\n",
       "      <td>Revaler Straße</td>\n",
       "    </tr>\n",
       "    <tr>\n",
       "      <th>1</th>\n",
       "      <td>2022-08-25</td>\n",
       "      <td>25</td>\n",
       "      <td>8</td>\n",
       "      <td>2022</td>\n",
       "      <td>2022-08-24</td>\n",
       "      <td>18</td>\n",
       "      <td>2022-08-25</td>\n",
       "      <td>8</td>\n",
       "      <td>7601237</td>\n",
       "      <td>140</td>\n",
       "      <td>No</td>\n",
       "      <td>Women</td>\n",
       "      <td>Theft</td>\n",
       "      <td>Aggravated theft</td>\n",
       "      <td>Tempelhof-Schöneberg</td>\n",
       "      <td>Marienfelde / Lichtenrade</td>\n",
       "      <td>Marienfelde Nord</td>\n",
       "      <td>Kirchstraße</td>\n",
       "    </tr>\n",
       "    <tr>\n",
       "      <th>2</th>\n",
       "      <td>2022-08-25</td>\n",
       "      <td>25</td>\n",
       "      <td>8</td>\n",
       "      <td>2022</td>\n",
       "      <td>2022-08-22</td>\n",
       "      <td>20</td>\n",
       "      <td>2022-08-24</td>\n",
       "      <td>9</td>\n",
       "      <td>2500729</td>\n",
       "      <td>900</td>\n",
       "      <td>No</td>\n",
       "      <td>Women</td>\n",
       "      <td>Theft</td>\n",
       "      <td>Aggravated theft</td>\n",
       "      <td>Friedrichshain-Kreuzberg</td>\n",
       "      <td>Friedrichshain Ost</td>\n",
       "      <td>Frankfurter Allee Nord</td>\n",
       "      <td>Pettenkofer Straße</td>\n",
       "    </tr>\n",
       "    <tr>\n",
       "      <th>3</th>\n",
       "      <td>2022-08-25</td>\n",
       "      <td>25</td>\n",
       "      <td>8</td>\n",
       "      <td>2022</td>\n",
       "      <td>2022-08-25</td>\n",
       "      <td>8</td>\n",
       "      <td>2022-08-25</td>\n",
       "      <td>14</td>\n",
       "      <td>6400737</td>\n",
       "      <td>500</td>\n",
       "      <td>No</td>\n",
       "      <td>Women</td>\n",
       "      <td>Theft</td>\n",
       "      <td>Aggravated theft</td>\n",
       "      <td>Steglitz-Zehlendorf</td>\n",
       "      <td>Zehlendorf Nord/Wannsee</td>\n",
       "      <td>Zehlendorf Südwest</td>\n",
       "      <td>Nikolassee</td>\n",
       "    </tr>\n",
       "    <tr>\n",
       "      <th>4</th>\n",
       "      <td>2022-08-25</td>\n",
       "      <td>25</td>\n",
       "      <td>8</td>\n",
       "      <td>2022</td>\n",
       "      <td>2022-08-24</td>\n",
       "      <td>17</td>\n",
       "      <td>2022-08-24</td>\n",
       "      <td>17</td>\n",
       "      <td>4300623</td>\n",
       "      <td>668</td>\n",
       "      <td>No</td>\n",
       "      <td>Women</td>\n",
       "      <td>Theft</td>\n",
       "      <td>Aggravated theft</td>\n",
       "      <td>Charlottenburg-Wilmersdorf</td>\n",
       "      <td>Charlottenburg Zentrum</td>\n",
       "      <td>Otto-Suhr-Allee/Kantstraße</td>\n",
       "      <td>Karl-August-Platz</td>\n",
       "    </tr>\n",
       "    <tr>\n",
       "      <th>...</th>\n",
       "      <td>...</td>\n",
       "      <td>...</td>\n",
       "      <td>...</td>\n",
       "      <td>...</td>\n",
       "      <td>...</td>\n",
       "      <td>...</td>\n",
       "      <td>...</td>\n",
       "      <td>...</td>\n",
       "      <td>...</td>\n",
       "      <td>...</td>\n",
       "      <td>...</td>\n",
       "      <td>...</td>\n",
       "      <td>...</td>\n",
       "      <td>...</td>\n",
       "      <td>...</td>\n",
       "      <td>...</td>\n",
       "      <td>...</td>\n",
       "      <td>...</td>\n",
       "    </tr>\n",
       "    <tr>\n",
       "      <th>33655</th>\n",
       "      <td>2021-01-02</td>\n",
       "      <td>2</td>\n",
       "      <td>1</td>\n",
       "      <td>2021</td>\n",
       "      <td>2021-01-02</td>\n",
       "      <td>13</td>\n",
       "      <td>2021-01-02</td>\n",
       "      <td>13</td>\n",
       "      <td>8401243</td>\n",
       "      <td>1700</td>\n",
       "      <td>No</td>\n",
       "      <td>Men</td>\n",
       "      <td>Theft</td>\n",
       "      <td>Aggravated theft</td>\n",
       "      <td>Neukölln</td>\n",
       "      <td>Buckow Nord/Rudow</td>\n",
       "      <td>Rudow</td>\n",
       "      <td>Alt-Rudow</td>\n",
       "    </tr>\n",
       "    <tr>\n",
       "      <th>33656</th>\n",
       "      <td>2021-01-01</td>\n",
       "      <td>1</td>\n",
       "      <td>1</td>\n",
       "      <td>2021</td>\n",
       "      <td>2021-01-01</td>\n",
       "      <td>20</td>\n",
       "      <td>2021-01-01</td>\n",
       "      <td>20</td>\n",
       "      <td>2100104</td>\n",
       "      <td>2800</td>\n",
       "      <td>No</td>\n",
       "      <td>Men</td>\n",
       "      <td>Theft</td>\n",
       "      <td>Aggravated theft</td>\n",
       "      <td>Friedrichshain-Kreuzberg</td>\n",
       "      <td>Kreuzberg Nord</td>\n",
       "      <td>Südliche Friedrichstadt</td>\n",
       "      <td>Moritzplatz</td>\n",
       "    </tr>\n",
       "    <tr>\n",
       "      <th>33657</th>\n",
       "      <td>2021-01-01</td>\n",
       "      <td>1</td>\n",
       "      <td>1</td>\n",
       "      <td>2021</td>\n",
       "      <td>2021-01-01</td>\n",
       "      <td>17</td>\n",
       "      <td>2021-01-01</td>\n",
       "      <td>18</td>\n",
       "      <td>8401241</td>\n",
       "      <td>888</td>\n",
       "      <td>No</td>\n",
       "      <td>Bike</td>\n",
       "      <td>Theft</td>\n",
       "      <td>Theft</td>\n",
       "      <td>Neukölln</td>\n",
       "      <td>Buckow Nord/Rudow</td>\n",
       "      <td>Rudow</td>\n",
       "      <td>Blumenviertel</td>\n",
       "    </tr>\n",
       "    <tr>\n",
       "      <th>33658</th>\n",
       "      <td>2021-01-01</td>\n",
       "      <td>1</td>\n",
       "      <td>1</td>\n",
       "      <td>2021</td>\n",
       "      <td>2021-01-01</td>\n",
       "      <td>5</td>\n",
       "      <td>2021-01-01</td>\n",
       "      <td>8</td>\n",
       "      <td>10400941</td>\n",
       "      <td>2527</td>\n",
       "      <td>No</td>\n",
       "      <td>Bike</td>\n",
       "      <td>Break-in</td>\n",
       "      <td>Aggravated theft from basement/floor</td>\n",
       "      <td>Marzahn-Hellersdorf</td>\n",
       "      <td>Kaulsdorf/Mahlsdorf</td>\n",
       "      <td>Mahlsdorf</td>\n",
       "      <td>Pilgramer Straße</td>\n",
       "    </tr>\n",
       "    <tr>\n",
       "      <th>33659</th>\n",
       "      <td>2021-01-01</td>\n",
       "      <td>1</td>\n",
       "      <td>1</td>\n",
       "      <td>2021</td>\n",
       "      <td>2021-01-01</td>\n",
       "      <td>9</td>\n",
       "      <td>2021-01-01</td>\n",
       "      <td>11</td>\n",
       "      <td>4200206</td>\n",
       "      <td>290</td>\n",
       "      <td>No</td>\n",
       "      <td>Women</td>\n",
       "      <td>Theft</td>\n",
       "      <td>Aggravated theft</td>\n",
       "      <td>Charlottenburg-Wilmersdorf</td>\n",
       "      <td>Charlottenburg West</td>\n",
       "      <td>Heerstraße</td>\n",
       "      <td>Kranzallee</td>\n",
       "    </tr>\n",
       "  </tbody>\n",
       "</table>\n",
       "<p>33660 rows × 18 columns</p>\n",
       "</div>"
      ],
      "text/plain": [
       "      Record_date  Record_day  Record_month  Record_year Stealing_date  \\\n",
       "0      2022-08-25          25             8         2022    2022-08-25   \n",
       "1      2022-08-25          25             8         2022    2022-08-24   \n",
       "2      2022-08-25          25             8         2022    2022-08-22   \n",
       "3      2022-08-25          25             8         2022    2022-08-25   \n",
       "4      2022-08-25          25             8         2022    2022-08-24   \n",
       "...           ...         ...           ...          ...           ...   \n",
       "33655  2021-01-02           2             1         2021    2021-01-02   \n",
       "33656  2021-01-01           1             1         2021    2021-01-01   \n",
       "33657  2021-01-01           1             1         2021    2021-01-01   \n",
       "33658  2021-01-01           1             1         2021    2021-01-01   \n",
       "33659  2021-01-01           1             1         2021    2021-01-01   \n",
       "\n",
       "       Stealing_hour Report_stealing_date  Report_stealing_hour  \\\n",
       "0                  2           2022-08-25                     6   \n",
       "1                 18           2022-08-25                     8   \n",
       "2                 20           2022-08-24                     9   \n",
       "3                  8           2022-08-25                    14   \n",
       "4                 17           2022-08-24                    17   \n",
       "...              ...                  ...                   ...   \n",
       "33655             13           2021-01-02                    13   \n",
       "33656             20           2021-01-01                    20   \n",
       "33657             17           2021-01-01                    18   \n",
       "33658              5           2021-01-01                     8   \n",
       "33659              9           2021-01-01                    11   \n",
       "\n",
       "       Berlin_code_area  Bike_value Unsuccesful_attempt Bike_type Crime_type  \\\n",
       "0               2500834         621                  No       Men      Theft   \n",
       "1               7601237         140                  No     Women      Theft   \n",
       "2               2500729         900                  No     Women      Theft   \n",
       "3               6400737         500                  No     Women      Theft   \n",
       "4               4300623         668                  No     Women      Theft   \n",
       "...                 ...         ...                 ...       ...        ...   \n",
       "33655           8401243        1700                  No       Men      Theft   \n",
       "33656           2100104        2800                  No       Men      Theft   \n",
       "33657           8401241         888                  No      Bike      Theft   \n",
       "33658          10400941        2527                  No      Bike   Break-in   \n",
       "33659           4200206         290                  No     Women      Theft   \n",
       "\n",
       "                               Crime_reason     Administrative_district  \\\n",
       "0                          Aggravated theft    Friedrichshain-Kreuzberg   \n",
       "1                          Aggravated theft        Tempelhof-Schöneberg   \n",
       "2                          Aggravated theft    Friedrichshain-Kreuzberg   \n",
       "3                          Aggravated theft         Steglitz-Zehlendorf   \n",
       "4                          Aggravated theft  Charlottenburg-Wilmersdorf   \n",
       "...                                     ...                         ...   \n",
       "33655                      Aggravated theft                    Neukölln   \n",
       "33656                      Aggravated theft    Friedrichshain-Kreuzberg   \n",
       "33657                                 Theft                    Neukölln   \n",
       "33658  Aggravated theft from basement/floor         Marzahn-Hellersdorf   \n",
       "33659                      Aggravated theft  Charlottenburg-Wilmersdorf   \n",
       "\n",
       "                        District                     Quarter  \\\n",
       "0             Friedrichshain Ost    Frankfurter Allee Süd FK   \n",
       "1      Marienfelde / Lichtenrade            Marienfelde Nord   \n",
       "2             Friedrichshain Ost      Frankfurter Allee Nord   \n",
       "3        Zehlendorf Nord/Wannsee          Zehlendorf Südwest   \n",
       "4         Charlottenburg Zentrum  Otto-Suhr-Allee/Kantstraße   \n",
       "...                          ...                         ...   \n",
       "33655          Buckow Nord/Rudow                       Rudow   \n",
       "33656             Kreuzberg Nord     Südliche Friedrichstadt   \n",
       "33657          Buckow Nord/Rudow                       Rudow   \n",
       "33658        Kaulsdorf/Mahlsdorf                   Mahlsdorf   \n",
       "33659        Charlottenburg West                  Heerstraße   \n",
       "\n",
       "              Street_name  \n",
       "0          Revaler Straße  \n",
       "1             Kirchstraße  \n",
       "2      Pettenkofer Straße  \n",
       "3              Nikolassee  \n",
       "4       Karl-August-Platz  \n",
       "...                   ...  \n",
       "33655           Alt-Rudow  \n",
       "33656         Moritzplatz  \n",
       "33657       Blumenviertel  \n",
       "33658    Pilgramer Straße  \n",
       "33659          Kranzallee  \n",
       "\n",
       "[33660 rows x 18 columns]"
      ]
     },
     "execution_count": 5,
     "metadata": {},
     "output_type": "execute_result"
    }
   ],
   "source": [
    "df_copy"
   ]
  },
  {
   "cell_type": "markdown",
   "id": "cf5708f5",
   "metadata": {},
   "source": [
    "#### Change Record_day column for verbal day representation "
   ]
  },
  {
   "cell_type": "code",
   "execution_count": 6,
   "id": "42c61ebc",
   "metadata": {},
   "outputs": [],
   "source": [
    "df_copy['Record_day'] = pd.to_datetime(df_copy['Record_date']).dt.day_name()"
   ]
  },
  {
   "cell_type": "markdown",
   "id": "34f7b575",
   "metadata": {},
   "source": [
    "#### Day of week when most thiefs happend"
   ]
  },
  {
   "cell_type": "code",
   "execution_count": 7,
   "id": "d5fe6ebc",
   "metadata": {},
   "outputs": [
    {
     "data": {
      "text/html": [
       "<div>\n",
       "<style scoped>\n",
       "    .dataframe tbody tr th:only-of-type {\n",
       "        vertical-align: middle;\n",
       "    }\n",
       "\n",
       "    .dataframe tbody tr th {\n",
       "        vertical-align: top;\n",
       "    }\n",
       "\n",
       "    .dataframe thead th {\n",
       "        text-align: right;\n",
       "    }\n",
       "</style>\n",
       "<table border=\"1\" class=\"dataframe\">\n",
       "  <thead>\n",
       "    <tr style=\"text-align: right;\">\n",
       "      <th></th>\n",
       "      <th>Record_date</th>\n",
       "    </tr>\n",
       "    <tr>\n",
       "      <th>Record_day</th>\n",
       "      <th></th>\n",
       "    </tr>\n",
       "  </thead>\n",
       "  <tbody>\n",
       "    <tr>\n",
       "      <th>Monday</th>\n",
       "      <td>5801</td>\n",
       "    </tr>\n",
       "    <tr>\n",
       "      <th>Tuesday</th>\n",
       "      <td>5410</td>\n",
       "    </tr>\n",
       "    <tr>\n",
       "      <th>Wednesday</th>\n",
       "      <td>5385</td>\n",
       "    </tr>\n",
       "    <tr>\n",
       "      <th>Thursday</th>\n",
       "      <td>5089</td>\n",
       "    </tr>\n",
       "    <tr>\n",
       "      <th>Friday</th>\n",
       "      <td>4569</td>\n",
       "    </tr>\n",
       "    <tr>\n",
       "      <th>Sunday</th>\n",
       "      <td>3890</td>\n",
       "    </tr>\n",
       "    <tr>\n",
       "      <th>Saturday</th>\n",
       "      <td>3516</td>\n",
       "    </tr>\n",
       "  </tbody>\n",
       "</table>\n",
       "</div>"
      ],
      "text/plain": [
       "            Record_date\n",
       "Record_day             \n",
       "Monday             5801\n",
       "Tuesday            5410\n",
       "Wednesday          5385\n",
       "Thursday           5089\n",
       "Friday             4569\n",
       "Sunday             3890\n",
       "Saturday           3516"
      ]
     },
     "execution_count": 7,
     "metadata": {},
     "output_type": "execute_result"
    }
   ],
   "source": [
    "df_copy.groupby('Record_day')[['Record_date']].count().sort_values(by='Record_date', ascending=False)"
   ]
  },
  {
   "cell_type": "code",
   "execution_count": 8,
   "id": "95468d98",
   "metadata": {},
   "outputs": [
    {
     "data": {
      "image/png": "[encoded data removed]",
      "text/plain": [
       "<Figure size 864x720 with 1 Axes>"
      ]
     },
     "metadata": {
      "needs_background": "light"
     },
     "output_type": "display_data"
    }
   ],
   "source": [
    "df_copy.groupby('Record_day')[['Record_date']].count()\\\n",
    "                .sort_values(by='Record_date', ascending=True)\\\n",
    "                .plot(kind='barh',\n",
    "                figsize=(12,10),\n",
    "                fontsize=12,\n",
    "                title='Amount of crimes by Day of Week',\n",
    "                xlabel='Day of week',\n",
    "                grid=True);"
   ]
  },
  {
   "cell_type": "markdown",
   "id": "a76da1fb",
   "metadata": {},
   "source": [
    "#### Administrative district with most bike thiefs"
   ]
  },
  {
   "cell_type": "code",
   "execution_count": 9,
   "id": "b2d2a148",
   "metadata": {},
   "outputs": [
    {
     "data": {
      "text/html": [
       "<div>\n",
       "<style scoped>\n",
       "    .dataframe tbody tr th:only-of-type {\n",
       "        vertical-align: middle;\n",
       "    }\n",
       "\n",
       "    .dataframe tbody tr th {\n",
       "        vertical-align: top;\n",
       "    }\n",
       "\n",
       "    .dataframe thead th {\n",
       "        text-align: right;\n",
       "    }\n",
       "</style>\n",
       "<table border=\"1\" class=\"dataframe\">\n",
       "  <thead>\n",
       "    <tr style=\"text-align: right;\">\n",
       "      <th></th>\n",
       "      <th>Record_date</th>\n",
       "    </tr>\n",
       "    <tr>\n",
       "      <th>Administrative_district</th>\n",
       "      <th></th>\n",
       "    </tr>\n",
       "  </thead>\n",
       "  <tbody>\n",
       "    <tr>\n",
       "      <th>Pankow</th>\n",
       "      <td>5264</td>\n",
       "    </tr>\n",
       "    <tr>\n",
       "      <th>Mitte</th>\n",
       "      <td>4779</td>\n",
       "    </tr>\n",
       "    <tr>\n",
       "      <th>Friedrichshain-Kreuzberg</th>\n",
       "      <td>4652</td>\n",
       "    </tr>\n",
       "    <tr>\n",
       "      <th>Charlottenburg-Wilmersdorf</th>\n",
       "      <td>3651</td>\n",
       "    </tr>\n",
       "    <tr>\n",
       "      <th>Tempelhof-Schöneberg</th>\n",
       "      <td>2792</td>\n",
       "    </tr>\n",
       "    <tr>\n",
       "      <th>Treptow-Köpenick</th>\n",
       "      <td>2649</td>\n",
       "    </tr>\n",
       "    <tr>\n",
       "      <th>Neukölln</th>\n",
       "      <td>2614</td>\n",
       "    </tr>\n",
       "    <tr>\n",
       "      <th>Steglitz-Zehlendorf</th>\n",
       "      <td>2127</td>\n",
       "    </tr>\n",
       "    <tr>\n",
       "      <th>Lichtenberg</th>\n",
       "      <td>1883</td>\n",
       "    </tr>\n",
       "    <tr>\n",
       "      <th>Reinickendorf</th>\n",
       "      <td>1274</td>\n",
       "    </tr>\n",
       "    <tr>\n",
       "      <th>Marzahn-Hellersdorf</th>\n",
       "      <td>1010</td>\n",
       "    </tr>\n",
       "    <tr>\n",
       "      <th>Spandau</th>\n",
       "      <td>964</td>\n",
       "    </tr>\n",
       "  </tbody>\n",
       "</table>\n",
       "</div>"
      ],
      "text/plain": [
       "                            Record_date\n",
       "Administrative_district                \n",
       "Pankow                             5264\n",
       "Mitte                              4779\n",
       "Friedrichshain-Kreuzberg           4652\n",
       "Charlottenburg-Wilmersdorf         3651\n",
       "Tempelhof-Schöneberg               2792\n",
       "Treptow-Köpenick                   2649\n",
       "Neukölln                           2614\n",
       "Steglitz-Zehlendorf                2127\n",
       "Lichtenberg                        1883\n",
       "Reinickendorf                      1274\n",
       "Marzahn-Hellersdorf                1010\n",
       "Spandau                             964"
      ]
     },
     "execution_count": 9,
     "metadata": {},
     "output_type": "execute_result"
    }
   ],
   "source": [
    "df_copy.groupby('Administrative_district')[['Record_date']].count().sort_values(by=['Record_date'], ascending=False)"
   ]
  },
  {
   "cell_type": "code",
   "execution_count": 10,
   "id": "713cfb5c",
   "metadata": {},
   "outputs": [
    {
     "data": {
      "image/png": "[encoded data removed]",
      "text/plain": [
       "<Figure size 864x720 with 1 Axes>"
      ]
     },
     "metadata": {
      "needs_background": "light"
     },
     "output_type": "display_data"
    }
   ],
   "source": [
    "df_copy.groupby('Administrative_district')[['Record_date']].count()\\\n",
    "                                    .sort_values(by=['Record_date'], ascending=True)\\\n",
    "                                    .plot(kind='barh',\n",
    "                                    figsize=(12,10),\n",
    "                                    fontsize=12,\n",
    "                                    title='Amount of crimes by Administrative districte',\n",
    "                                    xlabel='Administrative district',\n",
    "                                    grid=True);"
   ]
  },
  {
   "cell_type": "markdown",
   "id": "a6bd5a36",
   "metadata": {},
   "source": [
    "#### Most stealing bike type"
   ]
  },
  {
   "cell_type": "code",
   "execution_count": 11,
   "id": "d4c02a34",
   "metadata": {},
   "outputs": [
    {
     "data": {
      "text/html": [
       "<div>\n",
       "<style scoped>\n",
       "    .dataframe tbody tr th:only-of-type {\n",
       "        vertical-align: middle;\n",
       "    }\n",
       "\n",
       "    .dataframe tbody tr th {\n",
       "        vertical-align: top;\n",
       "    }\n",
       "\n",
       "    .dataframe thead th {\n",
       "        text-align: right;\n",
       "    }\n",
       "</style>\n",
       "<table border=\"1\" class=\"dataframe\">\n",
       "  <thead>\n",
       "    <tr style=\"text-align: right;\">\n",
       "      <th></th>\n",
       "      <th>Record_date</th>\n",
       "    </tr>\n",
       "    <tr>\n",
       "      <th>Bike_type</th>\n",
       "      <th></th>\n",
       "    </tr>\n",
       "  </thead>\n",
       "  <tbody>\n",
       "    <tr>\n",
       "      <th>Men</th>\n",
       "      <td>15531</td>\n",
       "    </tr>\n",
       "    <tr>\n",
       "      <th>Women</th>\n",
       "      <td>9773</td>\n",
       "    </tr>\n",
       "    <tr>\n",
       "      <th>Bike</th>\n",
       "      <td>5055</td>\n",
       "    </tr>\n",
       "    <tr>\n",
       "      <th>Mountain</th>\n",
       "      <td>1478</td>\n",
       "    </tr>\n",
       "    <tr>\n",
       "      <th>Child</th>\n",
       "      <td>1305</td>\n",
       "    </tr>\n",
       "    <tr>\n",
       "      <th>Racing</th>\n",
       "      <td>467</td>\n",
       "    </tr>\n",
       "    <tr>\n",
       "      <th>Cargo</th>\n",
       "      <td>51</td>\n",
       "    </tr>\n",
       "  </tbody>\n",
       "</table>\n",
       "</div>"
      ],
      "text/plain": [
       "           Record_date\n",
       "Bike_type             \n",
       "Men              15531\n",
       "Women             9773\n",
       "Bike              5055\n",
       "Mountain          1478\n",
       "Child             1305\n",
       "Racing             467\n",
       "Cargo               51"
      ]
     },
     "execution_count": 11,
     "metadata": {},
     "output_type": "execute_result"
    }
   ],
   "source": [
    "df_copy.groupby('Bike_type')[['Record_date']].count().sort_values(by='Record_date', ascending=False)"
   ]
  },
  {
   "cell_type": "code",
   "execution_count": 12,
   "id": "bc42d867",
   "metadata": {},
   "outputs": [
    {
     "data": {
      "text/html": [
       "<div>\n",
       "<style scoped>\n",
       "    .dataframe tbody tr th:only-of-type {\n",
       "        vertical-align: middle;\n",
       "    }\n",
       "\n",
       "    .dataframe tbody tr th {\n",
       "        vertical-align: top;\n",
       "    }\n",
       "\n",
       "    .dataframe thead th {\n",
       "        text-align: right;\n",
       "    }\n",
       "</style>\n",
       "<table border=\"1\" class=\"dataframe\">\n",
       "  <thead>\n",
       "    <tr style=\"text-align: right;\">\n",
       "      <th></th>\n",
       "      <th>Record_date</th>\n",
       "    </tr>\n",
       "    <tr>\n",
       "      <th>Crime_type</th>\n",
       "      <th></th>\n",
       "    </tr>\n",
       "  </thead>\n",
       "  <tbody>\n",
       "    <tr>\n",
       "      <th>Theft</th>\n",
       "      <td>32218</td>\n",
       "    </tr>\n",
       "    <tr>\n",
       "      <th>Break-in</th>\n",
       "      <td>1442</td>\n",
       "    </tr>\n",
       "  </tbody>\n",
       "</table>\n",
       "</div>"
      ],
      "text/plain": [
       "            Record_date\n",
       "Crime_type             \n",
       "Theft             32218\n",
       "Break-in           1442"
      ]
     },
     "execution_count": 12,
     "metadata": {},
     "output_type": "execute_result"
    }
   ],
   "source": [
    "df_copy.groupby('Crime_type')[['Record_date']].count().sort_values(by='Record_date', ascending=False)"
   ]
  },
  {
   "cell_type": "markdown",
   "id": "f9bf3827",
   "metadata": {},
   "source": [
    "#### Drop column *Record_date*"
   ]
  },
  {
   "cell_type": "code",
   "execution_count": 13,
   "id": "771de333",
   "metadata": {},
   "outputs": [],
   "source": [
    "df.drop([\"Record_date\"], axis=1, inplace=True)"
   ]
  },
  {
   "cell_type": "markdown",
   "id": "1e36dff8",
   "metadata": {},
   "source": [
    "#### Change datetime column type to numeric"
   ]
  },
  {
   "cell_type": "code",
   "execution_count": 14,
   "id": "bb75d6d5",
   "metadata": {},
   "outputs": [],
   "source": [
    "df['Stealing_date'] = pd.to_numeric(pd.to_datetime(df['Stealing_date']))\n",
    "df['Report_stealing_date'] = pd.to_numeric(pd.to_datetime(df['Report_stealing_date']))"
   ]
  },
  {
   "cell_type": "markdown",
   "id": "cdd3d33a",
   "metadata": {},
   "source": [
    "#### Change all column type *object* to DataFrame *category* "
   ]
  },
  {
   "cell_type": "code",
   "execution_count": 15,
   "id": "83746b04",
   "metadata": {},
   "outputs": [],
   "source": [
    "df[[col for col in df.columns if df[col].dtypes == object]] = \\\n",
    "df[[col for col in df.columns if df[col].dtypes == object]].astype('category')"
   ]
  },
  {
   "cell_type": "markdown",
   "id": "20cea676",
   "metadata": {},
   "source": [
    "### Machine Learning prediction modeling"
   ]
  },
  {
   "cell_type": "code",
   "execution_count": 16,
   "id": "f0ba923f",
   "metadata": {},
   "outputs": [],
   "source": [
    "from sklearn import preprocessing\n",
    "from sklearn.model_selection import GridSearchCV\n",
    "from sklearn.preprocessing import StandardScaler\n",
    "from sklearn.model_selection import train_test_split\n",
    "from sklearn.pipeline import Pipeline\n",
    "from sklearn.metrics import classification_report, f1_score, make_scorer\n",
    "from sklearn.compose import ColumnTransformer\n",
    "from sklearn.preprocessing import Normalizer, StandardScaler, OneHotEncoder"
   ]
  },
  {
   "cell_type": "code",
   "execution_count": 36,
   "id": "9251857b",
   "metadata": {},
   "outputs": [],
   "source": [
    "from sklearn.linear_model import LinearRegression\n",
    "from sklearn.naive_bayes import MultinomialNB\n",
    "from sklearn.ensemble import RandomForestClassifier\n",
    "from sklearn.svm import SVC\n",
    "from sklearn.linear_model import LogisticRegression\n",
    "from sklearn.ensemble import GradientBoostingClassifier\n",
    "from sklearn.tree import DecisionTreeClassifier\n",
    "import statistics\n",
    "from sklearn.metrics import accuracy_score, confusion_matrix, ConfusionMatrixDisplay\n",
    "from imblearn.under_sampling import RandomUnderSampler\n",
    "from sklearn.datasets import make_classification\n",
    "from imblearn.over_sampling import RandomOverSampler\n",
    "from imblearn.over_sampling import SMOTE\n",
    "from sklearn.metrics import matthews_corrcoef, average_precision_score, ConfusionMatrixDisplay\n",
    "from sklearn.metrics import roc_auc_score, accuracy_score, recall_score, precision_score, roc_curve\n",
    "import xgboost as xgb\n",
    "from imblearn.over_sampling import RandomOverSampler\n",
    "from sklearn.naive_bayes import GaussianNB\n",
    "from imblearn.combine import SMOTETomek\n",
    "from imblearn.pipeline import Pipeline "
   ]
  },
  {
   "cell_type": "markdown",
   "id": "632757ad",
   "metadata": {},
   "source": [
    "#### Split data to 70% train and 30% test (the size of dataset is big almost 31 thousand)"
   ]
  },
  {
   "cell_type": "code",
   "execution_count": 18,
   "id": "ed8f6a2c",
   "metadata": {},
   "outputs": [],
   "source": [
    "X = df.drop(['Unsuccesful_attempt'], axis=1)\n",
    "y = df['Unsuccesful_attempt']"
   ]
  },
  {
   "cell_type": "code",
   "execution_count": 19,
   "id": "f50f3828",
   "metadata": {},
   "outputs": [],
   "source": [
    "X_train, X_test, y_train, y_test = train_test_split(X, y, test_size = 0.40,\n",
    "                                                    random_state = 0)"
   ]
  },
  {
   "cell_type": "code",
   "execution_count": 20,
   "id": "5c9afe6a",
   "metadata": {},
   "outputs": [
    {
     "data": {
      "image/png": "[encoded data removed]",
      "text/plain": [
       "<Figure size 432x288 with 2 Axes>"
      ]
     },
     "metadata": {
      "needs_background": "light"
     },
     "output_type": "display_data"
    }
   ],
   "source": [
    "corr = df_copy.corr()\n",
    "sns.heatmap(corr, \n",
    "            xticklabels=corr.columns.values,\n",
    "            yticklabels=corr.columns.values);"
   ]
  },
  {
   "cell_type": "code",
   "execution_count": 21,
   "id": "11cbea61",
   "metadata": {},
   "outputs": [
    {
     "data": {
      "image/png": "[encoded data removed]",
      "text/plain": [
       "<Figure size 432x288 with 2 Axes>"
      ]
     },
     "metadata": {
      "needs_background": "light"
     },
     "output_type": "display_data"
    }
   ],
   "source": [
    "sns.heatmap(df_copy.corr(), annot=True);"
   ]
  },
  {
   "cell_type": "markdown",
   "id": "1075f644",
   "metadata": {},
   "source": [
    "#### Transform data to acceptable form for Machine Learning algoritm use *Column Transformer*\n",
    "- OneHotEncoding for category data\n",
    "- StandardScaler for numeric\n",
    "- *Price* column stays the same without any transformation"
   ]
  },
  {
   "cell_type": "code",
   "execution_count": 22,
   "id": "8c717cd9",
   "metadata": {},
   "outputs": [],
   "source": [
    "transformer = ColumnTransformer(transformers=[\n",
    "    ('tnf1', OneHotEncoder(handle_unknown='ignore', sparse=False), [9, 10, 11, 12, 13, 14, 15]),\n",
    "    ('trf2', StandardScaler(), [0, 1, 2, 3, 4, 5, 6])], \n",
    "    remainder='passthrough')\n",
    "\n",
    "X_train = transformer.fit_transform(X_train)\n",
    "\n",
    "X_test = transformer.transform(X_test)"
   ]
  },
  {
   "cell_type": "markdown",
   "id": "07516a65",
   "metadata": {},
   "source": [
    "#### Transform y-variable by LabelEncoder for two classes (0 and 1)\n",
    "##### Project assume crime prediction, but in dataset more than 99% are crime, and only 1% are no crime (*Unsucessfuly_attempt column*). Due to this fact, y-variable are reverse encoding. No crime treat as 0 (normal situation), crime treat as 1 (unnormal situation) \n",
    "- Crime unhappend *(Unsucessfuly attempt == Yes)* = label with number 0 \n",
    "- Crime happend *(Unsucessfuly attempt == No)* = label with number 1 "
   ]
  },
  {
   "cell_type": "code",
   "execution_count": 23,
   "id": "2090add9",
   "metadata": {},
   "outputs": [],
   "source": [
    "le = preprocessing.LabelEncoder()\n",
    "\n",
    "y_train = 1 - le.fit_transform(y_train)\n",
    "\n",
    "y_test = 1 - le.transform(y_test)"
   ]
  },
  {
   "cell_type": "code",
   "execution_count": 24,
   "id": "ad28cfc0",
   "metadata": {},
   "outputs": [
    {
     "data": {
      "text/plain": [
       "array([1, 1, 1, ..., 1, 1, 1])"
      ]
     },
     "execution_count": 24,
     "metadata": {},
     "output_type": "execute_result"
    }
   ],
   "source": [
    "y_train"
   ]
  },
  {
   "cell_type": "markdown",
   "id": "ca073e4c",
   "metadata": {},
   "source": [
    "##### Dataset is highly unbalanced:\n",
    "- 31 706 record are crime *(Unsuccesful_attempt\" == No, so crime happend) - label 1*\n",
    "- 110 record are not crime *(Unsuccesful_attempt\" == Yes, so crime unhappend) - label 0*"
   ]
  },
  {
   "cell_type": "code",
   "execution_count": 25,
   "id": "bf6d4765",
   "metadata": {},
   "outputs": [
    {
     "data": {
      "text/plain": [
       "No     33546\n",
       "Yes      114\n",
       "Name: Unsuccesful_attempt, dtype: int64"
      ]
     },
     "execution_count": 25,
     "metadata": {},
     "output_type": "execute_result"
    }
   ],
   "source": [
    "df[\"Unsuccesful_attempt\"].value_counts()"
   ]
  },
  {
   "cell_type": "code",
   "execution_count": 26,
   "id": "0a098f81",
   "metadata": {},
   "outputs": [
    {
     "data": {
      "image/png": "[encoded data removed]",
      "text/plain": [
       "<Figure size 360x720 with 1 Axes>"
      ]
     },
     "metadata": {},
     "output_type": "display_data"
    }
   ],
   "source": [
    "plt.style.use(\"fivethirtyeight\")\n",
    "fig = plt.figure(figsize=(5, 10))\n",
    "plt.hist(y_train)\n",
    "plt.show()"
   ]
  },
  {
   "cell_type": "markdown",
   "id": "2d6985e7",
   "metadata": {},
   "source": [
    "### SMOTE *(Synthetic minority oversampling technique)* application for minority class\n",
    "#### According to literature SMOTE is better then ordinar oversampling method because algoritm create new data with *information*, contraty ordinar oversampling creat new data by duplicated data from minority class without *information* component  \n",
    "##### Preventing data leakage, SMOTE application is restric only for train dataset"
   ]
  },
  {
   "cell_type": "code",
   "execution_count": 87,
   "id": "0795da37",
   "metadata": {},
   "outputs": [],
   "source": [
    "# smote = SMOTE()\n",
    "# X_train_oversample, y_train_oversample = smote.fit_resample(X_train, y_train)"
   ]
  },
  {
   "cell_type": "code",
   "execution_count": 27,
   "id": "1ffbdfd2",
   "metadata": {},
   "outputs": [],
   "source": [
    "over = SMOTE(sampling_strategy=0.99)\n",
    "under = RandomUnderSampler(sampling_strategy=0.99)\n",
    "\n",
    "steps = [('o', over), ('u', under)]\n",
    "pipeline = Pipeline(steps=steps)\n",
    "\n",
    "X_train_oversample, y_train_oversample = pipeline.fit_resample(X_train, y_train)"
   ]
  },
  {
   "cell_type": "code",
   "execution_count": 28,
   "id": "1e0c04d0",
   "metadata": {},
   "outputs": [
    {
     "data": {
      "image/png": "[encoded data removed]",
      "text/plain": [
       "<Figure size 360x720 with 1 Axes>"
      ]
     },
     "metadata": {},
     "output_type": "display_data"
    }
   ],
   "source": [
    "plt.style.use(\"fivethirtyeight\")\n",
    "fig = plt.figure(figsize=(5, 10))\n",
    "plt.hist(y_train_oversample)\n",
    "plt.show()"
   ]
  },
  {
   "cell_type": "code",
   "execution_count": 29,
   "id": "98562f7d",
   "metadata": {},
   "outputs": [
    {
     "name": "stdout",
     "output_type": "stream",
     "text": [
      "[[   46     0]\n",
      " [ 1236 12182]]\n"
     ]
    }
   ],
   "source": [
    "naive_bayes = GaussianNB()\n",
    "\n",
    "naive_bayes.fit(X_train_oversample, y_train_oversample)\n",
    "\n",
    "y_pred = naive_bayes.predict(X_test)\n",
    "\n",
    "print(confusion_matrix(y_test, y_pred))"
   ]
  },
  {
   "cell_type": "code",
   "execution_count": 30,
   "id": "8369f259",
   "metadata": {},
   "outputs": [
    {
     "data": {
      "text/plain": [
       "<sklearn.metrics._plot.confusion_matrix.ConfusionMatrixDisplay at 0x214870bc640>"
      ]
     },
     "execution_count": 30,
     "metadata": {},
     "output_type": "execute_result"
    },
    {
     "data": {
      "image/png": "[encoded data removed]",
      "text/plain": [
       "<Figure size 432x288 with 2 Axes>"
      ]
     },
     "metadata": {},
     "output_type": "display_data"
    }
   ],
   "source": [
    "from sklearn.metrics import plot_confusion_matrix\n",
    " \n",
    "cm = confusion_matrix(y_test, naive_bayes.predict(X_test))\n",
    "disp = ConfusionMatrixDisplay(confusion_matrix=cm)\n",
    "disp.plot()"
   ]
  },
  {
   "cell_type": "code",
   "execution_count": 31,
   "id": "60c6e3fb",
   "metadata": {},
   "outputs": [
    {
     "name": "stdout",
     "output_type": "stream",
     "text": [
      "              precision    recall  f1-score   support\n",
      "\n",
      "           0       0.04      1.00      0.07        46\n",
      "           1       1.00      0.91      0.95     13418\n",
      "\n",
      "    accuracy                           0.91     13464\n",
      "   macro avg       0.52      0.95      0.51     13464\n",
      "weighted avg       1.00      0.91      0.95     13464\n",
      "\n"
     ]
    }
   ],
   "source": [
    "naive_bayes = GaussianNB()\n",
    "\n",
    "naive_bayes.fit(X_train_oversample, y_train_oversample)\n",
    "\n",
    "y_pred = naive_bayes.predict(X_test)\n",
    "\n",
    "print(classification_report(y_test, y_pred))"
   ]
  },
  {
   "cell_type": "code",
   "execution_count": 32,
   "id": "97d6b6ac",
   "metadata": {},
   "outputs": [
    {
     "name": "stdout",
     "output_type": "stream",
     "text": [
      "0.9944477567446712\n"
     ]
    }
   ],
   "source": [
    "naive_bayes = GaussianNB()\n",
    "\n",
    "naive_bayes.fit(X_train_oversample, y_train_oversample)\n",
    "\n",
    "y_pred = naive_bayes.predict_proba(X_test)\n",
    "\n",
    "print(roc_auc_score(y_test, y_pred[:,1]))"
   ]
  },
  {
   "cell_type": "code",
   "execution_count": 33,
   "id": "927d8e86",
   "metadata": {},
   "outputs": [],
   "source": [
    "ns_probs = [0 for _ in range(len(y_test))]\n",
    "\n",
    "ns_fpr, ns_tpr, _ = roc_curve(y_test, ns_probs)\n",
    "lr_fpr, lr_tpr, _ = roc_curve(y_test, naive_bayes.predict_proba(X_test)[:,1])"
   ]
  },
  {
   "cell_type": "code",
   "execution_count": 34,
   "id": "d5e4ef54",
   "metadata": {},
   "outputs": [
    {
     "data": {
      "image/png": "[encoded data removed]",
      "text/plain": [
       "<Figure size 432x288 with 1 Axes>"
      ]
     },
     "metadata": {},
     "output_type": "display_data"
    }
   ],
   "source": [
    "plt.plot(ns_fpr, ns_tpr, linestyle='--', label='No Skill')\n",
    "plt.plot(lr_fpr, lr_tpr, marker='.', label='Logistic')\n",
    "# axis labels\n",
    "plt.xlabel('False Positive Rate')\n",
    "plt.ylabel('True Positive Rate')\n",
    "# show the legend\n",
    "plt.legend()\n",
    "# show the plot\n",
    "plt.show();"
   ]
  },
  {
   "cell_type": "markdown",
   "id": "7d06eb7b",
   "metadata": {},
   "source": [
    "### Logistic Regresion Model"
   ]
  },
  {
   "cell_type": "code",
   "execution_count": 37,
   "id": "bb73df42",
   "metadata": {},
   "outputs": [
    {
     "name": "stdout",
     "output_type": "stream",
     "text": [
      "[[   46     0]\n",
      " [ 2624 10794]]\n"
     ]
    }
   ],
   "source": [
    "logistic_regresion = LogisticRegression(penalty='l2', C=0.0000000001)\n",
    "\n",
    "logistic_regresion.fit(X_train_oversample, y_train_oversample)\n",
    "\n",
    "y_pred = logistic_regresion.predict(X_test)\n",
    "\n",
    "print(confusion_matrix(y_test, y_pred))"
   ]
  },
  {
   "cell_type": "code",
   "execution_count": 38,
   "id": "ebe22c26",
   "metadata": {},
   "outputs": [
    {
     "data": {
      "text/plain": [
       "<sklearn.metrics._plot.confusion_matrix.ConfusionMatrixDisplay at 0x21485e0aaf0>"
      ]
     },
     "execution_count": 38,
     "metadata": {},
     "output_type": "execute_result"
    },
    {
     "data": {
      "image/png": "[encoded data removed]",
      "text/plain": [
       "<Figure size 432x288 with 2 Axes>"
      ]
     },
     "metadata": {},
     "output_type": "display_data"
    }
   ],
   "source": [
    "cm_log_reg = confusion_matrix(y_test, logistic_regresion.predict(X_test))\n",
    "disp = ConfusionMatrixDisplay(confusion_matrix=cm_log_reg)\n",
    "disp.plot()"
   ]
  },
  {
   "cell_type": "code",
   "execution_count": 39,
   "id": "ae6e997b",
   "metadata": {},
   "outputs": [
    {
     "name": "stdout",
     "output_type": "stream",
     "text": [
      "              precision    recall  f1-score   support\n",
      "\n",
      "           0       0.02      1.00      0.03        46\n",
      "           1       1.00      0.80      0.89     13418\n",
      "\n",
      "    accuracy                           0.81     13464\n",
      "   macro avg       0.51      0.90      0.46     13464\n",
      "weighted avg       1.00      0.81      0.89     13464\n",
      "\n"
     ]
    }
   ],
   "source": [
    "logistic_regresion = LogisticRegression(penalty='l2', C=0.0000000001)\n",
    "\n",
    "logistic_regresion.fit(X_train_oversample, y_train_oversample)\n",
    "\n",
    "y_pred = logistic_regresion.predict(X_test)\n",
    "\n",
    "print(classification_report(y_test, y_pred))"
   ]
  },
  {
   "cell_type": "code",
   "execution_count": 40,
   "id": "057eb729",
   "metadata": {},
   "outputs": [],
   "source": [
    "ns_probs = [0 for _ in range(len(y_test))]\n",
    "\n",
    "ns_fpr, ns_tpr, _ = roc_curve(y_test, ns_probs)\n",
    "lr_fpr, lr_tpr, _ = roc_curve(y_test, logistic_regresion.predict_proba(X_test)[:,1])"
   ]
  },
  {
   "cell_type": "code",
   "execution_count": 41,
   "id": "176d50b5",
   "metadata": {},
   "outputs": [
    {
     "data": {
      "image/png": "[encoded data removed]",
      "text/plain": [
       "<Figure size 432x288 with 1 Axes>"
      ]
     },
     "metadata": {},
     "output_type": "display_data"
    }
   ],
   "source": [
    "plt.plot(ns_fpr, ns_tpr, linestyle='--', label='No Skill')\n",
    "plt.plot(lr_fpr, lr_tpr, marker='.', label='Logistic')\n",
    "# axis labels\n",
    "plt.xlabel('False Positive Rate')\n",
    "plt.ylabel('True Positive Rate')\n",
    "# show the legend\n",
    "plt.legend()\n",
    "# show the plot\n",
    "plt.show();"
   ]
  },
  {
   "cell_type": "markdown",
   "id": "b2b4e66b",
   "metadata": {},
   "source": [
    "##### Creat simply baseline model with the use a mode statistics, for simply class prediction. This model act as our basline for other ML prediction models"
   ]
  },
  {
   "cell_type": "code",
   "execution_count": 429,
   "id": "79726bf4",
   "metadata": {},
   "outputs": [
    {
     "name": "stdout",
     "output_type": "stream",
     "text": [
      "Accuracy score 99.6%\n"
     ]
    }
   ],
   "source": [
    "baseline_model = statistics.mode(y_train)\n",
    "\n",
    "y_pred_baseline_model = [baseline_model] * len(y_test)\n",
    "\n",
    "score_baseline_model = accuracy_score(y_test, y_pred_baseline_model)\n",
    "\n",
    "print(f'Accuracy score {round(score_baseline_model * 100, 2)}%')"
   ]
  }
 ],
 "metadata": {
  "kernelspec": {
   "display_name": "Python 3 (ipykernel)",
   "language": "python",
   "name": "python3"
  },
  "language_info": {
   "codemirror_mode": {
    "name": "ipython",
    "version": 3
   },
   "file_extension": ".py",
   "mimetype": "text/x-python",
   "name": "python",
   "nbconvert_exporter": "python",
   "pygments_lexer": "ipython3",
   "version": "3.9.7"
  },
  "toc": {
   "base_numbering": 1,
   "nav_menu": {},
   "number_sections": true,
   "sideBar": true,
   "skip_h1_title": false,
   "title_cell": "Table of Contents",
   "title_sidebar": "Contents",
   "toc_cell": false,
   "toc_position": {},
   "toc_section_display": true,
   "toc_window_display": false
  }
 },
 "nbformat": 4,
 "nbformat_minor": 5
}
