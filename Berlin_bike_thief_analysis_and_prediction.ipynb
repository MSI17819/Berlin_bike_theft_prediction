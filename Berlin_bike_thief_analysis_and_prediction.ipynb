{
 "cells": [
  {
   "cell_type": "markdown",
   "id": "ddb5f2d0",
   "metadata": {},
   "source": [
    "### Data exploratory analysis"
   ]
  },
  {
   "cell_type": "code",
   "execution_count": 78,
   "id": "66cdc1b3",
   "metadata": {},
   "outputs": [],
   "source": [
    "import pandas as pd\n",
    "import numpy as np\n",
    "import matplotlib.pyplot as plt\n",
    "import matplotlib.pyplot as plt"
   ]
  },
  {
   "cell_type": "code",
   "execution_count": 43,
   "id": "1af23b71",
   "metadata": {},
   "outputs": [
    {
     "name": "stdout",
     "output_type": "stream",
     "text": [
      "<class 'pandas.core.frame.DataFrame'>\n",
      "RangeIndex: 32270 entries, 0 to 32269\n",
      "Data columns (total 18 columns):\n",
      " #   Column                   Non-Null Count  Dtype \n",
      "---  ------                   --------------  ----- \n",
      " 0   Record_date              32270 non-null  object\n",
      " 1   Record_day               32270 non-null  int64 \n",
      " 2   Record_month             32270 non-null  int64 \n",
      " 3   Record_year              32270 non-null  int64 \n",
      " 4   Stealing_date            32270 non-null  object\n",
      " 5   Stealing_hour            32270 non-null  int64 \n",
      " 6   Report_stealing_date     32270 non-null  object\n",
      " 7   Report_stealing_hour     32270 non-null  int64 \n",
      " 8   Berlin_code_area         32270 non-null  int64 \n",
      " 9   Bike_value               32270 non-null  int64 \n",
      " 10  Unsuccesful_attempt      32270 non-null  object\n",
      " 11  Bike_type                32270 non-null  object\n",
      " 12  Crime_type               32270 non-null  object\n",
      " 13  Crime_reason             32270 non-null  object\n",
      " 14  Administrative_district  32270 non-null  object\n",
      " 15  District                 32270 non-null  object\n",
      " 16  Quarter                  32270 non-null  object\n",
      " 17  Street_name              32270 non-null  object\n",
      "dtypes: int64(7), object(11)\n",
      "memory usage: 4.4+ MB\n"
     ]
    }
   ],
   "source": [
    "url = r'https://raw.githubusercontent.com/MSI17819/Berlin_bike_theft_prediction/main/Berlin_bike_thief_file_for_analysis.csv'\n",
    "\n",
    "df = pd.read_csv(url, sep=',', encoding=\"utf-8\")\n",
    "\n",
    "df.info()"
   ]
  },
  {
   "cell_type": "markdown",
   "id": "643d200d",
   "metadata": {},
   "source": [
    "#### Creat DataFrame copy for next visualisation analysis"
   ]
  },
  {
   "cell_type": "code",
   "execution_count": 44,
   "id": "2ae6d995",
   "metadata": {},
   "outputs": [
    {
     "data": {
      "text/html": [
       "<div>\n",
       "<style scoped>\n",
       "    .dataframe tbody tr th:only-of-type {\n",
       "        vertical-align: middle;\n",
       "    }\n",
       "\n",
       "    .dataframe tbody tr th {\n",
       "        vertical-align: top;\n",
       "    }\n",
       "\n",
       "    .dataframe thead th {\n",
       "        text-align: right;\n",
       "    }\n",
       "</style>\n",
       "<table border=\"1\" class=\"dataframe\">\n",
       "  <thead>\n",
       "    <tr style=\"text-align: right;\">\n",
       "      <th></th>\n",
       "      <th>Record_date</th>\n",
       "      <th>Record_day</th>\n",
       "      <th>Record_month</th>\n",
       "      <th>Record_year</th>\n",
       "      <th>Stealing_date</th>\n",
       "      <th>Stealing_hour</th>\n",
       "      <th>Report_stealing_date</th>\n",
       "      <th>Report_stealing_hour</th>\n",
       "      <th>Berlin_code_area</th>\n",
       "      <th>Bike_value</th>\n",
       "      <th>Unsuccesful_attempt</th>\n",
       "      <th>Bike_type</th>\n",
       "      <th>Crime_type</th>\n",
       "      <th>Crime_reason</th>\n",
       "      <th>Administrative_district</th>\n",
       "      <th>District</th>\n",
       "      <th>Quarter</th>\n",
       "      <th>Street_name</th>\n",
       "    </tr>\n",
       "  </thead>\n",
       "  <tbody>\n",
       "    <tr>\n",
       "      <th>0</th>\n",
       "      <td>2022-08-07</td>\n",
       "      <td>7</td>\n",
       "      <td>8</td>\n",
       "      <td>2022</td>\n",
       "      <td>2022-08-07</td>\n",
       "      <td>14</td>\n",
       "      <td>2022-08-07</td>\n",
       "      <td>15</td>\n",
       "      <td>3500933</td>\n",
       "      <td>4000</td>\n",
       "      <td>No</td>\n",
       "      <td>Men</td>\n",
       "      <td>Theft</td>\n",
       "      <td>Aggravated theft</td>\n",
       "      <td>Pankow</td>\n",
       "      <td>Südliches Weißensee</td>\n",
       "      <td>Weißensee</td>\n",
       "      <td>Weißer See</td>\n",
       "    </tr>\n",
       "    <tr>\n",
       "      <th>1</th>\n",
       "      <td>2022-08-07</td>\n",
       "      <td>7</td>\n",
       "      <td>8</td>\n",
       "      <td>2022</td>\n",
       "      <td>2022-08-07</td>\n",
       "      <td>18</td>\n",
       "      <td>2022-08-07</td>\n",
       "      <td>18</td>\n",
       "      <td>8100415</td>\n",
       "      <td>0</td>\n",
       "      <td>No</td>\n",
       "      <td>Women</td>\n",
       "      <td>Theft</td>\n",
       "      <td>Aggravated theft</td>\n",
       "      <td>Neukölln</td>\n",
       "      <td>Neukölln</td>\n",
       "      <td>Rixdorf</td>\n",
       "      <td>Ganghoferstraße</td>\n",
       "    </tr>\n",
       "    <tr>\n",
       "      <th>2</th>\n",
       "      <td>2022-08-07</td>\n",
       "      <td>7</td>\n",
       "      <td>8</td>\n",
       "      <td>2022</td>\n",
       "      <td>2022-08-07</td>\n",
       "      <td>11</td>\n",
       "      <td>2022-08-07</td>\n",
       "      <td>15</td>\n",
       "      <td>10200627</td>\n",
       "      <td>2224</td>\n",
       "      <td>No</td>\n",
       "      <td>Women</td>\n",
       "      <td>Theft</td>\n",
       "      <td>Aggravated theft</td>\n",
       "      <td>Marzahn-Hellersdorf</td>\n",
       "      <td>Hellersdorf</td>\n",
       "      <td>Hellersdorf Süd</td>\n",
       "      <td>Am Kienberg</td>\n",
       "    </tr>\n",
       "    <tr>\n",
       "      <th>3</th>\n",
       "      <td>2022-08-07</td>\n",
       "      <td>7</td>\n",
       "      <td>8</td>\n",
       "      <td>2022</td>\n",
       "      <td>2022-08-06</td>\n",
       "      <td>13</td>\n",
       "      <td>2022-08-06</td>\n",
       "      <td>16</td>\n",
       "      <td>11401137</td>\n",
       "      <td>899</td>\n",
       "      <td>No</td>\n",
       "      <td>Men</td>\n",
       "      <td>Theft</td>\n",
       "      <td>Aggravated theft</td>\n",
       "      <td>Lichtenberg</td>\n",
       "      <td>Lichtenberg Mitte</td>\n",
       "      <td>Friedrichsfelde Süd</td>\n",
       "      <td>Erieseering</td>\n",
       "    </tr>\n",
       "    <tr>\n",
       "      <th>4</th>\n",
       "      <td>2022-08-07</td>\n",
       "      <td>7</td>\n",
       "      <td>8</td>\n",
       "      <td>2022</td>\n",
       "      <td>2022-08-06</td>\n",
       "      <td>11</td>\n",
       "      <td>2022-08-07</td>\n",
       "      <td>8</td>\n",
       "      <td>11501339</td>\n",
       "      <td>5800</td>\n",
       "      <td>No</td>\n",
       "      <td>Bike</td>\n",
       "      <td>Theft</td>\n",
       "      <td>Aggravated theft</td>\n",
       "      <td>Lichtenberg</td>\n",
       "      <td>Lichtenberg Süd</td>\n",
       "      <td>Karlshorst</td>\n",
       "      <td>Karlshorst West</td>\n",
       "    </tr>\n",
       "    <tr>\n",
       "      <th>...</th>\n",
       "      <td>...</td>\n",
       "      <td>...</td>\n",
       "      <td>...</td>\n",
       "      <td>...</td>\n",
       "      <td>...</td>\n",
       "      <td>...</td>\n",
       "      <td>...</td>\n",
       "      <td>...</td>\n",
       "      <td>...</td>\n",
       "      <td>...</td>\n",
       "      <td>...</td>\n",
       "      <td>...</td>\n",
       "      <td>...</td>\n",
       "      <td>...</td>\n",
       "      <td>...</td>\n",
       "      <td>...</td>\n",
       "      <td>...</td>\n",
       "      <td>...</td>\n",
       "    </tr>\n",
       "    <tr>\n",
       "      <th>32265</th>\n",
       "      <td>2021-01-02</td>\n",
       "      <td>2</td>\n",
       "      <td>1</td>\n",
       "      <td>2021</td>\n",
       "      <td>2021-01-01</td>\n",
       "      <td>12</td>\n",
       "      <td>2021-01-02</td>\n",
       "      <td>15</td>\n",
       "      <td>11300826</td>\n",
       "      <td>377</td>\n",
       "      <td>No</td>\n",
       "      <td>Women</td>\n",
       "      <td>Theft</td>\n",
       "      <td>Aggravated theft</td>\n",
       "      <td>Lichtenberg</td>\n",
       "      <td>Lichtenberg Nord</td>\n",
       "      <td>Frankfurter Allee Süd</td>\n",
       "      <td>Frankfurter Allee Süd</td>\n",
       "    </tr>\n",
       "    <tr>\n",
       "      <th>32266</th>\n",
       "      <td>2021-01-01</td>\n",
       "      <td>1</td>\n",
       "      <td>1</td>\n",
       "      <td>2021</td>\n",
       "      <td>2021-01-01</td>\n",
       "      <td>9</td>\n",
       "      <td>2021-01-01</td>\n",
       "      <td>11</td>\n",
       "      <td>4200206</td>\n",
       "      <td>290</td>\n",
       "      <td>No</td>\n",
       "      <td>Women</td>\n",
       "      <td>Theft</td>\n",
       "      <td>Aggravated theft</td>\n",
       "      <td>Charlottenburg-Wilmersdorf</td>\n",
       "      <td>Charlottenburg West</td>\n",
       "      <td>Heerstraße</td>\n",
       "      <td>Kranzallee</td>\n",
       "    </tr>\n",
       "    <tr>\n",
       "      <th>32267</th>\n",
       "      <td>2021-01-01</td>\n",
       "      <td>1</td>\n",
       "      <td>1</td>\n",
       "      <td>2021</td>\n",
       "      <td>2021-01-01</td>\n",
       "      <td>5</td>\n",
       "      <td>2021-01-01</td>\n",
       "      <td>8</td>\n",
       "      <td>10400941</td>\n",
       "      <td>2527</td>\n",
       "      <td>No</td>\n",
       "      <td>Bike</td>\n",
       "      <td>Break-in</td>\n",
       "      <td>Aggravated theft from basement/floor</td>\n",
       "      <td>Marzahn-Hellersdorf</td>\n",
       "      <td>Kaulsdorf/Mahlsdorf</td>\n",
       "      <td>Mahlsdorf</td>\n",
       "      <td>Pilgramer Straße</td>\n",
       "    </tr>\n",
       "    <tr>\n",
       "      <th>32268</th>\n",
       "      <td>2021-01-01</td>\n",
       "      <td>1</td>\n",
       "      <td>1</td>\n",
       "      <td>2021</td>\n",
       "      <td>2021-01-01</td>\n",
       "      <td>20</td>\n",
       "      <td>2021-01-01</td>\n",
       "      <td>20</td>\n",
       "      <td>2100104</td>\n",
       "      <td>2800</td>\n",
       "      <td>No</td>\n",
       "      <td>Men</td>\n",
       "      <td>Theft</td>\n",
       "      <td>Aggravated theft</td>\n",
       "      <td>Friedrichshain-Kreuzberg</td>\n",
       "      <td>Kreuzberg Nord</td>\n",
       "      <td>Südliche Friedrichstadt</td>\n",
       "      <td>Moritzplatz</td>\n",
       "    </tr>\n",
       "    <tr>\n",
       "      <th>32269</th>\n",
       "      <td>2021-01-01</td>\n",
       "      <td>1</td>\n",
       "      <td>1</td>\n",
       "      <td>2021</td>\n",
       "      <td>2021-01-01</td>\n",
       "      <td>17</td>\n",
       "      <td>2021-01-01</td>\n",
       "      <td>18</td>\n",
       "      <td>8401241</td>\n",
       "      <td>888</td>\n",
       "      <td>No</td>\n",
       "      <td>Bike</td>\n",
       "      <td>Theft</td>\n",
       "      <td>Theft</td>\n",
       "      <td>Neukölln</td>\n",
       "      <td>Buckow Nord/Rudow</td>\n",
       "      <td>Rudow</td>\n",
       "      <td>Blumenviertel</td>\n",
       "    </tr>\n",
       "  </tbody>\n",
       "</table>\n",
       "<p>32270 rows × 18 columns</p>\n",
       "</div>"
      ],
      "text/plain": [
       "      Record_date  Record_day  Record_month  Record_year Stealing_date  \\\n",
       "0      2022-08-07           7             8         2022    2022-08-07   \n",
       "1      2022-08-07           7             8         2022    2022-08-07   \n",
       "2      2022-08-07           7             8         2022    2022-08-07   \n",
       "3      2022-08-07           7             8         2022    2022-08-06   \n",
       "4      2022-08-07           7             8         2022    2022-08-06   \n",
       "...           ...         ...           ...          ...           ...   \n",
       "32265  2021-01-02           2             1         2021    2021-01-01   \n",
       "32266  2021-01-01           1             1         2021    2021-01-01   \n",
       "32267  2021-01-01           1             1         2021    2021-01-01   \n",
       "32268  2021-01-01           1             1         2021    2021-01-01   \n",
       "32269  2021-01-01           1             1         2021    2021-01-01   \n",
       "\n",
       "       Stealing_hour Report_stealing_date  Report_stealing_hour  \\\n",
       "0                 14           2022-08-07                    15   \n",
       "1                 18           2022-08-07                    18   \n",
       "2                 11           2022-08-07                    15   \n",
       "3                 13           2022-08-06                    16   \n",
       "4                 11           2022-08-07                     8   \n",
       "...              ...                  ...                   ...   \n",
       "32265             12           2021-01-02                    15   \n",
       "32266              9           2021-01-01                    11   \n",
       "32267              5           2021-01-01                     8   \n",
       "32268             20           2021-01-01                    20   \n",
       "32269             17           2021-01-01                    18   \n",
       "\n",
       "       Berlin_code_area  Bike_value Unsuccesful_attempt Bike_type Crime_type  \\\n",
       "0               3500933        4000                  No       Men      Theft   \n",
       "1               8100415           0                  No     Women      Theft   \n",
       "2              10200627        2224                  No     Women      Theft   \n",
       "3              11401137         899                  No       Men      Theft   \n",
       "4              11501339        5800                  No      Bike      Theft   \n",
       "...                 ...         ...                 ...       ...        ...   \n",
       "32265          11300826         377                  No     Women      Theft   \n",
       "32266           4200206         290                  No     Women      Theft   \n",
       "32267          10400941        2527                  No      Bike   Break-in   \n",
       "32268           2100104        2800                  No       Men      Theft   \n",
       "32269           8401241         888                  No      Bike      Theft   \n",
       "\n",
       "                               Crime_reason     Administrative_district  \\\n",
       "0                          Aggravated theft                      Pankow   \n",
       "1                          Aggravated theft                    Neukölln   \n",
       "2                          Aggravated theft         Marzahn-Hellersdorf   \n",
       "3                          Aggravated theft                 Lichtenberg   \n",
       "4                          Aggravated theft                 Lichtenberg   \n",
       "...                                     ...                         ...   \n",
       "32265                      Aggravated theft                 Lichtenberg   \n",
       "32266                      Aggravated theft  Charlottenburg-Wilmersdorf   \n",
       "32267  Aggravated theft from basement/floor         Marzahn-Hellersdorf   \n",
       "32268                      Aggravated theft    Friedrichshain-Kreuzberg   \n",
       "32269                                 Theft                    Neukölln   \n",
       "\n",
       "                  District                  Quarter            Street_name  \n",
       "0      Südliches Weißensee                Weißensee             Weißer See  \n",
       "1                 Neukölln                  Rixdorf        Ganghoferstraße  \n",
       "2              Hellersdorf          Hellersdorf Süd            Am Kienberg  \n",
       "3        Lichtenberg Mitte      Friedrichsfelde Süd            Erieseering  \n",
       "4          Lichtenberg Süd               Karlshorst        Karlshorst West  \n",
       "...                    ...                      ...                    ...  \n",
       "32265     Lichtenberg Nord    Frankfurter Allee Süd  Frankfurter Allee Süd  \n",
       "32266  Charlottenburg West               Heerstraße             Kranzallee  \n",
       "32267  Kaulsdorf/Mahlsdorf                Mahlsdorf       Pilgramer Straße  \n",
       "32268       Kreuzberg Nord  Südliche Friedrichstadt            Moritzplatz  \n",
       "32269    Buckow Nord/Rudow                    Rudow          Blumenviertel  \n",
       "\n",
       "[32270 rows x 18 columns]"
      ]
     },
     "execution_count": 44,
     "metadata": {},
     "output_type": "execute_result"
    }
   ],
   "source": [
    "df"
   ]
  },
  {
   "cell_type": "code",
   "execution_count": 45,
   "id": "8d6d2673",
   "metadata": {},
   "outputs": [],
   "source": [
    "df_copy = df.copy()"
   ]
  },
  {
   "cell_type": "markdown",
   "id": "00dc6d9a",
   "metadata": {},
   "source": [
    "#### Display DataFrame copy"
   ]
  },
  {
   "cell_type": "markdown",
   "id": "cf5708f5",
   "metadata": {},
   "source": [
    "#### Change Record_day column for verbal day representation "
   ]
  },
  {
   "cell_type": "code",
   "execution_count": 46,
   "id": "42c61ebc",
   "metadata": {},
   "outputs": [],
   "source": [
    "df_copy['Record_day'] = pd.to_datetime(df_copy['Record_date']).dt.day_name()"
   ]
  },
  {
   "cell_type": "code",
   "execution_count": 47,
   "id": "d5fe6ebc",
   "metadata": {},
   "outputs": [
    {
     "data": {
      "text/html": [
       "<div>\n",
       "<style scoped>\n",
       "    .dataframe tbody tr th:only-of-type {\n",
       "        vertical-align: middle;\n",
       "    }\n",
       "\n",
       "    .dataframe tbody tr th {\n",
       "        vertical-align: top;\n",
       "    }\n",
       "\n",
       "    .dataframe thead th {\n",
       "        text-align: right;\n",
       "    }\n",
       "</style>\n",
       "<table border=\"1\" class=\"dataframe\">\n",
       "  <thead>\n",
       "    <tr style=\"text-align: right;\">\n",
       "      <th></th>\n",
       "      <th>Record_date</th>\n",
       "    </tr>\n",
       "    <tr>\n",
       "      <th>Record_day</th>\n",
       "      <th></th>\n",
       "    </tr>\n",
       "  </thead>\n",
       "  <tbody>\n",
       "    <tr>\n",
       "      <th>Monday</th>\n",
       "      <td>5519</td>\n",
       "    </tr>\n",
       "    <tr>\n",
       "      <th>Tuesday</th>\n",
       "      <td>5159</td>\n",
       "    </tr>\n",
       "    <tr>\n",
       "      <th>Wednesday</th>\n",
       "      <td>5136</td>\n",
       "    </tr>\n",
       "    <tr>\n",
       "      <th>Thursday</th>\n",
       "      <td>4861</td>\n",
       "    </tr>\n",
       "    <tr>\n",
       "      <th>Friday</th>\n",
       "      <td>4434</td>\n",
       "    </tr>\n",
       "    <tr>\n",
       "      <th>Sunday</th>\n",
       "      <td>3752</td>\n",
       "    </tr>\n",
       "    <tr>\n",
       "      <th>Saturday</th>\n",
       "      <td>3409</td>\n",
       "    </tr>\n",
       "  </tbody>\n",
       "</table>\n",
       "</div>"
      ],
      "text/plain": [
       "            Record_date\n",
       "Record_day             \n",
       "Monday             5519\n",
       "Tuesday            5159\n",
       "Wednesday          5136\n",
       "Thursday           4861\n",
       "Friday             4434\n",
       "Sunday             3752\n",
       "Saturday           3409"
      ]
     },
     "execution_count": 47,
     "metadata": {},
     "output_type": "execute_result"
    }
   ],
   "source": [
    "df_copy.groupby('Record_day')[['Record_date']].count().sort_values(by='Record_date', ascending=False)"
   ]
  },
  {
   "cell_type": "code",
   "execution_count": 48,
   "id": "95468d98",
   "metadata": {},
   "outputs": [
    {
     "data": {
      "image/png": "[encoded data removed]",
      "text/plain": [
       "<Figure size 864x720 with 1 Axes>"
      ]
     },
     "metadata": {},
     "output_type": "display_data"
    }
   ],
   "source": [
    "df_copy.groupby('Record_day')[['Record_date']].count()\\\n",
    "                .sort_values(by='Record_date', ascending=True)\\\n",
    "                .plot(kind='barh',\n",
    "                figsize=(12,10),\n",
    "                fontsize=12,\n",
    "                title='Amount of crimes by Day of Week',\n",
    "                xlabel='Day of week',\n",
    "                grid=True);"
   ]
  },
  {
   "cell_type": "code",
   "execution_count": 49,
   "id": "b2d2a148",
   "metadata": {},
   "outputs": [
    {
     "data": {
      "text/html": [
       "<div>\n",
       "<style scoped>\n",
       "    .dataframe tbody tr th:only-of-type {\n",
       "        vertical-align: middle;\n",
       "    }\n",
       "\n",
       "    .dataframe tbody tr th {\n",
       "        vertical-align: top;\n",
       "    }\n",
       "\n",
       "    .dataframe thead th {\n",
       "        text-align: right;\n",
       "    }\n",
       "</style>\n",
       "<table border=\"1\" class=\"dataframe\">\n",
       "  <thead>\n",
       "    <tr style=\"text-align: right;\">\n",
       "      <th></th>\n",
       "      <th>Record_date</th>\n",
       "    </tr>\n",
       "    <tr>\n",
       "      <th>Administrative_district</th>\n",
       "      <th></th>\n",
       "    </tr>\n",
       "  </thead>\n",
       "  <tbody>\n",
       "    <tr>\n",
       "      <th>Pankow</th>\n",
       "      <td>5079</td>\n",
       "    </tr>\n",
       "    <tr>\n",
       "      <th>Mitte</th>\n",
       "      <td>4552</td>\n",
       "    </tr>\n",
       "    <tr>\n",
       "      <th>Friedrichshain-Kreuzberg</th>\n",
       "      <td>4438</td>\n",
       "    </tr>\n",
       "    <tr>\n",
       "      <th>Charlottenburg-Wilmersdorf</th>\n",
       "      <td>3527</td>\n",
       "    </tr>\n",
       "    <tr>\n",
       "      <th>Tempelhof-Schöneberg</th>\n",
       "      <td>2699</td>\n",
       "    </tr>\n",
       "    <tr>\n",
       "      <th>Treptow-Köpenick</th>\n",
       "      <td>2529</td>\n",
       "    </tr>\n",
       "    <tr>\n",
       "      <th>Neukölln</th>\n",
       "      <td>2517</td>\n",
       "    </tr>\n",
       "    <tr>\n",
       "      <th>Steglitz-Zehlendorf</th>\n",
       "      <td>2041</td>\n",
       "    </tr>\n",
       "    <tr>\n",
       "      <th>Lichtenberg</th>\n",
       "      <td>1803</td>\n",
       "    </tr>\n",
       "    <tr>\n",
       "      <th>Reinickendorf</th>\n",
       "      <td>1208</td>\n",
       "    </tr>\n",
       "    <tr>\n",
       "      <th>Marzahn-Hellersdorf</th>\n",
       "      <td>960</td>\n",
       "    </tr>\n",
       "    <tr>\n",
       "      <th>Spandau</th>\n",
       "      <td>917</td>\n",
       "    </tr>\n",
       "  </tbody>\n",
       "</table>\n",
       "</div>"
      ],
      "text/plain": [
       "                            Record_date\n",
       "Administrative_district                \n",
       "Pankow                             5079\n",
       "Mitte                              4552\n",
       "Friedrichshain-Kreuzberg           4438\n",
       "Charlottenburg-Wilmersdorf         3527\n",
       "Tempelhof-Schöneberg               2699\n",
       "Treptow-Köpenick                   2529\n",
       "Neukölln                           2517\n",
       "Steglitz-Zehlendorf                2041\n",
       "Lichtenberg                        1803\n",
       "Reinickendorf                      1208\n",
       "Marzahn-Hellersdorf                 960\n",
       "Spandau                             917"
      ]
     },
     "execution_count": 49,
     "metadata": {},
     "output_type": "execute_result"
    }
   ],
   "source": [
    "df_copy.groupby('Administrative_district')[['Record_date']].count().sort_values(by=['Record_date'], ascending=False)"
   ]
  },
  {
   "cell_type": "code",
   "execution_count": 50,
   "id": "713cfb5c",
   "metadata": {},
   "outputs": [
    {
     "data": {
      "image/png": "[encoded data removed]",
      "text/plain": [
       "<Figure size 864x720 with 1 Axes>"
      ]
     },
     "metadata": {},
     "output_type": "display_data"
    }
   ],
   "source": [
    "df_copy.groupby('Administrative_district')[['Record_date']].count()\\\n",
    "                                    .sort_values(by=['Record_date'], ascending=True)\\\n",
    "                                    .plot(kind='barh',\n",
    "                                    figsize=(12,10),\n",
    "                                    fontsize=12,\n",
    "                                    title='Amount of crimes by Administrative districte',\n",
    "                                    xlabel='Administrative district',\n",
    "                                    grid=True);"
   ]
  },
  {
   "cell_type": "code",
   "execution_count": 51,
   "id": "d4c02a34",
   "metadata": {},
   "outputs": [
    {
     "data": {
      "text/html": [
       "<div>\n",
       "<style scoped>\n",
       "    .dataframe tbody tr th:only-of-type {\n",
       "        vertical-align: middle;\n",
       "    }\n",
       "\n",
       "    .dataframe tbody tr th {\n",
       "        vertical-align: top;\n",
       "    }\n",
       "\n",
       "    .dataframe thead th {\n",
       "        text-align: right;\n",
       "    }\n",
       "</style>\n",
       "<table border=\"1\" class=\"dataframe\">\n",
       "  <thead>\n",
       "    <tr style=\"text-align: right;\">\n",
       "      <th></th>\n",
       "      <th>Record_date</th>\n",
       "    </tr>\n",
       "    <tr>\n",
       "      <th>Bike_type</th>\n",
       "      <th></th>\n",
       "    </tr>\n",
       "  </thead>\n",
       "  <tbody>\n",
       "    <tr>\n",
       "      <th>Men</th>\n",
       "      <td>14870</td>\n",
       "    </tr>\n",
       "    <tr>\n",
       "      <th>Women</th>\n",
       "      <td>9416</td>\n",
       "    </tr>\n",
       "    <tr>\n",
       "      <th>Bike</th>\n",
       "      <td>4807</td>\n",
       "    </tr>\n",
       "    <tr>\n",
       "      <th>Mountain</th>\n",
       "      <td>1418</td>\n",
       "    </tr>\n",
       "    <tr>\n",
       "      <th>Child</th>\n",
       "      <td>1265</td>\n",
       "    </tr>\n",
       "    <tr>\n",
       "      <th>Racing</th>\n",
       "      <td>447</td>\n",
       "    </tr>\n",
       "    <tr>\n",
       "      <th>Cargo</th>\n",
       "      <td>47</td>\n",
       "    </tr>\n",
       "  </tbody>\n",
       "</table>\n",
       "</div>"
      ],
      "text/plain": [
       "           Record_date\n",
       "Bike_type             \n",
       "Men              14870\n",
       "Women             9416\n",
       "Bike              4807\n",
       "Mountain          1418\n",
       "Child             1265\n",
       "Racing             447\n",
       "Cargo               47"
      ]
     },
     "execution_count": 51,
     "metadata": {},
     "output_type": "execute_result"
    }
   ],
   "source": [
    "df_copy.groupby('Bike_type')[['Record_date']].count().sort_values(by='Record_date', ascending=False)"
   ]
  },
  {
   "cell_type": "code",
   "execution_count": 52,
   "id": "bc42d867",
   "metadata": {},
   "outputs": [
    {
     "data": {
      "text/html": [
       "<div>\n",
       "<style scoped>\n",
       "    .dataframe tbody tr th:only-of-type {\n",
       "        vertical-align: middle;\n",
       "    }\n",
       "\n",
       "    .dataframe tbody tr th {\n",
       "        vertical-align: top;\n",
       "    }\n",
       "\n",
       "    .dataframe thead th {\n",
       "        text-align: right;\n",
       "    }\n",
       "</style>\n",
       "<table border=\"1\" class=\"dataframe\">\n",
       "  <thead>\n",
       "    <tr style=\"text-align: right;\">\n",
       "      <th></th>\n",
       "      <th>Record_date</th>\n",
       "    </tr>\n",
       "    <tr>\n",
       "      <th>Crime_type</th>\n",
       "      <th></th>\n",
       "    </tr>\n",
       "  </thead>\n",
       "  <tbody>\n",
       "    <tr>\n",
       "      <th>Theft</th>\n",
       "      <td>30874</td>\n",
       "    </tr>\n",
       "    <tr>\n",
       "      <th>Break-in</th>\n",
       "      <td>1396</td>\n",
       "    </tr>\n",
       "  </tbody>\n",
       "</table>\n",
       "</div>"
      ],
      "text/plain": [
       "            Record_date\n",
       "Crime_type             \n",
       "Theft             30874\n",
       "Break-in           1396"
      ]
     },
     "execution_count": 52,
     "metadata": {},
     "output_type": "execute_result"
    }
   ],
   "source": [
    "df_copy.groupby('Crime_type')[['Record_date']].count().sort_values(by='Record_date', ascending=False)"
   ]
  },
  {
   "cell_type": "markdown",
   "id": "f9bf3827",
   "metadata": {},
   "source": [
    "#### Drop column *Record_date*"
   ]
  },
  {
   "cell_type": "code",
   "execution_count": 53,
   "id": "771de333",
   "metadata": {},
   "outputs": [],
   "source": [
    "df.drop([\"Record_date\"], axis=1, inplace=True)"
   ]
  },
  {
   "cell_type": "markdown",
   "id": "1e36dff8",
   "metadata": {},
   "source": [
    "#### Change datetime column type to numeric"
   ]
  },
  {
   "cell_type": "code",
   "execution_count": 54,
   "id": "bb75d6d5",
   "metadata": {},
   "outputs": [],
   "source": [
    "df['Stealing_date'] = pd.to_numeric(pd.to_datetime(df['Stealing_date']))\n",
    "df['Report_stealing_date'] = pd.to_numeric(pd.to_datetime(df['Report_stealing_date']))"
   ]
  },
  {
   "cell_type": "markdown",
   "id": "cdd3d33a",
   "metadata": {},
   "source": [
    "#### Change all column type *object* to DataFrame *category* "
   ]
  },
  {
   "cell_type": "code",
   "execution_count": 55,
   "id": "83746b04",
   "metadata": {},
   "outputs": [],
   "source": [
    "df[[col for col in df.columns if df[col].dtypes == object]] = \\\n",
    "df[[col for col in df.columns if df[col].dtypes == object]].astype('category')"
   ]
  },
  {
   "cell_type": "markdown",
   "id": "20cea676",
   "metadata": {},
   "source": [
    "### Machine Learning prediction modeling"
   ]
  },
  {
   "cell_type": "code",
   "execution_count": 56,
   "id": "f0ba923f",
   "metadata": {},
   "outputs": [],
   "source": [
    "from sklearn import preprocessing\n",
    "from sklearn.model_selection import GridSearchCV\n",
    "from sklearn.preprocessing import StandardScaler\n",
    "from sklearn.model_selection import train_test_split\n",
    "from sklearn.pipeline import Pipeline\n",
    "from sklearn.metrics import classification_report, f1_score, make_scorer\n",
    "from sklearn.compose import ColumnTransformer\n",
    "from sklearn.preprocessing import Normalizer, StandardScaler, OneHotEncoder"
   ]
  },
  {
   "cell_type": "code",
   "execution_count": 84,
   "id": "9251857b",
   "metadata": {},
   "outputs": [],
   "source": [
    "from sklearn.linear_model import LinearRegression\n",
    "from sklearn.naive_bayes import MultinomialNB\n",
    "from sklearn.ensemble import RandomForestClassifier\n",
    "from sklearn.svm import SVC\n",
    "from sklearn.linear_model import LogisticRegression\n",
    "from sklearn.ensemble import GradientBoostingClassifier\n",
    "from sklearn.tree import DecisionTreeClassifier\n",
    "import statistics\n",
    "from sklearn.metrics import accuracy_score, confusion_matrix, ConfusionMatrixDisplay\n",
    "from sklearn.datasets import make_classification\n",
    "from imblearn.over_sampling import RandomOverSampler\n",
    "from imblearn.over_sampling import SMOTE\n",
    "from sklearn.metrics import matthews_corrcoef, average_precision_score, ConfusionMatrixDisplay\n",
    "from sklearn.metrics import roc_auc_score, accuracy_score, recall_score, precision_score, roc_curve\n",
    "import xgboost as xgb\n",
    "from imblearn.over_sampling import RandomOverSampler\n",
    "from sklearn.naive_bayes import GaussianNB\n",
    "from imblearn.combine import SMOTETomek"
   ]
  },
  {
   "cell_type": "markdown",
   "id": "632757ad",
   "metadata": {},
   "source": [
    "#### Split data to 70% train and 30% test (the size of dataset is big almost 31 thousand)"
   ]
  },
  {
   "cell_type": "code",
   "execution_count": 58,
   "id": "ed8f6a2c",
   "metadata": {},
   "outputs": [],
   "source": [
    "X = df.drop(['Unsuccesful_attempt'], axis=1)\n",
    "y = df['Unsuccesful_attempt']"
   ]
  },
  {
   "cell_type": "code",
   "execution_count": 59,
   "id": "f50f3828",
   "metadata": {},
   "outputs": [],
   "source": [
    "X_train, X_test, y_train, y_test = train_test_split(X, y, test_size = 0.40,\n",
    "                                                    random_state = 0)"
   ]
  },
  {
   "cell_type": "markdown",
   "id": "1075f644",
   "metadata": {},
   "source": [
    "#### Transform data to acceptable form for Machine Learning algoritm use *Column Transformer*\n",
    "- OneHotEncoding for category data\n",
    "- StandardScaler for numeric\n",
    "- *Price* column stays the same without any transformation"
   ]
  },
  {
   "cell_type": "code",
   "execution_count": 60,
   "id": "8c717cd9",
   "metadata": {},
   "outputs": [],
   "source": [
    "transformer = ColumnTransformer(transformers=[\n",
    "    ('tnf1', OneHotEncoder(handle_unknown='ignore', sparse=False), [9, 10, 11, 12, 13, 14, 15]),\n",
    "    ('trf2', StandardScaler(), [0, 1, 2, 3, 4, 5, 6])], \n",
    "    remainder='passthrough')\n",
    "\n",
    "X_train = transformer.fit_transform(X_train)\n",
    "\n",
    "X_test = transformer.transform(X_test)"
   ]
  },
  {
   "cell_type": "markdown",
   "id": "07516a65",
   "metadata": {},
   "source": [
    "#### Transform y-variable by LabelEncoder for two classes (0 and 1)\n",
    "##### Project assume crime prediction, but in dataset more than 99% are crime, and only 1% are no crime (*Unsucessfuly_attempt column*). Due to this fact, y-variable are reverse encoding. No crime treat as 0 (normal situation), crime treat as 1 (unnormal situation) \n",
    "- Crime unhappend *(Unsucessfuly attempt == Yes)* = label with number 0 \n",
    "- Crime happend *(Unsucessfuly attempt == No)* = label with number 1 "
   ]
  },
  {
   "cell_type": "code",
   "execution_count": 61,
   "id": "2090add9",
   "metadata": {},
   "outputs": [],
   "source": [
    "le = preprocessing.LabelEncoder()\n",
    "\n",
    "y_train = 1 - le.fit_transform(y_train)\n",
    "\n",
    "y_test = 1 - le.transform(y_test)"
   ]
  },
  {
   "cell_type": "code",
   "execution_count": 62,
   "id": "ad28cfc0",
   "metadata": {},
   "outputs": [
    {
     "data": {
      "text/plain": [
       "array([1, 1, 1, ..., 1, 1, 1])"
      ]
     },
     "execution_count": 62,
     "metadata": {},
     "output_type": "execute_result"
    }
   ],
   "source": [
    "y_train"
   ]
  },
  {
   "cell_type": "markdown",
   "id": "ca073e4c",
   "metadata": {},
   "source": [
    "##### Dataset is highly unbalanced:\n",
    "- 31 706 record are crime *(Unsuccesful_attempt\" == No, so crime happend) - label 1*\n",
    "- 110 record are not crime *(Unsuccesful_attempt\" == Yes, so crime unhappend) - label 0*"
   ]
  },
  {
   "cell_type": "code",
   "execution_count": 63,
   "id": "bf6d4765",
   "metadata": {},
   "outputs": [
    {
     "data": {
      "text/plain": [
       "No     32159\n",
       "Yes      111\n",
       "Name: Unsuccesful_attempt, dtype: int64"
      ]
     },
     "execution_count": 63,
     "metadata": {},
     "output_type": "execute_result"
    }
   ],
   "source": [
    "df[\"Unsuccesful_attempt\"].value_counts()"
   ]
  },
  {
   "cell_type": "code",
   "execution_count": 66,
   "id": "0a098f81",
   "metadata": {},
   "outputs": [
    {
     "data": {
      "image/png": "[encoded data removed]",
      "text/plain": [
       "<Figure size 360x720 with 1 Axes>"
      ]
     },
     "metadata": {},
     "output_type": "display_data"
    }
   ],
   "source": [
    "plt.style.use(\"fivethirtyeight\")\n",
    "fig = plt.figure(figsize=(5, 10))\n",
    "plt.hist(y_train)\n",
    "plt.show()"
   ]
  },
  {
   "cell_type": "markdown",
   "id": "2d6985e7",
   "metadata": {},
   "source": [
    "### SMOTE *(Synthetic minority oversampling technique)* application for minority class\n",
    "#### According to literature SMOTE is better then ordinar oversampling method because algoritm create new data with *information*, contraty ordinar oversampling creat new data by duplicated data from minority class without *information* component  \n",
    "##### Preventing data leakage, SMOTE application is restric only for train dataset"
   ]
  },
  {
   "cell_type": "code",
   "execution_count": 67,
   "id": "0795da37",
   "metadata": {},
   "outputs": [],
   "source": [
    "smote = SMOTE()\n",
    "X_train_oversample, y_train_oversample = smote.fit_resample(X_train, y_train)"
   ]
  },
  {
   "cell_type": "code",
   "execution_count": 68,
   "id": "1e0c04d0",
   "metadata": {},
   "outputs": [
    {
     "data": {
      "image/png": "[encoded data removed]",
      "text/plain": [
       "<Figure size 360x720 with 1 Axes>"
      ]
     },
     "metadata": {},
     "output_type": "display_data"
    }
   ],
   "source": [
    "plt.style.use(\"fivethirtyeight\")\n",
    "fig = plt.figure(figsize=(5, 10))\n",
    "plt.hist(y_train_oversample)\n",
    "plt.show()"
   ]
  },
  {
   "cell_type": "code",
   "execution_count": 69,
   "id": "98562f7d",
   "metadata": {},
   "outputs": [
    {
     "name": "stdout",
     "output_type": "stream",
     "text": [
      "[[   43     0]\n",
      " [ 1160 11705]]\n"
     ]
    }
   ],
   "source": [
    "naive_bayes = GaussianNB()\n",
    "\n",
    "naive_bayes.fit(X_train_oversample, y_train_oversample)\n",
    "\n",
    "y_pred = naive_bayes.predict(X_test)\n",
    "\n",
    "print(confusion_matrix(y_test, y_pred))"
   ]
  },
  {
   "cell_type": "code",
   "execution_count": 99,
   "id": "8369f259",
   "metadata": {},
   "outputs": [
    {
     "data": {
      "text/plain": [
       "<sklearn.metrics._plot.confusion_matrix.ConfusionMatrixDisplay at 0x25a821b7b50>"
      ]
     },
     "execution_count": 99,
     "metadata": {},
     "output_type": "execute_result"
    },
    {
     "data": {
      "image/png": "[encoded data removed]",
      "text/plain": [
       "<Figure size 432x288 with 2 Axes>"
      ]
     },
     "metadata": {},
     "output_type": "display_data"
    }
   ],
   "source": [
    "from sklearn.metrics import plot_confusion_matrix\n",
    " \n",
    "cm = confusion_matrix(y_test, naive_bayes.predict(X_test))\n",
    "disp = ConfusionMatrixDisplay(confusion_matrix=cm)\n",
    "disp.plot()"
   ]
  },
  {
   "cell_type": "code",
   "execution_count": 71,
   "id": "60c6e3fb",
   "metadata": {},
   "outputs": [
    {
     "name": "stdout",
     "output_type": "stream",
     "text": [
      "              precision    recall  f1-score   support\n",
      "\n",
      "           0       0.04      1.00      0.07        43\n",
      "           1       1.00      0.91      0.95     12865\n",
      "\n",
      "    accuracy                           0.91     12908\n",
      "   macro avg       0.52      0.95      0.51     12908\n",
      "weighted avg       1.00      0.91      0.95     12908\n",
      "\n"
     ]
    }
   ],
   "source": [
    "naive_bayes = GaussianNB()\n",
    "\n",
    "naive_bayes.fit(X_train_oversample, y_train_oversample)\n",
    "\n",
    "y_pred = naive_bayes.predict(X_test)\n",
    "\n",
    "print(classification_report(y_test, y_pred))"
   ]
  },
  {
   "cell_type": "code",
   "execution_count": 72,
   "id": "97d6b6ac",
   "metadata": {},
   "outputs": [
    {
     "name": "stdout",
     "output_type": "stream",
     "text": [
      "0.9929301602509061\n"
     ]
    }
   ],
   "source": [
    "naive_bayes = GaussianNB()\n",
    "\n",
    "naive_bayes.fit(X_train_oversample, y_train_oversample)\n",
    "\n",
    "y_pred = naive_bayes.predict_proba(X_test)\n",
    "\n",
    "print(roc_auc_score(y_test, y_pred[:,1]))"
   ]
  },
  {
   "cell_type": "code",
   "execution_count": 76,
   "id": "927d8e86",
   "metadata": {},
   "outputs": [],
   "source": [
    "ns_probs = [0 for _ in range(len(y_test))]\n",
    "\n",
    "ns_fpr, ns_tpr, _ = roc_curve(y_test, ns_probs)\n",
    "lr_fpr, lr_tpr, _ = roc_curve(y_test, naive_bayes.predict_proba(X_test)[:,1])"
   ]
  },
  {
   "cell_type": "code",
   "execution_count": 81,
   "id": "d5e4ef54",
   "metadata": {},
   "outputs": [
    {
     "data": {
      "image/png": "[encoded data removed]",
      "text/plain": [
       "<Figure size 432x288 with 1 Axes>"
      ]
     },
     "metadata": {},
     "output_type": "display_data"
    }
   ],
   "source": [
    "plt.plot(ns_fpr, ns_tpr, linestyle='--', label='No Skill')\n",
    "plt.plot(lr_fpr, lr_tpr, marker='.', label='Logistic')\n",
    "# axis labels\n",
    "plt.xlabel('False Positive Rate')\n",
    "plt.ylabel('True Positive Rate')\n",
    "# show the legend\n",
    "plt.legend()\n",
    "# show the plot\n",
    "plt.show();"
   ]
  },
  {
   "cell_type": "markdown",
   "id": "b2b4e66b",
   "metadata": {},
   "source": [
    "##### Creat simply baseline model with the use a mode statistics, for simply class prediction. This model act as our basline for other ML prediction models"
   ]
  },
  {
   "cell_type": "code",
   "execution_count": 429,
   "id": "79726bf4",
   "metadata": {},
   "outputs": [
    {
     "name": "stdout",
     "output_type": "stream",
     "text": [
      "Accuracy score 99.6%\n"
     ]
    }
   ],
   "source": [
    "baseline_model = statistics.mode(y_train)\n",
    "\n",
    "y_pred_baseline_model = [baseline_model] * len(y_test)\n",
    "\n",
    "score_baseline_model = accuracy_score(y_test, y_pred_baseline_model)\n",
    "\n",
    "print(f'Accuracy score {round(score_baseline_model * 100, 2)}%')"
   ]
  }
 ],
 "metadata": {
  "kernelspec": {
   "display_name": "Python 3 (ipykernel)",
   "language": "python",
   "name": "python3"
  },
  "language_info": {
   "codemirror_mode": {
    "name": "ipython",
    "version": 3
   },
   "file_extension": ".py",
   "mimetype": "text/x-python",
   "name": "python",
   "nbconvert_exporter": "python",
   "pygments_lexer": "ipython3",
   "version": "3.9.7"
  },
  "toc": {
   "base_numbering": 1,
   "nav_menu": {},
   "number_sections": true,
   "sideBar": true,
   "skip_h1_title": false,
   "title_cell": "Table of Contents",
   "title_sidebar": "Contents",
   "toc_cell": false,
   "toc_position": {},
   "toc_section_display": true,
   "toc_window_display": false
  }
 },
 "nbformat": 4,
 "nbformat_minor": 5
}
